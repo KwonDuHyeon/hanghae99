{
  "nbformat": 4,
  "nbformat_minor": 0,
  "metadata": {
    "colab": {
      "provenance": [],
      "include_colab_link": true
    },
    "kernelspec": {
      "name": "python3",
      "display_name": "Python 3"
    },
    "language_info": {
      "name": "python"
    }
  },
  "cells": [
    {
      "cell_type": "markdown",
      "metadata": {
        "id": "view-in-github",
        "colab_type": "text"
      },
      "source": [
        "<a href=\"https://colab.research.google.com/github/KwonDuHyeon/hanghae99/blob/main/5%EC%A3%BC%EC%B0%A8_%EA%B8%B0%EB%B3%B8%EA%B3%BC%EC%A0%9C(%EA%B6%8C%EB%91%90%ED%98%84).ipynb\" target=\"_parent\"><img src=\"https://colab.research.google.com/assets/colab-badge.svg\" alt=\"Open In Colab\"/></a>"
      ]
    },
    {
      "cell_type": "code",
      "execution_count": null,
      "metadata": {
        "colab": {
          "base_uri": "https://localhost:8080/"
        },
        "id": "TwaANvAGIwl4",
        "outputId": "207ca630-5a19-4a7d-cf53-aae8d3e72dac"
      },
      "outputs": [
        {
          "output_type": "stream",
          "name": "stdout",
          "text": [
            "Requirement already satisfied: langchain-community in /home/harry/anaconda3/envs/hanghae/lib/python3.9/site-packages (0.3.14)\r\n",
            "Requirement already satisfied: langchain-chroma in /home/harry/anaconda3/envs/hanghae/lib/python3.9/site-packages (0.2.0)\r\n",
            "Requirement already satisfied: langchain-openai in /home/harry/anaconda3/envs/hanghae/lib/python3.9/site-packages (0.3.0)\r\n",
            "Requirement already satisfied: bs4 in /home/harry/anaconda3/envs/hanghae/lib/python3.9/site-packages (0.0.2)\r\n",
            "Requirement already satisfied: PyYAML>=5.3 in /home/harry/anaconda3/envs/hanghae/lib/python3.9/site-packages (from langchain-community) (6.0.2)\r\n",
            "Requirement already satisfied: SQLAlchemy<3,>=1.4 in /home/harry/anaconda3/envs/hanghae/lib/python3.9/site-packages (from langchain-community) (2.0.37)\r\n",
            "Requirement already satisfied: aiohttp<4.0.0,>=3.8.3 in /home/harry/anaconda3/envs/hanghae/lib/python3.9/site-packages (from langchain-community) (3.11.11)\r\n",
            "Requirement already satisfied: dataclasses-json<0.7,>=0.5.7 in /home/harry/anaconda3/envs/hanghae/lib/python3.9/site-packages (from langchain-community) (0.6.7)\r\n",
            "Requirement already satisfied: httpx-sse<0.5.0,>=0.4.0 in /home/harry/anaconda3/envs/hanghae/lib/python3.9/site-packages (from langchain-community) (0.4.0)\r\n",
            "Requirement already satisfied: langchain<0.4.0,>=0.3.14 in /home/harry/anaconda3/envs/hanghae/lib/python3.9/site-packages (from langchain-community) (0.3.14)\r\n",
            "Requirement already satisfied: langchain-core<0.4.0,>=0.3.29 in /home/harry/anaconda3/envs/hanghae/lib/python3.9/site-packages (from langchain-community) (0.3.29)\r\n",
            "Requirement already satisfied: langsmith<0.3,>=0.1.125 in /home/harry/anaconda3/envs/hanghae/lib/python3.9/site-packages (from langchain-community) (0.2.10)\r\n",
            "Requirement already satisfied: numpy<2,>=1.22.4 in /home/harry/anaconda3/envs/hanghae/lib/python3.9/site-packages (from langchain-community) (1.26.4)\r\n",
            "Requirement already satisfied: pydantic-settings<3.0.0,>=2.4.0 in /home/harry/anaconda3/envs/hanghae/lib/python3.9/site-packages (from langchain-community) (2.7.1)\r\n",
            "Requirement already satisfied: requests<3,>=2 in /home/harry/anaconda3/envs/hanghae/lib/python3.9/site-packages (from langchain-community) (2.32.3)\r\n",
            "Requirement already satisfied: tenacity!=8.4.0,<10,>=8.1.0 in /home/harry/anaconda3/envs/hanghae/lib/python3.9/site-packages (from langchain-community) (9.0.0)\r\n",
            "Requirement already satisfied: chromadb!=0.5.10,!=0.5.11,!=0.5.12,!=0.5.4,!=0.5.5,!=0.5.7,!=0.5.9,<0.6.0,>=0.4.0 in /home/harry/anaconda3/envs/hanghae/lib/python3.9/site-packages (from langchain-chroma) (0.5.23)\r\n",
            "Requirement already satisfied: fastapi<1,>=0.95.2 in /home/harry/anaconda3/envs/hanghae/lib/python3.9/site-packages (from langchain-chroma) (0.115.6)\r\n",
            "Requirement already satisfied: openai<2.0.0,>=1.58.1 in /home/harry/anaconda3/envs/hanghae/lib/python3.9/site-packages (from langchain-openai) (1.59.7)\r\n",
            "Requirement already satisfied: tiktoken<1,>=0.7 in /home/harry/anaconda3/envs/hanghae/lib/python3.9/site-packages (from langchain-openai) (0.8.0)\r\n",
            "Requirement already satisfied: beautifulsoup4 in /home/harry/anaconda3/envs/hanghae/lib/python3.9/site-packages (from bs4) (4.12.3)\r\n",
            "Requirement already satisfied: aiohappyeyeballs>=2.3.0 in /home/harry/anaconda3/envs/hanghae/lib/python3.9/site-packages (from aiohttp<4.0.0,>=3.8.3->langchain-community) (2.4.4)\r\n",
            "Requirement already satisfied: aiosignal>=1.1.2 in /home/harry/anaconda3/envs/hanghae/lib/python3.9/site-packages (from aiohttp<4.0.0,>=3.8.3->langchain-community) (1.3.2)\r\n",
            "Requirement already satisfied: async-timeout<6.0,>=4.0 in /home/harry/anaconda3/envs/hanghae/lib/python3.9/site-packages (from aiohttp<4.0.0,>=3.8.3->langchain-community) (4.0.3)\r\n",
            "Requirement already satisfied: attrs>=17.3.0 in /home/harry/anaconda3/envs/hanghae/lib/python3.9/site-packages (from aiohttp<4.0.0,>=3.8.3->langchain-community) (24.3.0)\r\n",
            "Requirement already satisfied: frozenlist>=1.1.1 in /home/harry/anaconda3/envs/hanghae/lib/python3.9/site-packages (from aiohttp<4.0.0,>=3.8.3->langchain-community) (1.5.0)\r\n",
            "Requirement already satisfied: multidict<7.0,>=4.5 in /home/harry/anaconda3/envs/hanghae/lib/python3.9/site-packages (from aiohttp<4.0.0,>=3.8.3->langchain-community) (6.1.0)\r\n",
            "Requirement already satisfied: propcache>=0.2.0 in /home/harry/anaconda3/envs/hanghae/lib/python3.9/site-packages (from aiohttp<4.0.0,>=3.8.3->langchain-community) (0.2.1)\r\n",
            "Requirement already satisfied: yarl<2.0,>=1.17.0 in /home/harry/anaconda3/envs/hanghae/lib/python3.9/site-packages (from aiohttp<4.0.0,>=3.8.3->langchain-community) (1.18.3)\r\n",
            "Requirement already satisfied: build>=1.0.3 in /home/harry/anaconda3/envs/hanghae/lib/python3.9/site-packages (from chromadb!=0.5.10,!=0.5.11,!=0.5.12,!=0.5.4,!=0.5.5,!=0.5.7,!=0.5.9,<0.6.0,>=0.4.0->langchain-chroma) (1.2.2.post1)\r\n",
            "Requirement already satisfied: pydantic>=1.9 in /home/harry/anaconda3/envs/hanghae/lib/python3.9/site-packages (from chromadb!=0.5.10,!=0.5.11,!=0.5.12,!=0.5.4,!=0.5.5,!=0.5.7,!=0.5.9,<0.6.0,>=0.4.0->langchain-chroma) (2.10.4)\r\n",
            "Requirement already satisfied: chroma-hnswlib==0.7.6 in /home/harry/anaconda3/envs/hanghae/lib/python3.9/site-packages (from chromadb!=0.5.10,!=0.5.11,!=0.5.12,!=0.5.4,!=0.5.5,!=0.5.7,!=0.5.9,<0.6.0,>=0.4.0->langchain-chroma) (0.7.6)\r\n",
            "Requirement already satisfied: uvicorn>=0.18.3 in /home/harry/anaconda3/envs/hanghae/lib/python3.9/site-packages (from uvicorn[standard]>=0.18.3->chromadb!=0.5.10,!=0.5.11,!=0.5.12,!=0.5.4,!=0.5.5,!=0.5.7,!=0.5.9,<0.6.0,>=0.4.0->langchain-chroma) (0.34.0)\r\n",
            "Requirement already satisfied: posthog>=2.4.0 in /home/harry/anaconda3/envs/hanghae/lib/python3.9/site-packages (from chromadb!=0.5.10,!=0.5.11,!=0.5.12,!=0.5.4,!=0.5.5,!=0.5.7,!=0.5.9,<0.6.0,>=0.4.0->langchain-chroma) (3.8.3)\r\n",
            "Requirement already satisfied: typing_extensions>=4.5.0 in /home/harry/anaconda3/envs/hanghae/lib/python3.9/site-packages (from chromadb!=0.5.10,!=0.5.11,!=0.5.12,!=0.5.4,!=0.5.5,!=0.5.7,!=0.5.9,<0.6.0,>=0.4.0->langchain-chroma) (4.12.2)\r\n",
            "Requirement already satisfied: onnxruntime>=1.14.1 in /home/harry/anaconda3/envs/hanghae/lib/python3.9/site-packages (from chromadb!=0.5.10,!=0.5.11,!=0.5.12,!=0.5.4,!=0.5.5,!=0.5.7,!=0.5.9,<0.6.0,>=0.4.0->langchain-chroma) (1.19.2)\r\n",
            "Requirement already satisfied: opentelemetry-api>=1.2.0 in /home/harry/anaconda3/envs/hanghae/lib/python3.9/site-packages (from chromadb!=0.5.10,!=0.5.11,!=0.5.12,!=0.5.4,!=0.5.5,!=0.5.7,!=0.5.9,<0.6.0,>=0.4.0->langchain-chroma) (1.29.0)\r\n",
            "Requirement already satisfied: opentelemetry-exporter-otlp-proto-grpc>=1.2.0 in /home/harry/anaconda3/envs/hanghae/lib/python3.9/site-packages (from chromadb!=0.5.10,!=0.5.11,!=0.5.12,!=0.5.4,!=0.5.5,!=0.5.7,!=0.5.9,<0.6.0,>=0.4.0->langchain-chroma) (1.29.0)\r\n",
            "Requirement already satisfied: opentelemetry-instrumentation-fastapi>=0.41b0 in /home/harry/anaconda3/envs/hanghae/lib/python3.9/site-packages (from chromadb!=0.5.10,!=0.5.11,!=0.5.12,!=0.5.4,!=0.5.5,!=0.5.7,!=0.5.9,<0.6.0,>=0.4.0->langchain-chroma) (0.50b0)\r\n",
            "Requirement already satisfied: opentelemetry-sdk>=1.2.0 in /home/harry/anaconda3/envs/hanghae/lib/python3.9/site-packages (from chromadb!=0.5.10,!=0.5.11,!=0.5.12,!=0.5.4,!=0.5.5,!=0.5.7,!=0.5.9,<0.6.0,>=0.4.0->langchain-chroma) (1.29.0)\r\n",
            "Requirement already satisfied: tokenizers<=0.20.3,>=0.13.2 in /home/harry/anaconda3/envs/hanghae/lib/python3.9/site-packages (from chromadb!=0.5.10,!=0.5.11,!=0.5.12,!=0.5.4,!=0.5.5,!=0.5.7,!=0.5.9,<0.6.0,>=0.4.0->langchain-chroma) (0.20.3)\r\n",
            "Requirement already satisfied: pypika>=0.48.9 in /home/harry/anaconda3/envs/hanghae/lib/python3.9/site-packages (from chromadb!=0.5.10,!=0.5.11,!=0.5.12,!=0.5.4,!=0.5.5,!=0.5.7,!=0.5.9,<0.6.0,>=0.4.0->langchain-chroma) (0.48.9)\r\n",
            "Requirement already satisfied: tqdm>=4.65.0 in /home/harry/anaconda3/envs/hanghae/lib/python3.9/site-packages (from chromadb!=0.5.10,!=0.5.11,!=0.5.12,!=0.5.4,!=0.5.5,!=0.5.7,!=0.5.9,<0.6.0,>=0.4.0->langchain-chroma) (4.67.1)\r\n",
            "Requirement already satisfied: overrides>=7.3.1 in /home/harry/anaconda3/envs/hanghae/lib/python3.9/site-packages (from chromadb!=0.5.10,!=0.5.11,!=0.5.12,!=0.5.4,!=0.5.5,!=0.5.7,!=0.5.9,<0.6.0,>=0.4.0->langchain-chroma) (7.7.0)\r\n",
            "Requirement already satisfied: importlib-resources in /home/harry/anaconda3/envs/hanghae/lib/python3.9/site-packages (from chromadb!=0.5.10,!=0.5.11,!=0.5.12,!=0.5.4,!=0.5.5,!=0.5.7,!=0.5.9,<0.6.0,>=0.4.0->langchain-chroma) (6.5.2)\r\n",
            "Requirement already satisfied: grpcio>=1.58.0 in /home/harry/anaconda3/envs/hanghae/lib/python3.9/site-packages (from chromadb!=0.5.10,!=0.5.11,!=0.5.12,!=0.5.4,!=0.5.5,!=0.5.7,!=0.5.9,<0.6.0,>=0.4.0->langchain-chroma) (1.69.0)\r\n",
            "Requirement already satisfied: bcrypt>=4.0.1 in /home/harry/anaconda3/envs/hanghae/lib/python3.9/site-packages (from chromadb!=0.5.10,!=0.5.11,!=0.5.12,!=0.5.4,!=0.5.5,!=0.5.7,!=0.5.9,<0.6.0,>=0.4.0->langchain-chroma) (4.2.1)\r\n",
            "Requirement already satisfied: typer>=0.9.0 in /home/harry/anaconda3/envs/hanghae/lib/python3.9/site-packages (from chromadb!=0.5.10,!=0.5.11,!=0.5.12,!=0.5.4,!=0.5.5,!=0.5.7,!=0.5.9,<0.6.0,>=0.4.0->langchain-chroma) (0.15.1)\r\n",
            "Requirement already satisfied: kubernetes>=28.1.0 in /home/harry/anaconda3/envs/hanghae/lib/python3.9/site-packages (from chromadb!=0.5.10,!=0.5.11,!=0.5.12,!=0.5.4,!=0.5.5,!=0.5.7,!=0.5.9,<0.6.0,>=0.4.0->langchain-chroma) (31.0.0)\r\n",
            "Requirement already satisfied: mmh3>=4.0.1 in /home/harry/anaconda3/envs/hanghae/lib/python3.9/site-packages (from chromadb!=0.5.10,!=0.5.11,!=0.5.12,!=0.5.4,!=0.5.5,!=0.5.7,!=0.5.9,<0.6.0,>=0.4.0->langchain-chroma) (5.0.1)\r\n",
            "Requirement already satisfied: orjson>=3.9.12 in /home/harry/anaconda3/envs/hanghae/lib/python3.9/site-packages (from chromadb!=0.5.10,!=0.5.11,!=0.5.12,!=0.5.4,!=0.5.5,!=0.5.7,!=0.5.9,<0.6.0,>=0.4.0->langchain-chroma) (3.10.14)\r\n",
            "Requirement already satisfied: httpx>=0.27.0 in /home/harry/anaconda3/envs/hanghae/lib/python3.9/site-packages (from chromadb!=0.5.10,!=0.5.11,!=0.5.12,!=0.5.4,!=0.5.5,!=0.5.7,!=0.5.9,<0.6.0,>=0.4.0->langchain-chroma) (0.28.1)\r\n",
            "Requirement already satisfied: rich>=10.11.0 in /home/harry/anaconda3/envs/hanghae/lib/python3.9/site-packages (from chromadb!=0.5.10,!=0.5.11,!=0.5.12,!=0.5.4,!=0.5.5,!=0.5.7,!=0.5.9,<0.6.0,>=0.4.0->langchain-chroma) (13.9.4)\r\n",
            "Requirement already satisfied: marshmallow<4.0.0,>=3.18.0 in /home/harry/anaconda3/envs/hanghae/lib/python3.9/site-packages (from dataclasses-json<0.7,>=0.5.7->langchain-community) (3.25.1)\r\n",
            "Requirement already satisfied: typing-inspect<1,>=0.4.0 in /home/harry/anaconda3/envs/hanghae/lib/python3.9/site-packages (from dataclasses-json<0.7,>=0.5.7->langchain-community) (0.9.0)\n",
            "Requirement already satisfied: starlette<0.42.0,>=0.40.0 in /home/harry/anaconda3/envs/hanghae/lib/python3.9/site-packages (from fastapi<1,>=0.95.2->langchain-chroma) (0.41.3)\n",
            "Requirement already satisfied: langchain-text-splitters<0.4.0,>=0.3.3 in /home/harry/anaconda3/envs/hanghae/lib/python3.9/site-packages (from langchain<0.4.0,>=0.3.14->langchain-community) (0.3.5)\n",
            "Requirement already satisfied: jsonpatch<2.0,>=1.33 in /home/harry/anaconda3/envs/hanghae/lib/python3.9/site-packages (from langchain-core<0.4.0,>=0.3.29->langchain-community) (1.33)\n",
            "Requirement already satisfied: packaging<25,>=23.2 in /home/harry/anaconda3/envs/hanghae/lib/python3.9/site-packages (from langchain-core<0.4.0,>=0.3.29->langchain-community) (24.2)\n",
            "Requirement already satisfied: requests-toolbelt<2.0.0,>=1.0.0 in /home/harry/anaconda3/envs/hanghae/lib/python3.9/site-packages (from langsmith<0.3,>=0.1.125->langchain-community) (1.0.0)\n",
            "Requirement already satisfied: anyio<5,>=3.5.0 in /home/harry/anaconda3/envs/hanghae/lib/python3.9/site-packages (from openai<2.0.0,>=1.58.1->langchain-openai) (4.8.0)\n",
            "Requirement already satisfied: distro<2,>=1.7.0 in /home/harry/anaconda3/envs/hanghae/lib/python3.9/site-packages (from openai<2.0.0,>=1.58.1->langchain-openai) (1.9.0)\n",
            "Requirement already satisfied: jiter<1,>=0.4.0 in /home/harry/anaconda3/envs/hanghae/lib/python3.9/site-packages (from openai<2.0.0,>=1.58.1->langchain-openai) (0.8.2)\n",
            "Requirement already satisfied: sniffio in /home/harry/anaconda3/envs/hanghae/lib/python3.9/site-packages (from openai<2.0.0,>=1.58.1->langchain-openai) (1.3.1)\n",
            "Requirement already satisfied: python-dotenv>=0.21.0 in /home/harry/anaconda3/envs/hanghae/lib/python3.9/site-packages (from pydantic-settings<3.0.0,>=2.4.0->langchain-community) (1.0.1)\n",
            "Requirement already satisfied: charset-normalizer<4,>=2 in /home/harry/anaconda3/envs/hanghae/lib/python3.9/site-packages (from requests<3,>=2->langchain-community) (3.3.2)\n",
            "Requirement already satisfied: idna<4,>=2.5 in /home/harry/anaconda3/envs/hanghae/lib/python3.9/site-packages (from requests<3,>=2->langchain-community) (3.7)\n",
            "Requirement already satisfied: urllib3<3,>=1.21.1 in /home/harry/anaconda3/envs/hanghae/lib/python3.9/site-packages (from requests<3,>=2->langchain-community) (1.26.20)\n",
            "Requirement already satisfied: certifi>=2017.4.17 in /home/harry/anaconda3/envs/hanghae/lib/python3.9/site-packages (from requests<3,>=2->langchain-community) (2024.12.14)\n",
            "Requirement already satisfied: greenlet!=0.4.17 in /home/harry/anaconda3/envs/hanghae/lib/python3.9/site-packages (from SQLAlchemy<3,>=1.4->langchain-community) (3.1.1)\n",
            "Requirement already satisfied: regex>=2022.1.18 in /home/harry/anaconda3/envs/hanghae/lib/python3.9/site-packages (from tiktoken<1,>=0.7->langchain-openai) (2024.11.6)\n",
            "Requirement already satisfied: soupsieve>1.2 in /home/harry/anaconda3/envs/hanghae/lib/python3.9/site-packages (from beautifulsoup4->bs4) (2.6)\n",
            "Requirement already satisfied: exceptiongroup>=1.0.2 in /home/harry/anaconda3/envs/hanghae/lib/python3.9/site-packages (from anyio<5,>=3.5.0->openai<2.0.0,>=1.58.1->langchain-openai) (1.2.2)\n",
            "Requirement already satisfied: pyproject_hooks in /home/harry/anaconda3/envs/hanghae/lib/python3.9/site-packages (from build>=1.0.3->chromadb!=0.5.10,!=0.5.11,!=0.5.12,!=0.5.4,!=0.5.5,!=0.5.7,!=0.5.9,<0.6.0,>=0.4.0->langchain-chroma) (1.2.0)\n",
            "Requirement already satisfied: importlib-metadata>=4.6 in /home/harry/anaconda3/envs/hanghae/lib/python3.9/site-packages (from build>=1.0.3->chromadb!=0.5.10,!=0.5.11,!=0.5.12,!=0.5.4,!=0.5.5,!=0.5.7,!=0.5.9,<0.6.0,>=0.4.0->langchain-chroma) (8.5.0)\n",
            "Requirement already satisfied: tomli>=1.1.0 in /home/harry/anaconda3/envs/hanghae/lib/python3.9/site-packages (from build>=1.0.3->chromadb!=0.5.10,!=0.5.11,!=0.5.12,!=0.5.4,!=0.5.5,!=0.5.7,!=0.5.9,<0.6.0,>=0.4.0->langchain-chroma) (2.2.1)\n",
            "Requirement already satisfied: httpcore==1.* in /home/harry/anaconda3/envs/hanghae/lib/python3.9/site-packages (from httpx>=0.27.0->chromadb!=0.5.10,!=0.5.11,!=0.5.12,!=0.5.4,!=0.5.5,!=0.5.7,!=0.5.9,<0.6.0,>=0.4.0->langchain-chroma) (1.0.7)\n",
            "Requirement already satisfied: h11<0.15,>=0.13 in /home/harry/anaconda3/envs/hanghae/lib/python3.9/site-packages (from httpcore==1.*->httpx>=0.27.0->chromadb!=0.5.10,!=0.5.11,!=0.5.12,!=0.5.4,!=0.5.5,!=0.5.7,!=0.5.9,<0.6.0,>=0.4.0->langchain-chroma) (0.14.0)\n",
            "Requirement already satisfied: jsonpointer>=1.9 in /home/harry/anaconda3/envs/hanghae/lib/python3.9/site-packages (from jsonpatch<2.0,>=1.33->langchain-core<0.4.0,>=0.3.29->langchain-community) (3.0.0)\n",
            "Requirement already satisfied: six>=1.9.0 in /home/harry/anaconda3/envs/hanghae/lib/python3.9/site-packages (from kubernetes>=28.1.0->chromadb!=0.5.10,!=0.5.11,!=0.5.12,!=0.5.4,!=0.5.5,!=0.5.7,!=0.5.9,<0.6.0,>=0.4.0->langchain-chroma) (1.17.0)\n",
            "Requirement already satisfied: python-dateutil>=2.5.3 in /home/harry/anaconda3/envs/hanghae/lib/python3.9/site-packages (from kubernetes>=28.1.0->chromadb!=0.5.10,!=0.5.11,!=0.5.12,!=0.5.4,!=0.5.5,!=0.5.7,!=0.5.9,<0.6.0,>=0.4.0->langchain-chroma) (2.9.0.post0)\n",
            "Requirement already satisfied: google-auth>=1.0.1 in /home/harry/anaconda3/envs/hanghae/lib/python3.9/site-packages (from kubernetes>=28.1.0->chromadb!=0.5.10,!=0.5.11,!=0.5.12,!=0.5.4,!=0.5.5,!=0.5.7,!=0.5.9,<0.6.0,>=0.4.0->langchain-chroma) (2.37.0)\n",
            "Requirement already satisfied: websocket-client!=0.40.0,!=0.41.*,!=0.42.*,>=0.32.0 in /home/harry/anaconda3/envs/hanghae/lib/python3.9/site-packages (from kubernetes>=28.1.0->chromadb!=0.5.10,!=0.5.11,!=0.5.12,!=0.5.4,!=0.5.5,!=0.5.7,!=0.5.9,<0.6.0,>=0.4.0->langchain-chroma) (1.8.0)\n",
            "Requirement already satisfied: requests-oauthlib in /home/harry/anaconda3/envs/hanghae/lib/python3.9/site-packages (from kubernetes>=28.1.0->chromadb!=0.5.10,!=0.5.11,!=0.5.12,!=0.5.4,!=0.5.5,!=0.5.7,!=0.5.9,<0.6.0,>=0.4.0->langchain-chroma) (2.0.0)\n",
            "Requirement already satisfied: oauthlib>=3.2.2 in /home/harry/anaconda3/envs/hanghae/lib/python3.9/site-packages (from kubernetes>=28.1.0->chromadb!=0.5.10,!=0.5.11,!=0.5.12,!=0.5.4,!=0.5.5,!=0.5.7,!=0.5.9,<0.6.0,>=0.4.0->langchain-chroma) (3.2.2)\n",
            "Requirement already satisfied: durationpy>=0.7 in /home/harry/anaconda3/envs/hanghae/lib/python3.9/site-packages (from kubernetes>=28.1.0->chromadb!=0.5.10,!=0.5.11,!=0.5.12,!=0.5.4,!=0.5.5,!=0.5.7,!=0.5.9,<0.6.0,>=0.4.0->langchain-chroma) (0.9)\n",
            "Requirement already satisfied: coloredlogs in /home/harry/anaconda3/envs/hanghae/lib/python3.9/site-packages (from onnxruntime>=1.14.1->chromadb!=0.5.10,!=0.5.11,!=0.5.12,!=0.5.4,!=0.5.5,!=0.5.7,!=0.5.9,<0.6.0,>=0.4.0->langchain-chroma) (15.0.1)\n",
            "Requirement already satisfied: flatbuffers in /home/harry/anaconda3/envs/hanghae/lib/python3.9/site-packages (from onnxruntime>=1.14.1->chromadb!=0.5.10,!=0.5.11,!=0.5.12,!=0.5.4,!=0.5.5,!=0.5.7,!=0.5.9,<0.6.0,>=0.4.0->langchain-chroma) (24.12.23)\n",
            "Requirement already satisfied: protobuf in /home/harry/anaconda3/envs/hanghae/lib/python3.9/site-packages (from onnxruntime>=1.14.1->chromadb!=0.5.10,!=0.5.11,!=0.5.12,!=0.5.4,!=0.5.5,!=0.5.7,!=0.5.9,<0.6.0,>=0.4.0->langchain-chroma) (5.29.2)\n",
            "Requirement already satisfied: sympy in /home/harry/anaconda3/envs/hanghae/lib/python3.9/site-packages (from onnxruntime>=1.14.1->chromadb!=0.5.10,!=0.5.11,!=0.5.12,!=0.5.4,!=0.5.5,!=0.5.7,!=0.5.9,<0.6.0,>=0.4.0->langchain-chroma) (1.13.3)\n",
            "Requirement already satisfied: deprecated>=1.2.6 in /home/harry/anaconda3/envs/hanghae/lib/python3.9/site-packages (from opentelemetry-api>=1.2.0->chromadb!=0.5.10,!=0.5.11,!=0.5.12,!=0.5.4,!=0.5.5,!=0.5.7,!=0.5.9,<0.6.0,>=0.4.0->langchain-chroma) (1.2.15)\n",
            "Requirement already satisfied: googleapis-common-protos~=1.52 in /home/harry/anaconda3/envs/hanghae/lib/python3.9/site-packages (from opentelemetry-exporter-otlp-proto-grpc>=1.2.0->chromadb!=0.5.10,!=0.5.11,!=0.5.12,!=0.5.4,!=0.5.5,!=0.5.7,!=0.5.9,<0.6.0,>=0.4.0->langchain-chroma) (1.66.0)\n",
            "Requirement already satisfied: opentelemetry-exporter-otlp-proto-common==1.29.0 in /home/harry/anaconda3/envs/hanghae/lib/python3.9/site-packages (from opentelemetry-exporter-otlp-proto-grpc>=1.2.0->chromadb!=0.5.10,!=0.5.11,!=0.5.12,!=0.5.4,!=0.5.5,!=0.5.7,!=0.5.9,<0.6.0,>=0.4.0->langchain-chroma) (1.29.0)\n",
            "Requirement already satisfied: opentelemetry-proto==1.29.0 in /home/harry/anaconda3/envs/hanghae/lib/python3.9/site-packages (from opentelemetry-exporter-otlp-proto-grpc>=1.2.0->chromadb!=0.5.10,!=0.5.11,!=0.5.12,!=0.5.4,!=0.5.5,!=0.5.7,!=0.5.9,<0.6.0,>=0.4.0->langchain-chroma) (1.29.0)\n",
            "Requirement already satisfied: opentelemetry-instrumentation-asgi==0.50b0 in /home/harry/anaconda3/envs/hanghae/lib/python3.9/site-packages (from opentelemetry-instrumentation-fastapi>=0.41b0->chromadb!=0.5.10,!=0.5.11,!=0.5.12,!=0.5.4,!=0.5.5,!=0.5.7,!=0.5.9,<0.6.0,>=0.4.0->langchain-chroma) (0.50b0)\n",
            "Requirement already satisfied: opentelemetry-instrumentation==0.50b0 in /home/harry/anaconda3/envs/hanghae/lib/python3.9/site-packages (from opentelemetry-instrumentation-fastapi>=0.41b0->chromadb!=0.5.10,!=0.5.11,!=0.5.12,!=0.5.4,!=0.5.5,!=0.5.7,!=0.5.9,<0.6.0,>=0.4.0->langchain-chroma) (0.50b0)\n",
            "Requirement already satisfied: opentelemetry-semantic-conventions==0.50b0 in /home/harry/anaconda3/envs/hanghae/lib/python3.9/site-packages (from opentelemetry-instrumentation-fastapi>=0.41b0->chromadb!=0.5.10,!=0.5.11,!=0.5.12,!=0.5.4,!=0.5.5,!=0.5.7,!=0.5.9,<0.6.0,>=0.4.0->langchain-chroma) (0.50b0)\n",
            "Requirement already satisfied: opentelemetry-util-http==0.50b0 in /home/harry/anaconda3/envs/hanghae/lib/python3.9/site-packages (from opentelemetry-instrumentation-fastapi>=0.41b0->chromadb!=0.5.10,!=0.5.11,!=0.5.12,!=0.5.4,!=0.5.5,!=0.5.7,!=0.5.9,<0.6.0,>=0.4.0->langchain-chroma) (0.50b0)\n",
            "Requirement already satisfied: wrapt<2.0.0,>=1.0.0 in /home/harry/anaconda3/envs/hanghae/lib/python3.9/site-packages (from opentelemetry-instrumentation==0.50b0->opentelemetry-instrumentation-fastapi>=0.41b0->chromadb!=0.5.10,!=0.5.11,!=0.5.12,!=0.5.4,!=0.5.5,!=0.5.7,!=0.5.9,<0.6.0,>=0.4.0->langchain-chroma) (1.17.2)\n",
            "Requirement already satisfied: asgiref~=3.0 in /home/harry/anaconda3/envs/hanghae/lib/python3.9/site-packages (from opentelemetry-instrumentation-asgi==0.50b0->opentelemetry-instrumentation-fastapi>=0.41b0->chromadb!=0.5.10,!=0.5.11,!=0.5.12,!=0.5.4,!=0.5.5,!=0.5.7,!=0.5.9,<0.6.0,>=0.4.0->langchain-chroma) (3.8.1)\n",
            "Requirement already satisfied: monotonic>=1.5 in /home/harry/anaconda3/envs/hanghae/lib/python3.9/site-packages (from posthog>=2.4.0->chromadb!=0.5.10,!=0.5.11,!=0.5.12,!=0.5.4,!=0.5.5,!=0.5.7,!=0.5.9,<0.6.0,>=0.4.0->langchain-chroma) (1.6)\n",
            "Requirement already satisfied: backoff>=1.10.0 in /home/harry/anaconda3/envs/hanghae/lib/python3.9/site-packages (from posthog>=2.4.0->chromadb!=0.5.10,!=0.5.11,!=0.5.12,!=0.5.4,!=0.5.5,!=0.5.7,!=0.5.9,<0.6.0,>=0.4.0->langchain-chroma) (2.2.1)\n",
            "Requirement already satisfied: annotated-types>=0.6.0 in /home/harry/anaconda3/envs/hanghae/lib/python3.9/site-packages (from pydantic>=1.9->chromadb!=0.5.10,!=0.5.11,!=0.5.12,!=0.5.4,!=0.5.5,!=0.5.7,!=0.5.9,<0.6.0,>=0.4.0->langchain-chroma) (0.7.0)\n",
            "Requirement already satisfied: pydantic-core==2.27.2 in /home/harry/anaconda3/envs/hanghae/lib/python3.9/site-packages (from pydantic>=1.9->chromadb!=0.5.10,!=0.5.11,!=0.5.12,!=0.5.4,!=0.5.5,!=0.5.7,!=0.5.9,<0.6.0,>=0.4.0->langchain-chroma) (2.27.2)\n",
            "Requirement already satisfied: markdown-it-py>=2.2.0 in /home/harry/anaconda3/envs/hanghae/lib/python3.9/site-packages (from rich>=10.11.0->chromadb!=0.5.10,!=0.5.11,!=0.5.12,!=0.5.4,!=0.5.5,!=0.5.7,!=0.5.9,<0.6.0,>=0.4.0->langchain-chroma) (3.0.0)\n",
            "Requirement already satisfied: pygments<3.0.0,>=2.13.0 in /home/harry/anaconda3/envs/hanghae/lib/python3.9/site-packages (from rich>=10.11.0->chromadb!=0.5.10,!=0.5.11,!=0.5.12,!=0.5.4,!=0.5.5,!=0.5.7,!=0.5.9,<0.6.0,>=0.4.0->langchain-chroma) (2.19.1)\n",
            "Requirement already satisfied: huggingface-hub<1.0,>=0.16.4 in /home/harry/anaconda3/envs/hanghae/lib/python3.9/site-packages (from tokenizers<=0.20.3,>=0.13.2->chromadb!=0.5.10,!=0.5.11,!=0.5.12,!=0.5.4,!=0.5.5,!=0.5.7,!=0.5.9,<0.6.0,>=0.4.0->langchain-chroma) (0.27.1)\n",
            "Requirement already satisfied: click>=8.0.0 in /home/harry/anaconda3/envs/hanghae/lib/python3.9/site-packages (from typer>=0.9.0->chromadb!=0.5.10,!=0.5.11,!=0.5.12,!=0.5.4,!=0.5.5,!=0.5.7,!=0.5.9,<0.6.0,>=0.4.0->langchain-chroma) (8.1.8)\n",
            "Requirement already satisfied: shellingham>=1.3.0 in /home/harry/anaconda3/envs/hanghae/lib/python3.9/site-packages (from typer>=0.9.0->chromadb!=0.5.10,!=0.5.11,!=0.5.12,!=0.5.4,!=0.5.5,!=0.5.7,!=0.5.9,<0.6.0,>=0.4.0->langchain-chroma) (1.5.4)\n",
            "Requirement already satisfied: mypy-extensions>=0.3.0 in /home/harry/anaconda3/envs/hanghae/lib/python3.9/site-packages (from typing-inspect<1,>=0.4.0->dataclasses-json<0.7,>=0.5.7->langchain-community) (1.0.0)\n",
            "Requirement already satisfied: httptools>=0.6.3 in /home/harry/anaconda3/envs/hanghae/lib/python3.9/site-packages (from uvicorn[standard]>=0.18.3->chromadb!=0.5.10,!=0.5.11,!=0.5.12,!=0.5.4,!=0.5.5,!=0.5.7,!=0.5.9,<0.6.0,>=0.4.0->langchain-chroma) (0.6.4)\n",
            "Requirement already satisfied: uvloop!=0.15.0,!=0.15.1,>=0.14.0 in /home/harry/anaconda3/envs/hanghae/lib/python3.9/site-packages (from uvicorn[standard]>=0.18.3->chromadb!=0.5.10,!=0.5.11,!=0.5.12,!=0.5.4,!=0.5.5,!=0.5.7,!=0.5.9,<0.6.0,>=0.4.0->langchain-chroma) (0.21.0)\n",
            "Requirement already satisfied: watchfiles>=0.13 in /home/harry/anaconda3/envs/hanghae/lib/python3.9/site-packages (from uvicorn[standard]>=0.18.3->chromadb!=0.5.10,!=0.5.11,!=0.5.12,!=0.5.4,!=0.5.5,!=0.5.7,!=0.5.9,<0.6.0,>=0.4.0->langchain-chroma) (1.0.4)\n",
            "Requirement already satisfied: websockets>=10.4 in /home/harry/anaconda3/envs/hanghae/lib/python3.9/site-packages (from uvicorn[standard]>=0.18.3->chromadb!=0.5.10,!=0.5.11,!=0.5.12,!=0.5.4,!=0.5.5,!=0.5.7,!=0.5.9,<0.6.0,>=0.4.0->langchain-chroma) (14.1)\n",
            "Requirement already satisfied: zipp>=3.1.0 in /home/harry/anaconda3/envs/hanghae/lib/python3.9/site-packages (from importlib-resources->chromadb!=0.5.10,!=0.5.11,!=0.5.12,!=0.5.4,!=0.5.5,!=0.5.7,!=0.5.9,<0.6.0,>=0.4.0->langchain-chroma) (3.21.0)\n",
            "Requirement already satisfied: cachetools<6.0,>=2.0.0 in /home/harry/anaconda3/envs/hanghae/lib/python3.9/site-packages (from google-auth>=1.0.1->kubernetes>=28.1.0->chromadb!=0.5.10,!=0.5.11,!=0.5.12,!=0.5.4,!=0.5.5,!=0.5.7,!=0.5.9,<0.6.0,>=0.4.0->langchain-chroma) (5.5.0)\n",
            "Requirement already satisfied: pyasn1-modules>=0.2.1 in /home/harry/anaconda3/envs/hanghae/lib/python3.9/site-packages (from google-auth>=1.0.1->kubernetes>=28.1.0->chromadb!=0.5.10,!=0.5.11,!=0.5.12,!=0.5.4,!=0.5.5,!=0.5.7,!=0.5.9,<0.6.0,>=0.4.0->langchain-chroma) (0.4.1)\n",
            "Requirement already satisfied: rsa<5,>=3.1.4 in /home/harry/anaconda3/envs/hanghae/lib/python3.9/site-packages (from google-auth>=1.0.1->kubernetes>=28.1.0->chromadb!=0.5.10,!=0.5.11,!=0.5.12,!=0.5.4,!=0.5.5,!=0.5.7,!=0.5.9,<0.6.0,>=0.4.0->langchain-chroma) (4.9)\n",
            "Requirement already satisfied: filelock in /home/harry/anaconda3/envs/hanghae/lib/python3.9/site-packages (from huggingface-hub<1.0,>=0.16.4->tokenizers<=0.20.3,>=0.13.2->chromadb!=0.5.10,!=0.5.11,!=0.5.12,!=0.5.4,!=0.5.5,!=0.5.7,!=0.5.9,<0.6.0,>=0.4.0->langchain-chroma) (3.16.1)\n",
            "Requirement already satisfied: fsspec>=2023.5.0 in /home/harry/anaconda3/envs/hanghae/lib/python3.9/site-packages (from huggingface-hub<1.0,>=0.16.4->tokenizers<=0.20.3,>=0.13.2->chromadb!=0.5.10,!=0.5.11,!=0.5.12,!=0.5.4,!=0.5.5,!=0.5.7,!=0.5.9,<0.6.0,>=0.4.0->langchain-chroma) (2024.9.0)\n",
            "Requirement already satisfied: mdurl~=0.1 in /home/harry/anaconda3/envs/hanghae/lib/python3.9/site-packages (from markdown-it-py>=2.2.0->rich>=10.11.0->chromadb!=0.5.10,!=0.5.11,!=0.5.12,!=0.5.4,!=0.5.5,!=0.5.7,!=0.5.9,<0.6.0,>=0.4.0->langchain-chroma) (0.1.2)\n",
            "Requirement already satisfied: humanfriendly>=9.1 in /home/harry/anaconda3/envs/hanghae/lib/python3.9/site-packages (from coloredlogs->onnxruntime>=1.14.1->chromadb!=0.5.10,!=0.5.11,!=0.5.12,!=0.5.4,!=0.5.5,!=0.5.7,!=0.5.9,<0.6.0,>=0.4.0->langchain-chroma) (10.0)\n",
            "Requirement already satisfied: mpmath<1.4,>=1.1.0 in /home/harry/anaconda3/envs/hanghae/lib/python3.9/site-packages (from sympy->onnxruntime>=1.14.1->chromadb!=0.5.10,!=0.5.11,!=0.5.12,!=0.5.4,!=0.5.5,!=0.5.7,!=0.5.9,<0.6.0,>=0.4.0->langchain-chroma) (1.3.0)\n",
            "Requirement already satisfied: pyasn1<0.7.0,>=0.4.6 in /home/harry/anaconda3/envs/hanghae/lib/python3.9/site-packages (from pyasn1-modules>=0.2.1->google-auth>=1.0.1->kubernetes>=28.1.0->chromadb!=0.5.10,!=0.5.11,!=0.5.12,!=0.5.4,!=0.5.5,!=0.5.7,!=0.5.9,<0.6.0,>=0.4.0->langchain-chroma) (0.6.1)\n"
          ]
        }
      ],
      "source": [
        "!pip install langchain-community langchain-chroma langchain-openai bs4"
      ]
    },
    {
      "cell_type": "markdown",
      "source": [
        "## [MY CODE] Import 부분"
      ],
      "metadata": {
        "id": "RtvlXAG1jppZ"
      }
    },
    {
      "cell_type": "code",
      "source": [
        "import bs4\n",
        "from langchain import hub\n",
        "from langchain_chroma import Chroma\n",
        "from langchain_openai import ChatOpenAI\n",
        "from langchain_openai import OpenAIEmbeddings\n",
        "from langchain_community.document_loaders import WebBaseLoader\n",
        "from langchain_text_splitters import RecursiveCharacterTextSplitter"
      ],
      "metadata": {
        "id": "lrlcWNMyI0HQ"
      },
      "execution_count": null,
      "outputs": []
    },
    {
      "cell_type": "markdown",
      "source": [
        "## [MY CODE] API KEY 호출"
      ],
      "metadata": {
        "id": "rxB90kkzju36"
      }
    },
    {
      "cell_type": "code",
      "source": [
        "from dotenv import load_dotenv\n",
        "import os\n",
        "import openai\n",
        "load_dotenv('/mnt/d/hanghae99/apikey/.env')  # .env 파일을 로드\n",
        "\n",
        "\n",
        "\n",
        "# 환경 변수 확인\n",
        "openai_api_key = os.getenv(\"OPENAI_API_KEY\")"
      ],
      "metadata": {
        "id": "D2Z6XUCmj2_3"
      },
      "execution_count": null,
      "outputs": []
    },
    {
      "cell_type": "code",
      "source": [
        "if openai_api_key:\n",
        "    llm = ChatOpenAI(model=\"gpt-4o-mini\", api_key=openai_api_key)\n",
        "else:\n",
        "    raise ValueError(\"API 키를 가져오지 못했습니다. .env 파일을 확인하세요.\")\n"
      ],
      "metadata": {
        "id": "gdjtGqsgI2Ub"
      },
      "execution_count": null,
      "outputs": []
    },
    {
      "cell_type": "markdown",
      "source": [
        "## [MY CODE] Web 사이트 크롤링 진행"
      ],
      "metadata": {
        "id": "YtmtBkb2jzgL"
      }
    },
    {
      "cell_type": "code",
      "source": [
        "from bs4 import BeautifulSoup\n",
        "import requests\n",
        "\n",
        "# 웹 페이지 가져오기\n",
        "url = \"https://spartacodingclub.kr/blog/all-in-challenge_winner\"\n",
        "response = requests.get(url)\n",
        "\n",
        "# BeautifulSoup으로 HTML 파싱\n",
        "soup = BeautifulSoup(response.text, 'html.parser')\n",
        "\n",
        "# 특정 클래스의 데이터 가져오기\n",
        "data = soup.find('div', class_='editedContent')\n",
        "\n",
        "# 결과 출력\n",
        "if data:\n",
        "    # div 안의 <p>와 <h2> 태그 가져오기\n",
        "    elements = data.find_all(['p', 'h2'])\n",
        "\n",
        "    for element in elements:\n",
        "        print(element.text)  # 텍스트만 출력\n",
        "else:\n",
        "    print(\"해당 클래스의 데이터를 찾을 수 없습니다.\")\n"
      ],
      "metadata": {
        "colab": {
          "base_uri": "https://localhost:8080/"
        },
        "id": "eqzvL6QSMao5",
        "outputId": "333d3b42-d2d7-4940-f3c0-1d7f8b1f79db"
      },
      "execution_count": null,
      "outputs": [
        {
          "output_type": "stream",
          "name": "stdout",
          "text": [
            "코딩은 더 이상 개발자만의 영역이 아닙니다. 누구나 아이디어만 있다면 창의적인 서비스를 만들어 세상을 바꿀 수 있습니다. 스파르타코딩클럽에서는 이러한 가능성을 믿고, 누구나 코딩을 통해 자신의 아이디어를 실현하고 실제 문제를 해결하는 경험을 쌓을 수 있도록 다양한 프로그램을 마련하고 있습니다.\n",
            "<All-in> 코딩 공모전은 대학생들이 캠퍼스에서 겪은 불편함과 문제를 자신만의 아이디어로 해결해보는 대회였는데요. 이번 공모전에서 다양한 혁신적인 아이디어와 열정으로 가득한 수많은 프로젝트가 탄생했습니다. 그중 뛰어난 성과를 낸 수상작 6개를 소개합니다.\n",
            "\n",
            "🏆 대상\n",
            "[Lexi Note] 언어공부 필기 웹 서비스\n",
            "서비스 제작자: 다나와(김다애, 박나경)\n",
            "\n",
            "W와 같이 어문 전공생은 문법, 어휘, 문장 구조 등 다양한 자료를 학습해야 합니다. 여러 자료를 번갈아 학습하다보니 ‘사전-번역기-원서-필기노트’ 왕복으로 학습 효율이 나지 않아 고민인 경우도 많으실 거예요. <Lexi Note>는 단어를 드래그하면 네이버 사전으로 바로 연동 돼 단어의 의미를 찾으며 동시에 필기 할 수 있어요. 이외에도 번역 버튼을 누르면 파파고 번역기가 연동돼 긴 문장도 쉽게 이해할 수 있어요. 언어 학습에 필요한 할일 목록과 스케줄 템플릿을 제공하여 효율적으로 공부할 수 있습니다. 필기, 사전, 번역을 한번에 쉽고 편하게 이용할 수 있죠. 더 이상 시간 낭비 없이 효율적으로 어문학을 공부하며 학습 속도도 눈에 띄게 빨라질 수 있어요. 언어 공부의 복잡함을 단순하게 만들어주는 Lexi Note가 요긴한 학습 도우미가 되었기 때문입니다.\n",
            "\n",
            "사용한 기술 스택 \n",
            "-FE(프론트엔드): React, Tesseract.js, React-Quill, HTML, CSS, JavaScript\n",
            "-BE(백엔드): Java, Spring Boot, MariaDB\n",
            "\n",
            "🎖️ 우수상\n",
            "[우리집 히어로즈] 벌레 퇴치 영웅 매칭 서비스\n",
            "서비스 제작자: 인트(배정연, 한지수)\n",
            "\n",
            "이 문제를 해결할 수 있는 방법이 바로 <우리집 히어로즈> 서비스입니다. 대학생 자취생들이 자취방에서 겪는 벌레 문제를 해결하기 위해 개발된 앱이죠. 벌레 퇴치가 필요한 사용자가 앱에 요청을 올리면 벌레 퇴치 히어로 학우와 매칭됩니다. 사용자 신원은 같은 학교 학생으로, 신원이 보장된 안전한 환경에서 이뤄지고 벌레를 퇴치해주는 히어로는 추가 수입을 얻을 수 있는 기회를 가집니다. 실시간 알림 기능을 통해 매칭이 이뤄지면 즉시 알림을 받을 수 있어 빠르게 문제를 해결할 수 있습니다. 벌레를 퇴치한 후 사용자는 서로를 평가할 수 있어요. 더 나은 서비스를 제공하거나 받을 수 있습니다.\n",
            "\n",
            "사용한 기술 스택 \n",
            "-FE(프론트엔드): React Native, Expo, Axios\n",
            "-BE(백엔드): Spring Boot, Spring Security, MySQL, SSE, FCM, JWT, Postman\n",
            "\n",
            "🎖️ 우수상\n",
            "[에코 클래스룸] 수업 실시간 소통 서비스\n",
            "서비스 제작자: This is 스파게티!!!(박지성, 김서원, 박범수)\n",
            "\n",
            "다른 학생들의 시선이 부담스러워서, 나만 모르는 거라고 생각해서 질문하지 않는 학생들을 위해 만들어진 서비스가 바로 <에코 클래스룸>입니다. 교수와 학생 간의 소통을 혁신적으로 바꾸기 위해 만들어졌어요. 학생들이 굳이 손을 들고 질문하지 않아도, 에코 클래스룸을 통해 자신의 의견을 표현할 수 있습니다. 익명으로 수업 중 자신의 의견이나 질문을 쉽게 제출할 수 있어 교수님은 실시간으로 학생들의 이해도를 파악할 수 있습니다. 수업 중 또는 후에 교수자가 수업에 대한 피드백을 받을 수 있는 평가 기능과 학생의 이해도를 테스트 할 수 있는 퀴즈 생성 기능이 있어 필요한 경우 수업 속도를 조절하고 추가 설명을 할 수 있어요.\n",
            "\n",
            "사용한 기술 스택 \n",
            "-FE(프론트엔드): Flutter, Socket.IO, Expo CLI, Axios, TanStack Query\n",
            "-BE(백엔드): Spring Boot, Spring Security, JWT, MySQL, Spring WebSocket, AWS\n",
            "\n",
            "🏅 입선\n",
            "[Crewing] 연합동아리 정보 플랫폼\n",
            "서비스 제작자: 동학대학운동(김민아, 임경진, 신은혜, 고수)\n",
            "\n",
            "<Crewing>은 대학생들이 다양한 연합 동아리에 쉽게 가입하고, 적절한 동아리를 찾을 수 있도록 지원해주는 아카이빙 플랫폼입니다. 회원가입 시 생년, 성별, 관심 분야를 입력하자 딱 맞는 동아리를 추천해주죠. 플랫폼 내에서 동아리의 리크루팅 과정인 서류 전형, 인터뷰 일정, 최종 결과 발표 등을 한 번에 해결할 수 있어요. 실제 동아리에 가입한 사람들의 솔직한 후기를 제공해주기 때문에 보다 정확한 정보를 얻을 수 있어요. Crewing은 신뢰할 수 있는 정보와 솔직한 후기를 제공해주기 때문에 효율적으로 내게 꼭 맞는 동아리를 선택할 수 있습니다.\n",
            "\n",
            "사용한 기술 스택 \n",
            "-FE(프론트엔드): Spring Boot, Redis, MySQL\n",
            "-BE(백엔드): SwiftUI Framework, OAuth 2.0\n",
            "\n",
            "🏅 입선\n",
            "[학교생활 매니저] 학교생활 관리 서비스\n",
            "서비스 제작자: 아이칼F4(조민제, 이민기, 강건, 박근우)\n",
            "\n",
            "<학교생활 매니저> 서비스는 학교 생활을 효율적으로 관리할 수 있도록 돕기 위해 개발된 관리 앱입니다. 일정과 과제 관리, 성적 예측, 학점 계산 등 캠퍼스 생활과 관련된 다양한 기능을 한 곳에서 관리할 수 있어요. ‘캘린더 기능’을 통해 학교 학사 일정과 개인 일정을 한눈에 확인할 수 있고, 날짜마다 해야 할 일을 To-Do List에 추가해 두면 중요한 과제나 시험 일정이 다가올 때마다 알림을 받아 놓치는 일이 없습니다. ‘공지사항 기능’을 통해 실시간으로 업데이트되는 학교 공지를 한 곳에서 확인할 수 있습니다. ‘시간표 기능’은 수업시간, 강의실, 교수님 정보 등을 한눈에 볼 수 있어 출결 관리도 확실하게 할 수 있어요.\n",
            "앱 내의 학점 계산기를 사용하면 성적이 그래프로 시각화되어 변화를 쉽게 파악할 수 있고, 앞으로의 성적 목표를 세우는 데에도 큰 도움이 됩니다. 예상 학점 기능을 통해 과목별 예상 등수와 학점을 미리 계산해 보며 학습 계획도 조정할 수 있어요. <학교생활 매니저>앱을 사용하면 체계적으로 대학 생활을 관리하고, 남은 학업과 일정을 효율적으로 관리할 수 있습니다.\n",
            "\n",
            "사용한 기술 스택 \n",
            "-FE(프론트엔드): Flutter\n",
            "-BE(백엔드): Firebase\n",
            "\n",
            "🏅 입선\n",
            "[BLOTIE] 교내 외국인X내국인 매칭 및 교류 플랫폼\n",
            "서비스 제작자: 블로티(이은주, 한명수, 황준영)\n",
            "\n",
            "<BLOTIE>는 외국인 학생이 가진 이런 문제를 해결하고, 보다 친밀하고 자유로운 글로벌 캠퍼스 문화를 조성하기 위해 만들어진 플랫폼입니다. ‘1:1 매칭 기능’으로 교내 외국인 학생과 한국인 학생을 쉽게 연결할 수 있어요. 서로의 문화와 언어를 자연스럽게 배우고 교류할 수 있습니다. 관심사, 언어 능력, 성격 등을 기반으로 이뤄지기 때문에 일회성 매칭에 대한 걱정도 줄어들어요. 매칭된 학생들은 플랫폼 내에서 ‘실시간 채팅과 피드 기능’으로 자유롭게 소통할 수 있고, 다양한 주제로 만남을 이어갈 수 있습니다.\n",
            "외국인은 한국어 실력을 향상할 수 있고 한국인은 외국어를 실생활에서 연습할 기회를 얻을 수 있어요. BLOTIE를 통해 캠퍼스 내에 보다 다양한 문화가 공존하고, 학생들 간의 유대감이 강화되고, 서로 다른 배경을 가진 학생들이 함께 성장할 수 있는 환경이 조성됩니다. 글로벌 사회에서 중요한 소통 능력을 기를 수 있는 문화의 장으로 쓰일 수 있겠죠!\n",
            "\n",
            "사용한 기술 스택\n",
            "-FE(프론트엔드): Spring Boot, MySQL, Spring WebSocket\n",
            "-BE(백엔드): React Native, TanStack Query, Axios\n",
            "\n",
            "\n",
            "\n",
            "💡<All-in> 코딩 공모전에서 만든 다양한 서비스를 만나보고 싶다면?\n",
            "다양한 서비스와 기발한 아이디어가 모인 곳에 초대합니다. 참가자들의 문제 해결방법이 궁금하시다면 지금 바로 ‘All-in 공모전’에서 만나보세요!\n",
            "👉🏻 공모전 결과물 보러가기\n",
            "\n",
            "\n",
            "누구나 큰일 낼 수 있어\n",
            "스파르타코딩클럽\n",
            "\n",
            "글 | 신수지 팀스파르타 에디터\n"
          ]
        }
      ]
    },
    {
      "cell_type": "code",
      "source": [
        "loader = WebBaseLoader(\n",
        "    web_paths=(\"https://spartacodingclub.kr/blog/all-in-challenge_winner\",),\n",
        "    bs_kwargs=dict(\n",
        "        parse_only=bs4.SoupStrainer(\n",
        "            name='div',\n",
        "            class_=\"editedContent\"\n",
        "        )\n",
        "    ),\n",
        ")\n",
        "docs = loader.load()\n",
        "\n",
        "# 결과 출력\n",
        "for doc in docs:\n",
        "    print(doc.page_content)\n"
      ],
      "metadata": {
        "id": "qhuzvEYGI4Yq",
        "colab": {
          "base_uri": "https://localhost:8080/"
        },
        "outputId": "9c5755d1-e412-4b64-8a82-2fe2d477dc3e"
      },
      "execution_count": null,
      "outputs": [
        {
          "output_type": "stream",
          "name": "stdout",
          "text": [
            "코딩은 더 이상 개발자만의 영역이 아닙니다. 누구나 아이디어만 있다면 창의적인 서비스를 만들어 세상을 바꿀 수 있습니다. 스파르타코딩클럽에서는 이러한 가능성을 믿고, 누구나 코딩을 통해 자신의 아이디어를 실현하고 실제 문제를 해결하는 경험을 쌓을 수 있도록 다양한 프로그램을 마련하고 있습니다.<All-in> 코딩 공모전은 대학생들이 캠퍼스에서 겪은 불편함과 문제를 자신만의 아이디어로 해결해보는 대회였는데요. 이번 공모전에서 다양한 혁신적인 아이디어와 열정으로 가득한 수많은 프로젝트가 탄생했습니다. 그중 뛰어난 성과를 낸 수상작 6개를 소개합니다.🏆 대상[Lexi Note] 언어공부 필기 웹 서비스서비스 제작자: 다나와(김다애, 박나경)💡W는 어문학을 전공하는 대학생입니다. 매일 새로운 단어와 문장 구조를 공부하고 있지만, 효율적으로 학습하는 것이 쉽지 않았습니다. 단어의 의미를 찾기 위해 사전을 뒤적이고, 긴 문장을 이해하려고 번역기를 사용하다 보면, 필기 노트는 어느새 뒷전으로 밀려났거든요. 사전, 번역기, 원서, 필기노트를 왔다 갔다 하다 보면 시간이 다 지나가 버리곤 했죠.W와 같이 어문 전공생은 문법, 어휘, 문장 구조 등 다양한 자료를 학습해야 합니다. 여러 자료를 번갈아 학습하다보니 ‘사전-번역기-원서-필기노트’ 왕복으로 학습 효율이 나지 않아 고민인 경우도 많으실 거예요. <Lexi Note>는 단어를 드래그하면 네이버 사전으로 바로 연동 돼 단어의 의미를 찾으며 동시에 필기 할 수 있어요. 이외에도 번역 버튼을 누르면 파파고 번역기가 연동돼 긴 문장도 쉽게 이해할 수 있어요. 언어 학습에 필요한 할일 목록과 스케줄 템플릿을 제공하여 효율적으로 공부할 수 있습니다. 필기, 사전, 번역을 한번에 쉽고 편하게 이용할 수 있죠. 더 이상 시간 낭비 없이 효율적으로 어문학을 공부하며 학습 속도도 눈에 띄게 빨라질 수 있어요. 언어 공부의 복잡함을 단순하게 만들어주는 Lexi Note가 요긴한 학습 도우미가 되었기 때문입니다.사용한 기술 스택 -FE(프론트엔드): React, Tesseract.js, React-Quill, HTML, CSS, JavaScript-BE(백엔드): Java, Spring Boot, MariaDB🎖️ 우수상[우리집 히어로즈] 벌레 퇴치 영웅 매칭 서비스서비스 제작자: 인트(배정연, 한지수)💡C는 이번 학기 처음으로 자취를 시작했습니다. 원래부터 작은 벌레에 민감했던 C. 자취방에서 자주 나타나는 벌레들 때문에 밤잠을 설치길 반복했습니다. 밤마다 벌레를 잡으려고 애쓰던 C는 커뮤니티를 통해 다른 학생들도 같은 문제를 겪고 있다는 것을 알게 되었습니다. 하지만 커뮤니티에서 벌레 퇴치 히어로를 찾기 위해서는 내 개인 정보를 노출해야 한다는 점이 찝찝했죠.이 문제를 해결할 수 있는 방법이 바로 <우리집 히어로즈> 서비스입니다. 대학생 자취생들이 자취방에서 겪는 벌레 문제를 해결하기 위해 개발된 앱이죠. 벌레 퇴치가 필요한 사용자가 앱에 요청을 올리면 벌레 퇴치 히어로 학우와 매칭됩니다. 사용자 신원은 같은 학교 학생으로, 신원이 보장된 안전한 환경에서 이뤄지고 벌레를 퇴치해주는 히어로는 추가 수입을 얻을 수 있는 기회를 가집니다. 실시간 알림 기능을 통해 매칭이 이뤄지면 즉시 알림을 받을 수 있어 빠르게 문제를 해결할 수 있습니다. 벌레를 퇴치한 후 사용자는 서로를 평가할 수 있어요. 더 나은 서비스를 제공하거나 받을 수 있습니다.사용한 기술 스택 -FE(프론트엔드): React Native, Expo, Axios-BE(백엔드): Spring Boot, Spring Security, MySQL, SSE, FCM, JWT, Postman🎖️ 우수상[에코 클래스룸] 수업 실시간 소통 서비스서비스 제작자: This is 스파게티!!!(박지성, 김서원, 박범수)💡K교수는 항상 수업이 끝난 후 난이도가 적절했는지 궁금했습니다. “질문 있나요?”라는 말이 수업의 마무리였지만, 대부분의 학생은 답이 없었죠. 그저 고개를 끄덕이는 몇몇 학생들만 보일 뿐, 정말 이해한 것인지, 질문할 용기가 없는 것인지 알 수 없었습니다. 이때문에 학생들이 수업 내용을 제대로 이해하고 있는지 확인하기 어려웠습니다. 어느 날 강의가 끝나고 몇몇 학생들이 몰려와 어렵다고, 다시 설명해 달라고 요청했습니다. 그제야 K교수는 알게 되었어요. 학생들이 이해하지 못하고 있었지만, 질문을 하지 않았던 것이었습니다.다른 학생들의 시선이 부담스러워서, 나만 모르는 거라고 생각해서 질문하지 않는 학생들을 위해 만들어진 서비스가 바로 <에코 클래스룸>입니다. 교수와 학생 간의 소통을 혁신적으로 바꾸기 위해 만들어졌어요. 학생들이 굳이 손을 들고 질문하지 않아도, 에코 클래스룸을 통해 자신의 의견을 표현할 수 있습니다. 익명으로 수업 중 자신의 의견이나 질문을 쉽게 제출할 수 있어 교수님은 실시간으로 학생들의 이해도를 파악할 수 있습니다. 수업 중 또는 후에 교수자가 수업에 대한 피드백을 받을 수 있는 평가 기능과 학생의 이해도를 테스트 할 수 있는 퀴즈 생성 기능이 있어 필요한 경우 수업 속도를 조절하고 추가 설명을 할 수 있어요.사용한 기술 스택 -FE(프론트엔드): Flutter, Socket.IO, Expo CLI, Axios, TanStack Query-BE(백엔드): Spring Boot, Spring Security, JWT, MySQL, Spring WebSocket, AWS🏅 입선[Crewing] 연합동아리 정보 플랫폼서비스 제작자: 동학대학운동(김민아, 임경진, 신은혜, 고수)💡신입생인 S는 대학 생활을 알차게 보내고 싶어서 연합 동아리에 가입하려고 했지만 어떤 동아리가 자신에게 맞을지 고민이 많았습니다. 인터넷에 검색해보니 연합 동아리 후기는 대부분 여기저기 흩어져 있고, 신뢰할 만한 정보를 찾기 어려웠습니다.<Crewing>은 대학생들이 다양한 연합 동아리에 쉽게 가입하고, 적절한 동아리를 찾을 수 있도록 지원해주는 아카이빙 플랫폼입니다. 회원가입 시 생년, 성별, 관심 분야를 입력하자 딱 맞는 동아리를 추천해주죠. 플랫폼 내에서 동아리의 리크루팅 과정인 서류 전형, 인터뷰 일정, 최종 결과 발표 등을 한 번에 해결할 수 있어요. 실제 동아리에 가입한 사람들의 솔직한 후기를 제공해주기 때문에 보다 정확한 정보를 얻을 수 있어요. Crewing은 신뢰할 수 있는 정보와 솔직한 후기를 제공해주기 때문에 효율적으로 내게 꼭 맞는 동아리를 선택할 수 있습니다.사용한 기술 스택 -FE(프론트엔드): Spring Boot, Redis, MySQL-BE(백엔드): SwiftUI Framework, OAuth 2.0🏅 입선[학교생활 매니저] 학교생활 관리 서비스서비스 제작자: 아이칼F4(조민제, 이민기, 강건, 박근우)💡A는 올해 복학한 3학년 학생입니다. 강의실과 도서관을 오가며 바쁜 일정을 소화하느라 정신이 없지만, 수업마다 나오는 과제와 각종 활동, 시험 준비까지 겹치면서 혼란에 빠지기 일쑤였습니다. 복학생이다 보니 학교에서 전달되는 공지사항도 제대로 전달받지 못해 항상 중요한 정보를 놓칠까 봐 걱정이었죠.<학교생활 매니저> 서비스는 학교 생활을 효율적으로 관리할 수 있도록 돕기 위해 개발된 관리 앱입니다. 일정과 과제 관리, 성적 예측, 학점 계산 등 캠퍼스 생활과 관련된 다양한 기능을 한 곳에서 관리할 수 있어요. ‘캘린더 기능’을 통해 학교 학사 일정과 개인 일정을 한눈에 확인할 수 있고, 날짜마다 해야 할 일을 To-Do List에 추가해 두면 중요한 과제나 시험 일정이 다가올 때마다 알림을 받아 놓치는 일이 없습니다. ‘공지사항 기능’을 통해 실시간으로 업데이트되는 학교 공지를 한 곳에서 확인할 수 있습니다. ‘시간표 기능’은 수업시간, 강의실, 교수님 정보 등을 한눈에 볼 수 있어 출결 관리도 확실하게 할 수 있어요.앱 내의 학점 계산기를 사용하면 성적이 그래프로 시각화되어 변화를 쉽게 파악할 수 있고, 앞으로의 성적 목표를 세우는 데에도 큰 도움이 됩니다. 예상 학점 기능을 통해 과목별 예상 등수와 학점을 미리 계산해 보며 학습 계획도 조정할 수 있어요. <학교생활 매니저>앱을 사용하면 체계적으로 대학 생활을 관리하고, 남은 학업과 일정을 효율적으로 관리할 수 있습니다.사용한 기술 스택 -FE(프론트엔드): Flutter-BE(백엔드): Firebase🏅 입선[BLOTIE] 교내 외국인X내국인 매칭 및 교류 플랫폼서비스 제작자: 블로티(이은주, 한명수, 황준영)💡F는 T대학에 교환학생으로 온 외국인입니다. K팝 문화가 좋아 한국에 왔지만, 말도 잘 통하지 않고 문화 차이도 있어서 한국 캠퍼스 생활이 쉽지만은 않은데요. 한국어로 수업을 듣고 한국 친구도 사귀고 싶지만 한국 대학의 학사 일정과 과제 등 여러 시스템이 달라서 적응하기 어려웠습니다. 한국어가 서툴다보니 수업에서 제공되는 다양한 정보를 이해하기 어려웠고, 중요한 공지사항을 놓치기도 했습니다. 한국인 친구를 먼저 사귀는 것이 급선무라고 생각했죠.<BLOTIE>는 외국인 학생이 가진 이런 문제를 해결하고, 보다 친밀하고 자유로운 글로벌 캠퍼스 문화를 조성하기 위해 만들어진 플랫폼입니다. ‘1:1 매칭 기능’으로 교내 외국인 학생과 한국인 학생을 쉽게 연결할 수 있어요. 서로의 문화와 언어를 자연스럽게 배우고 교류할 수 있습니다. 관심사, 언어 능력, 성격 등을 기반으로 이뤄지기 때문에 일회성 매칭에 대한 걱정도 줄어들어요. 매칭된 학생들은 플랫폼 내에서 ‘실시간 채팅과 피드 기능’으로 자유롭게 소통할 수 있고, 다양한 주제로 만남을 이어갈 수 있습니다.외국인은 한국어 실력을 향상할 수 있고 한국인은 외국어를 실생활에서 연습할 기회를 얻을 수 있어요. BLOTIE를 통해 캠퍼스 내에 보다 다양한 문화가 공존하고, 학생들 간의 유대감이 강화되고, 서로 다른 배경을 가진 학생들이 함께 성장할 수 있는 환경이 조성됩니다. 글로벌 사회에서 중요한 소통 능력을 기를 수 있는 문화의 장으로 쓰일 수 있겠죠!사용한 기술 스택-FE(프론트엔드): Spring Boot, MySQL, Spring WebSocket-BE(백엔드): React Native, TanStack Query, Axios코딩 공모전 수상작은 대학생들의 팀프로젝트를 통해 만들어진 웹/앱 서비스입니다. 캠퍼스에서의 문제를 해결하자는 참가자들의 아이디어에서 시작되었죠. 누구나 세상에 선보이고 싶은 나만의 아이디어와 기초 코딩 기술만 활용한다면, 얼마든지 서비스를 만들 수 있습니다. 스파르타코딩클럽의 내일배움캠프에서는 비전공, 초보자도 웹/앱 개발자로 거듭날 수 있는 다양한 트랙이 준비돼 있습니다. 나만의 아이디어를 세상에 선보이고 싶은 누구나에게 열려 있으니 주저말고 도전해 보세요.💡<All-in> 코딩 공모전에서 만든 다양한 서비스를 만나보고 싶다면?다양한 서비스와 기발한 아이디어가 모인 곳에 초대합니다. 참가자들의 문제 해결방법이 궁금하시다면 지금 바로 ‘All-in 공모전’에서 만나보세요!👉🏻 공모전 결과물 보러가기누구나 큰일 낼 수 있어스파르타코딩클럽글 | 신수지 팀스파르타 에디터\n"
          ]
        }
      ]
    },
    {
      "cell_type": "markdown",
      "source": [
        "## [MY CODE] Prompt 진행"
      ],
      "metadata": {
        "id": "PKedlemNj5-I"
      }
    },
    {
      "cell_type": "code",
      "source": [
        "text_splitter = RecursiveCharacterTextSplitter(\n",
        "    chunk_size=1000,\n",
        "    chunk_overlap=200\n",
        ")\n",
        "splits = text_splitter.split_documents(docs)\n",
        "vectorstore = Chroma.from_documents(\n",
        "    documents=splits,\n",
        "    embedding=OpenAIEmbeddings(api_key=openai_api_key)\n",
        ")"
      ],
      "metadata": {
        "id": "ewqNBMS_I7zB"
      },
      "execution_count": null,
      "outputs": []
    },
    {
      "cell_type": "code",
      "source": [
        "retriever = vectorstore.as_retriever()\n",
        "\n",
        "user_msg = \"ALL-in 코딩 공모전 수상작들을 요약해줘.\"\n",
        "retrieved_docs = retriever.invoke(user_msg)\n",
        "\n",
        "def format_docs(docs):\n",
        "    return \"\\n\\n\".join(doc.page_content for doc in docs)\n",
        "prompt = hub.pull(\"rlm/rag-prompt\")\n",
        "\n",
        "user_prompt = prompt.invoke({\"context\": format_docs(retrieved_docs), \"question\": user_msg})\n",
        "print(user_prompt)"
      ],
      "metadata": {
        "colab": {
          "base_uri": "https://localhost:8080/"
        },
        "id": "dKwUiRrPJMq1",
        "outputId": "65ea80af-1faa-43d8-a148-73ac170586be"
      },
      "execution_count": null,
      "outputs": [
        {
          "output_type": "stream",
          "name": "stderr",
          "text": [
            "/home/harry/anaconda3/envs/hanghae/lib/python3.9/site-packages/langsmith/client.py:256: LangSmithMissingAPIKeyWarning: API key must be provided when using hosted LangSmith API\n",
            "  warnings.warn(\n"
          ]
        },
        {
          "output_type": "stream",
          "name": "stdout",
          "text": [
            "messages=[HumanMessage(content=\"You are an assistant for question-answering tasks. Use the following pieces of retrieved context to answer the question. If you don't know the answer, just say that you don't know. Use three sentences maximum and keep the answer concise.\\nQuestion: ALL-in 코딩 공모전 수상작들을 요약해줘. \\nContext: 배경을 가진 학생들이 함께 성장할 수 있는 환경이 조성됩니다. 글로벌 사회에서 중요한 소통 능력을 기를 수 있는 문화의 장으로 쓰일 수 있겠죠!사용한 기술 스택-FE(프론트엔드): Spring Boot, MySQL, Spring WebSocket-BE(백엔드): React Native, TanStack Query, Axios코딩 공모전 수상작은 대학생들의 팀프로젝트를 통해 만들어진 웹/앱 서비스입니다. 캠퍼스에서의 문제를 해결하자는 참가자들의 아이디어에서 시작되었죠. 누구나 세상에 선보이고 싶은 나만의 아이디어와 기초 코딩 기술만 활용한다면, 얼마든지 서비스를 만들 수 있습니다. 스파르타코딩클럽의 내일배움캠프에서는 비전공, 초보자도 웹/앱 개발자로 거듭날 수 있는 다양한 트랙이 준비돼 있습니다. 나만의 아이디어를 세상에 선보이고 싶은 누구나에게 열려 있으니 주저말고 도전해 보세요.💡<All-in> 코딩 공모전에서 만든 다양한 서비스를 만나보고 싶다면?다양한 서비스와 기발한 아이디어가 모인 곳에 초대합니다. 참가자들의 문제 해결방법이 궁금하시다면 지금 바로 ‘All-in 공모전’에서 만나보세요!👉🏻\\xa0공모전 결과물 보러가기누구나 큰일 낼 수 있어스파르타코딩클럽글 | 신수지 팀스파르타 에디터\\n\\n코딩은 더 이상 개발자만의 영역이 아닙니다. 누구나 아이디어만 있다면 창의적인 서비스를 만들어 세상을 바꿀 수 있습니다. 스파르타코딩클럽에서는 이러한 가능성을 믿고, 누구나 코딩을 통해 자신의 아이디어를 실현하고 실제 문제를 해결하는 경험을 쌓을 수 있도록 다양한 프로그램을 마련하고 있습니다.<All-in> 코딩 공모전은 대학생들이 캠퍼스에서 겪은 불편함과 문제를 자신만의 아이디어로 해결해보는 대회였는데요. 이번 공모전에서 다양한 혁신적인 아이디어와 열정으로 가득한 수많은 프로젝트가 탄생했습니다. 그중 뛰어난 성과를 낸 수상작 6개를 소개합니다.🏆\\xa0대상[Lexi Note] 언어공부 필기 웹 서비스서비스 제작자: 다나와(김다애, 박나경)💡W는 어문학을 전공하는 대학생입니다. 매일 새로운 단어와 문장 구조를 공부하고 있지만, 효율적으로 학습하는 것이 쉽지 않았습니다. 단어의 의미를 찾기 위해 사전을 뒤적이고, 긴 문장을 이해하려고 번역기를 사용하다 보면, 필기 노트는 어느새 뒷전으로 밀려났거든요. 사전, 번역기, 원서, 필기노트를 왔다 갔다 하다 보면 시간이 다 지나가 버리곤 했죠.W와 같이 어문 전공생은 문법, 어휘, 문장 구조 등 다양한 자료를 학습해야 합니다. 여러 자료를 번갈아 학습하다보니 ‘사전-번역기-원서-필기노트’ 왕복으로 학습 효율이 나지 않아 고민인 경우도 많으실 거예요. <Lexi Note>는 단어를 드래그하면 네이버 사전으로 바로 연동 돼 단어의 의미를 찾으며 동시에 필기 할 수 있어요. 이외에도 번역 버튼을 누르면 파파고 번역기가 연동돼 긴 문장도 쉽게 이해할 수 있어요. 언어 학습에 필요한 할일 목록과 스케줄 템플릿을 제공하여 효율적으로 공부할 수 있습니다. 필기, 사전, 번역을 한번에 쉽고 편하게 이용할 수 있죠. 더 이상 시간 낭비 없이 효율적으로 어문학을 공부하며 학습 속도도 눈에 띄게 빨라질 수 있어요. 언어 공부의 복잡함을 단순하게 만들어주는 Lexi Note가 요긴한 학습 도우미가 되었기 때문입니다.사용한 기술 스택\\n\\n있습니다. 수업 중 또는 후에 교수자가 수업에 대한 피드백을 받을 수 있는 평가 기능과 학생의 이해도를 테스트 할 수 있는 퀴즈 생성 기능이 있어 필요한 경우 수업 속도를 조절하고 추가 설명을 할 수 있어요.사용한 기술 스택 -FE(프론트엔드): Flutter, Socket.IO, Expo CLI, Axios, TanStack Query-BE(백엔드): Spring Boot, Spring Security, JWT, MySQL, Spring WebSocket, AWS🏅\\xa0입선[Crewing] 연합동아리 정보 플랫폼서비스 제작자: 동학대학운동(김민아, 임경진, 신은혜, 고수)💡신입생인 S는 대학 생활을 알차게 보내고 싶어서 연합 동아리에 가입하려고 했지만 어떤 동아리가 자신에게 맞을지 고민이 많았습니다. 인터넷에 검색해보니 연합 동아리 후기는 대부분 여기저기 흩어져 있고, 신뢰할 만한 정보를 찾기 어려웠습니다.<Crewing>은 대학생들이 다양한 연합 동아리에 쉽게 가입하고, 적절한 동아리를 찾을 수 있도록 지원해주는 아카이빙 플랫폼입니다. 회원가입 시 생년, 성별, 관심 분야를 입력하자 딱 맞는 동아리를 추천해주죠. 플랫폼 내에서 동아리의 리크루팅 과정인 서류 전형, 인터뷰 일정, 최종 결과 발표 등을 한 번에 해결할 수 있어요. 실제 동아리에 가입한 사람들의 솔직한 후기를 제공해주기 때문에 보다 정확한 정보를 얻을 수 있어요. Crewing은 신뢰할 수 있는 정보와 솔직한 후기를 제공해주기 때문에 효율적으로 내게 꼭 맞는 동아리를 선택할 수 있습니다.사용한 기술 스택 -FE(프론트엔드): Spring Boot, Redis, MySQL-BE(백엔드): SwiftUI Framework, OAuth 2.0🏅\\xa0입선[학교생활 매니저] 학교생활 관리 서비스서비스 제작자: 아이칼F4(조민제, 이민기, 강건, 박근우)💡A는 올해 복학한 3학년 학생입니다. 강의실과 도서관을 오가며 바쁜 일정을 소화하느라 정신이 없지만, 수업마다 나오는 과제와 각종 활동, 시험 준비까지\\n\\n즉시 알림을 받을 수 있어 빠르게 문제를 해결할 수 있습니다. 벌레를 퇴치한 후 사용자는 서로를 평가할 수 있어요. 더 나은 서비스를 제공하거나 받을 수 있습니다.사용한 기술 스택 -FE(프론트엔드): React Native, Expo, Axios-BE(백엔드): Spring Boot, Spring Security, MySQL, SSE, FCM, JWT, Postman🎖️\\xa0우수상[에코 클래스룸] 수업 실시간 소통 서비스서비스 제작자: This is 스파게티!!!(박지성, 김서원, 박범수)💡K교수는 항상 수업이 끝난 후 난이도가 적절했는지 궁금했습니다. “질문 있나요?”라는 말이 수업의 마무리였지만, 대부분의 학생은 답이 없었죠. 그저 고개를 끄덕이는 몇몇 학생들만 보일 뿐, 정말 이해한 것인지, 질문할 용기가 없는 것인지 알 수 없었습니다. 이때문에 학생들이 수업 내용을 제대로 이해하고 있는지 확인하기 어려웠습니다. 어느 날 강의가 끝나고 몇몇 학생들이 몰려와 어렵다고, 다시 설명해 달라고 요청했습니다. 그제야 K교수는 알게 되었어요. 학생들이 이해하지 못하고 있었지만, 질문을 하지 않았던 것이었습니다.다른 학생들의 시선이 부담스러워서, 나만 모르는 거라고 생각해서 질문하지 않는 학생들을 위해 만들어진 서비스가 바로 <에코 클래스룸>입니다. 교수와 학생 간의 소통을 혁신적으로 바꾸기 위해 만들어졌어요. 학생들이 굳이 손을 들고 질문하지 않아도, 에코 클래스룸을 통해 자신의 의견을 표현할 수 있습니다. 익명으로 수업 중 자신의 의견이나 질문을 쉽게 제출할 수 있어 교수님은 실시간으로 학생들의 이해도를 파악할 수 있습니다. 수업 중 또는 후에 교수자가 수업에 대한 피드백을 받을 수 있는 평가 기능과 학생의 이해도를 테스트 할 수 있는 퀴즈 생성 기능이 있어 필요한 경우 수업 속도를 조절하고 추가 설명을 할 수 있어요.사용한 기술 스택 -FE(프론트엔드): Flutter, Socket.IO, Expo CLI, Axios, TanStack Query-BE(백엔드): \\nAnswer:\", additional_kwargs={}, response_metadata={})]\n"
          ]
        }
      ]
    },
    {
      "cell_type": "code",
      "source": [
        "response = llm.invoke(user_prompt)\n",
        "\n",
        "if response and response.content:\n",
        "    sentences = response.content.split('.')\n",
        "    for sentence in sentences:\n",
        "        if sentence.strip():  # 빈 문장은 제외\n",
        "            print(sentence.strip() + '.')"
      ],
      "metadata": {
        "colab": {
          "base_uri": "https://localhost:8080/"
        },
        "id": "bqHKsIyUJc_m",
        "outputId": "62fd1076-8fdf-4a9f-b2bf-6193d7f0600b"
      },
      "execution_count": null,
      "outputs": [
        {
          "output_type": "stream",
          "name": "stdout",
          "text": [
            "ALL-in 코딩 공모전에서는 대학생들이 캠퍼스에서의 문제를 해결하기 위한 혁신적인 웹 및 앱 서비스를 개발했습니다.\n",
            "수상작으로는 언어학습 도구인 \"Lexi Note\", 동아리 정보 플랫폼 \"Crewing\", 학교 생활 관리 서비스 \"학교생활 매니저\", 실시간 소통 서비스 \"에코 클래스룸\" 등이 있습니다.\n",
            "이 공모전은 누구나 자신의 아이디어로 창의적인 서비스를 만들 수 있는 기회를 제공합니다.\n"
          ]
        }
      ]
    },
    {
      "cell_type": "markdown",
      "source": [
        "## [MY CODE] 결과 확인"
      ],
      "metadata": {
        "id": "NIhgSnmGj_kr"
      }
    },
    {
      "cell_type": "code",
      "source": [
        "user_messages = [\n",
        "    \"ALL-in 코딩 공모전 수상작들을 요약해줘.\",\n",
        "    \"대상으로 선정된 프로젝트에 대해 설명해줘.\",\n",
        "    \"우수상 프로젝트들의 공통점을 말해줘.\"\n",
        "]\n",
        "\n",
        "for user_msg in user_messages:\n",
        "    # 검색 및 문서 형식화\n",
        "    retrieved_docs = retriever.invoke(user_msg)\n",
        "\n",
        "    def format_docs(docs):\n",
        "        return \"\\n\\n\".join(doc.page_content for doc in docs)\n",
        "\n",
        "    # 프롬프트 생성\n",
        "    user_prompt = prompt.invoke({\"context\": format_docs(retrieved_docs), \"question\": user_msg})\n",
        "\n",
        "    # 결과 출력\n",
        "    print(f\"User Message: {user_msg}\")\n",
        "    print(\"Response:\")\n",
        "    response = llm.invoke(user_prompt)\n",
        "\n",
        "    # 결과를 문장 단위로 출력\n",
        "    if response and response.content:\n",
        "        sentences = response.content.split('.')\n",
        "        for sentence in sentences:\n",
        "            if sentence.strip():\n",
        "                print(sentence.strip() + '.')"
      ],
      "metadata": {
        "colab": {
          "base_uri": "https://localhost:8080/"
        },
        "id": "dhmED826pvQj",
        "outputId": "bdbdcad4-ae3e-41f8-9ec6-19080c5d91c1"
      },
      "execution_count": null,
      "outputs": [
        {
          "output_type": "stream",
          "name": "stdout",
          "text": [
            "User Message: ALL-in 코딩 공모전 수상작들을 요약해줘.\n",
            "Response:\n",
            "ALL-in 코딩 공모전에서는 대학생들이 자신들의 아이디어로 캠퍼스 문제를 해결하는 웹/앱 서비스를 개발했습니다.\n",
            "대상 수상작은 언어 학습을 도와주는 <Lexi Note>이며, 입선작으로는 연합 동아리 정보 플랫폼 <Crewing>과 학교 생활 관리 서비스 <학교생활 매니저> 등이 있습니다.\n",
            "이 외에도 실시간 소통 서비스 <에코 클래스룸>과 다양한 혁신적인 프로젝트들이 출품되었습니다.\n",
            "User Message: 대상으로 선정된 프로젝트에 대해 설명해줘.\n",
            "Response:\n",
            "이 프로젝트는 대학생들이 캠퍼스에서 경험한 문제를 해결하기 위해 만든 웹/앱 서비스입니다.\n",
            "참가자들은 다양한 아이디어를 통해 언어 학습을 도와주는 \"Lexi Note\"와 같은 혁신적인 서비스를 제작했습니다.\n",
            "이와 같은 프로젝트는 스파르타코딩클럽의 코딩 공모전에서 수상작으로 선정되었습니다.\n",
            "User Message: 우수상 프로젝트들의 공통점을 말해줘.\n",
            "Response:\n",
            "우수상 프로젝트들은 학생들이 공동으로 소통하고 문제를 해결할 수 있는 환경을 조성하는 데 중점을 둡니다.\n",
            "이들은 주로 대학 캠퍼스에서의 불편함을 해결하기 위한 아이디어에서 출발하여, 실용적인 웹 또는 앱 서비스를 개발했습니다.\n",
            "또한, 다양한 기술 스택을 활용하여 혁신적인 기능을 구현하고 있습니다.\n"
          ]
        }
      ]
    },
    {
      "cell_type": "code",
      "source": [],
      "metadata": {
        "id": "6dreq6gAp0fy"
      },
      "execution_count": null,
      "outputs": []
    }
  ]
}