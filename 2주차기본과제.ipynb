{
  "nbformat": 4,
  "nbformat_minor": 0,
  "metadata": {
    "colab": {
      "provenance": [],
      "authorship_tag": "ABX9TyNZz3JV1b+/QtQ3ly0Q6NkM",
      "include_colab_link": true
    },
    "kernelspec": {
      "name": "python3",
      "display_name": "Python 3"
    },
    "language_info": {
      "name": "python"
    }
  },
  "cells": [
    {
      "cell_type": "markdown",
      "metadata": {
        "id": "view-in-github",
        "colab_type": "text"
      },
      "source": [
        "<a href=\"https://colab.research.google.com/github/KwonDuHyeon/hanghae99/blob/main/2%EC%A3%BC%EC%B0%A8%EA%B8%B0%EB%B3%B8%EA%B3%BC%EC%A0%9C.ipynb\" target=\"_parent\"><img src=\"https://colab.research.google.com/assets/colab-badge.svg\" alt=\"Open In Colab\"/></a>"
      ]
    },
    {
      "cell_type": "code",
      "execution_count": 55,
      "metadata": {
        "colab": {
          "base_uri": "https://localhost:8080/"
        },
        "id": "3bUc0pQcu-hw",
        "outputId": "b1c58c63-b903-42dd-9d4e-8c70a2cd3a7a"
      },
      "outputs": [
        {
          "output_type": "stream",
          "name": "stderr",
          "text": [
            "huggingface/tokenizers: The current process just got forked, after parallelism has already been used. Disabling parallelism to avoid deadlocks...\n",
            "To disable this warning, you can either:\n",
            "\t- Avoid using `tokenizers` before the fork if possible\n",
            "\t- Explicitly set the environment variable TOKENIZERS_PARALLELISM=(true | false)\n"
          ]
        },
        {
          "output_type": "stream",
          "name": "stdout",
          "text": [
            "Requirement already satisfied: datasets in ./anaconda3/envs/dawoon/lib/python3.8/site-packages (3.1.0)\r\n",
            "Requirement already satisfied: sacremoses in ./anaconda3/envs/dawoon/lib/python3.8/site-packages (0.1.1)\r\n",
            "Requirement already satisfied: filelock in ./anaconda3/envs/dawoon/lib/python3.8/site-packages (from datasets) (3.16.1)\r\n",
            "Requirement already satisfied: numpy>=1.17 in ./anaconda3/envs/dawoon/lib/python3.8/site-packages (from datasets) (1.24.4)\r\n",
            "Requirement already satisfied: pyarrow>=15.0.0 in ./anaconda3/envs/dawoon/lib/python3.8/site-packages (from datasets) (17.0.0)\r\n",
            "Requirement already satisfied: dill<0.3.9,>=0.3.0 in ./anaconda3/envs/dawoon/lib/python3.8/site-packages (from datasets) (0.3.8)\r\n",
            "Requirement already satisfied: pandas in ./anaconda3/envs/dawoon/lib/python3.8/site-packages (from datasets) (2.0.3)\r\n",
            "Requirement already satisfied: requests>=2.32.2 in ./anaconda3/envs/dawoon/lib/python3.8/site-packages (from datasets) (2.32.3)\r\n",
            "Requirement already satisfied: tqdm>=4.66.3 in ./anaconda3/envs/dawoon/lib/python3.8/site-packages (from datasets) (4.67.1)\r\n",
            "Requirement already satisfied: xxhash in ./anaconda3/envs/dawoon/lib/python3.8/site-packages (from datasets) (3.5.0)\r\n",
            "Requirement already satisfied: multiprocess<0.70.17 in ./anaconda3/envs/dawoon/lib/python3.8/site-packages (from datasets) (0.70.16)\r\n",
            "Requirement already satisfied: fsspec<=2024.9.0,>=2023.1.0 in ./anaconda3/envs/dawoon/lib/python3.8/site-packages (from fsspec[http]<=2024.9.0,>=2023.1.0->datasets) (2024.9.0)\r\n",
            "Requirement already satisfied: aiohttp in ./anaconda3/envs/dawoon/lib/python3.8/site-packages (from datasets) (3.10.11)\r\n",
            "Requirement already satisfied: huggingface-hub>=0.23.0 in ./anaconda3/envs/dawoon/lib/python3.8/site-packages (from datasets) (0.27.0)\r\n",
            "Requirement already satisfied: packaging in ./anaconda3/envs/dawoon/lib/python3.8/site-packages (from datasets) (24.2)\r\n",
            "Requirement already satisfied: pyyaml>=5.1 in ./anaconda3/envs/dawoon/lib/python3.8/site-packages (from datasets) (6.0.2)\r\n",
            "Requirement already satisfied: regex in ./anaconda3/envs/dawoon/lib/python3.8/site-packages (from sacremoses) (2024.11.6)\r\n",
            "Requirement already satisfied: click in ./anaconda3/envs/dawoon/lib/python3.8/site-packages (from sacremoses) (8.1.8)\r\n",
            "Requirement already satisfied: joblib in ./anaconda3/envs/dawoon/lib/python3.8/site-packages (from sacremoses) (1.4.2)\n",
            "Requirement already satisfied: aiohappyeyeballs>=2.3.0 in ./anaconda3/envs/dawoon/lib/python3.8/site-packages (from aiohttp->datasets) (2.4.4)\n",
            "Requirement already satisfied: aiosignal>=1.1.2 in ./anaconda3/envs/dawoon/lib/python3.8/site-packages (from aiohttp->datasets) (1.3.1)\n",
            "Requirement already satisfied: attrs>=17.3.0 in ./anaconda3/envs/dawoon/lib/python3.8/site-packages (from aiohttp->datasets) (24.3.0)\n",
            "Requirement already satisfied: frozenlist>=1.1.1 in ./anaconda3/envs/dawoon/lib/python3.8/site-packages (from aiohttp->datasets) (1.5.0)\n",
            "Requirement already satisfied: multidict<7.0,>=4.5 in ./anaconda3/envs/dawoon/lib/python3.8/site-packages (from aiohttp->datasets) (6.1.0)\n",
            "Requirement already satisfied: yarl<2.0,>=1.12.0 in ./anaconda3/envs/dawoon/lib/python3.8/site-packages (from aiohttp->datasets) (1.15.2)\n",
            "Requirement already satisfied: async-timeout<6.0,>=4.0 in ./anaconda3/envs/dawoon/lib/python3.8/site-packages (from aiohttp->datasets) (5.0.1)\n",
            "Requirement already satisfied: typing-extensions>=3.7.4.3 in ./anaconda3/envs/dawoon/lib/python3.8/site-packages (from huggingface-hub>=0.23.0->datasets) (4.12.2)\n",
            "Requirement already satisfied: charset-normalizer<4,>=2 in ./anaconda3/envs/dawoon/lib/python3.8/site-packages (from requests>=2.32.2->datasets) (3.3.2)\n",
            "Requirement already satisfied: idna<4,>=2.5 in ./anaconda3/envs/dawoon/lib/python3.8/site-packages (from requests>=2.32.2->datasets) (3.7)\n",
            "Requirement already satisfied: urllib3<3,>=1.21.1 in ./anaconda3/envs/dawoon/lib/python3.8/site-packages (from requests>=2.32.2->datasets) (2.2.3)\n",
            "Requirement already satisfied: certifi>=2017.4.17 in ./anaconda3/envs/dawoon/lib/python3.8/site-packages (from requests>=2.32.2->datasets) (2024.8.30)\n",
            "Requirement already satisfied: python-dateutil>=2.8.2 in ./anaconda3/envs/dawoon/lib/python3.8/site-packages (from pandas->datasets) (2.9.0.post0)\n",
            "Requirement already satisfied: pytz>=2020.1 in ./anaconda3/envs/dawoon/lib/python3.8/site-packages (from pandas->datasets) (2024.2)\n",
            "Requirement already satisfied: tzdata>=2022.1 in ./anaconda3/envs/dawoon/lib/python3.8/site-packages (from pandas->datasets) (2024.2)\n",
            "Requirement already satisfied: six>=1.5 in ./anaconda3/envs/dawoon/lib/python3.8/site-packages (from python-dateutil>=2.8.2->pandas->datasets) (1.17.0)\n",
            "Requirement already satisfied: propcache>=0.2.0 in ./anaconda3/envs/dawoon/lib/python3.8/site-packages (from yarl<2.0,>=1.12.0->aiohttp->datasets) (0.2.0)\n",
            "Note: you may need to restart the kernel to use updated packages.\n"
          ]
        }
      ],
      "source": [
        "pip install datasets sacremoses"
      ]
    },
    {
      "cell_type": "markdown",
      "source": [
        "## [MY CODE]Last word prediction dataset 준비(과제)"
      ],
      "metadata": {
        "id": "ay8G8AX6vwWZ"
      }
    },
    {
      "cell_type": "code",
      "source": [
        "import torch\n",
        "from datasets import load_dataset\n",
        "from torch.utils.data import DataLoader\n",
        "from transformers import BertTokenizerFast\n",
        "from torch.nn.utils.rnn import pad_sequence\n",
        "from tokenizers import (\n",
        "    decoders,\n",
        "    models,\n",
        "    normalizers,\n",
        "    pre_tokenizers,\n",
        "    processors,\n",
        "    trainers,\n",
        "    Tokenizer,\n",
        ")\n",
        "\n",
        "\n",
        "ds = load_dataset(\"stanfordnlp/imdb\")\n",
        "tokenizer = torch.hub.load('huggingface/pytorch-transformers', 'tokenizer', 'bert-base-uncased')\n",
        "\n",
        "\n",
        "def collate_fn(batch):\n",
        "  max_len = 400\n",
        "  texts, labels = [], []\n",
        "  for row in batch:\n",
        "    labels.append(tokenizer(row['text'], truncation=True, max_length=max_len).input_ids[-2])\n",
        "    texts.append(torch.LongTensor(tokenizer(row['text'], truncation=True, max_length=max_len).input_ids[:-2]))\n",
        "\n",
        "\n",
        "  texts = pad_sequence(texts, batch_first=True, padding_value=tokenizer.pad_token_id)\n",
        "  labels = torch.LongTensor(labels)\n",
        "\n",
        "  return texts, labels\n",
        "\n",
        "train_loader = DataLoader(\n",
        "    ds['train'], batch_size=64, shuffle=True, collate_fn=collate_fn\n",
        ")\n",
        "test_loader = DataLoader(\n",
        "    ds['test'], batch_size=64, shuffle=False, collate_fn=collate_fn\n",
        ")\n",
        "\n"
      ],
      "metadata": {
        "colab": {
          "base_uri": "https://localhost:8080/"
        },
        "id": "l_UrtHcSvl8M",
        "outputId": "e36a1637-08e4-4f7e-f4cd-e6fd7c419be4"
      },
      "execution_count": 56,
      "outputs": [
        {
          "output_type": "stream",
          "name": "stderr",
          "text": [
            "Using cache found in /home/harry/.cache/torch/hub/huggingface_pytorch-transformers_main\n"
          ]
        }
      ]
    },
    {
      "cell_type": "markdown",
      "source": [
        "## Self Attention"
      ],
      "metadata": {
        "id": "7DFuWPUNxaJG"
      }
    },
    {
      "cell_type": "code",
      "source": [
        "from torch import nn\n",
        "from math import sqrt\n",
        "\n",
        "\n",
        "class SelfAttention(nn.Module):\n",
        "  def __init__(self, input_dim, d_model):\n",
        "    super().__init__()\n",
        "\n",
        "    self.input_dim = input_dim\n",
        "    self.d_model = d_model\n",
        "\n",
        "    self.wq = nn.Linear(input_dim, d_model)\n",
        "    self.wk = nn.Linear(input_dim, d_model)\n",
        "    self.wv = nn.Linear(input_dim, d_model)\n",
        "    self.dense = nn.Linear(d_model, d_model)\n",
        "\n",
        "    self.softmax = nn.Softmax(dim=-1)\n",
        "\n",
        "  def forward(self, x, mask):\n",
        "    q, k, v = self.wq(x), self.wk(x), self.wv(x)\n",
        "    score = torch.matmul(q, k.transpose(-1, -2)) # (B, S, D) * (B, D, S) = (B, S, S)\n",
        "    score = score / sqrt(self.d_model)\n",
        "\n",
        "    if mask is not None:\n",
        "      score = score + (mask * -1e9)\n",
        "\n",
        "    score = self.softmax(score)\n",
        "    result = torch.matmul(score, v)\n",
        "    result = self.dense(result)\n",
        "\n",
        "    return result\n",
        "\n"
      ],
      "metadata": {
        "id": "RMyQPjlFwHf4"
      },
      "execution_count": 57,
      "outputs": []
    },
    {
      "cell_type": "markdown",
      "source": [
        "## TransformerLayer layer"
      ],
      "metadata": {
        "id": "RAu7DAJ9xe4g"
      }
    },
    {
      "cell_type": "code",
      "source": [
        "class TransformerLayer(nn.Module):\n",
        "  def __init__(self, input_dim, d_model, dff):\n",
        "    super().__init__()\n",
        "\n",
        "    self.input_dim = input_dim\n",
        "    self.d_model = d_model\n",
        "    self.dff = dff\n",
        "\n",
        "    self.sa = SelfAttention(input_dim, d_model)\n",
        "    self.ffn = nn.Sequential(\n",
        "      nn.Linear(d_model, dff),\n",
        "      nn.ReLU(),\n",
        "      nn.Linear(dff, d_model)\n",
        "    )\n",
        "\n",
        "  def forward(self, x, mask):\n",
        "    x = self.sa(x, mask)\n",
        "    x = self.ffn(x)\n",
        "\n",
        "    return x\n"
      ],
      "metadata": {
        "id": "jnnGFJt7xdKf"
      },
      "execution_count": 58,
      "outputs": []
    },
    {
      "cell_type": "markdown",
      "source": [
        "## Positional encoding"
      ],
      "metadata": {
        "id": "qGT_-A38xqSC"
      }
    },
    {
      "cell_type": "code",
      "source": [
        "import numpy as np\n",
        "\n",
        "\n",
        "def get_angles(pos, i, d_model):\n",
        "    angle_rates = 1 / np.power(10000, (2 * (i // 2)) / np.float32(d_model))\n",
        "    return pos * angle_rates\n",
        "\n",
        "def positional_encoding(position, d_model):\n",
        "    angle_rads = get_angles(np.arange(position)[:, None], np.arange(d_model)[None, :], d_model)\n",
        "    angle_rads[:, 0::2] = np.sin(angle_rads[:, 0::2])\n",
        "    angle_rads[:, 1::2] = np.cos(angle_rads[:, 1::2])\n",
        "    pos_encoding = angle_rads[None, ...]\n",
        "\n",
        "    return torch.FloatTensor(pos_encoding)\n",
        "\n",
        "\n",
        "max_len = 400\n",
        "print(positional_encoding(max_len, 256).shape)"
      ],
      "metadata": {
        "colab": {
          "base_uri": "https://localhost:8080/"
        },
        "id": "ALBQwrH-xiqT",
        "outputId": "0c1f52dc-f7a9-49e4-802f-99f53e520e3a"
      },
      "execution_count": 59,
      "outputs": [
        {
          "output_type": "stream",
          "name": "stdout",
          "text": [
            "torch.Size([1, 400, 256])\n"
          ]
        }
      ]
    },
    {
      "cell_type": "markdown",
      "source": [
        "## [MY CODE] TextClassifier 출력 차원 수정"
      ],
      "metadata": {
        "id": "IFnDMaq0jiny"
      }
    },
    {
      "cell_type": "code",
      "source": [
        "class TextClassifier(nn.Module):\n",
        "  def __init__(self, vocab_size, d_model, n_layers, dff):\n",
        "    super().__init__()\n",
        "\n",
        "    self.vocab_size = vocab_size\n",
        "    self.d_model = d_model\n",
        "    self.n_layers = n_layers\n",
        "    self.dff = dff\n",
        "\n",
        "    self.embedding = nn.Embedding(vocab_size, d_model)\n",
        "    self.pos_encoding = nn.parameter.Parameter(positional_encoding(max_len, d_model), requires_grad=False)\n",
        "    self.layers = nn.ModuleList([TransformerLayer(d_model, d_model, dff) for _ in range(n_layers)])\n",
        "    self.classification = nn.Linear(d_model, vocab_size) # [과제] 출력 차원 수정 1-> vocab_size\n",
        "\n",
        "  def forward(self, x):\n",
        "    mask = (x == tokenizer.pad_token_id)\n",
        "    mask = mask[:, None, :]\n",
        "    seq_len = x.shape[1]\n",
        "\n",
        "    x = self.embedding(x)\n",
        "    x = x * sqrt(self.d_model)\n",
        "    x = x + self.pos_encoding[:, :seq_len]\n",
        "\n",
        "    for layer in self.layers:\n",
        "      x = layer(x, mask)\n",
        "\n",
        "    x = x[:, 0]\n",
        "    x = self.classification(x)\n",
        "\n",
        "    return x\n",
        "\n",
        "\n",
        "model = TextClassifier(len(tokenizer), 32, 2, 32)\n",
        "\n",
        "\n"
      ],
      "metadata": {
        "id": "Imi9XtzNxuCn"
      },
      "execution_count": 60,
      "outputs": []
    },
    {
      "cell_type": "markdown",
      "source": [
        "## [MY CODE]Loss Function 수정(CrossEntropyLoss())"
      ],
      "metadata": {
        "id": "EphgyOVl9qDs"
      }
    },
    {
      "cell_type": "code",
      "source": [
        "from torch.optim import Adam\n",
        "from torch.optim.lr_scheduler import StepLR # StepLR 추가\n",
        "\n",
        "lr = 0.001\n",
        "model = model.to('cuda')\n",
        "loss_fn = nn.CrossEntropyLoss()\n",
        "\n",
        "optimizer = Adam(model.parameters(), lr=lr)"
      ],
      "metadata": {
        "id": "2Llsvb2sxw7L"
      },
      "execution_count": 61,
      "outputs": []
    },
    {
      "cell_type": "code",
      "source": [
        "import numpy as np\n",
        "import matplotlib.pyplot as plt\n",
        "\n",
        "\n",
        "def accuracy(model, dataloader):\n",
        "  cnt = 0\n",
        "  acc = 0\n",
        "\n",
        "  for data in dataloader:\n",
        "    inputs, labels = data\n",
        "    inputs, labels = inputs.to('cuda'), labels.to('cuda')\n",
        "\n",
        "    preds = model(inputs)\n",
        "    preds = torch.argmax(preds, dim=-1) # 가장 높은 확률 클래스 선택\n",
        "    # preds = (preds > 0).long()[..., 0]\n",
        "\n",
        "    cnt += labels.shape[0]\n",
        "    acc += (labels == preds).sum().item()\n",
        "\n",
        "  return acc / cnt"
      ],
      "metadata": {
        "id": "YUgfhZckx1gW"
      },
      "execution_count": 62,
      "outputs": []
    },
    {
      "cell_type": "markdown",
      "source": [
        "## [MY CODE] Checkpoint 저장"
      ],
      "metadata": {
        "id": "2VY-1fSWo227"
      }
    },
    {
      "cell_type": "code",
      "source": [
        "import os\n",
        "from pathlib import Path\n",
        "def save_checkpoint(model, optimizer, epoch, train_acc, test_acc, filename):\n",
        "\n",
        "\n",
        "    save_path = os.path.join('/mnt/d/colab/2week/basic/', filename)\n",
        "    checkpoint = {\n",
        "        'epoch': epoch,\n",
        "        'model_state_dict': model.state_dict(),\n",
        "        'optimizer_state_dict': optimizer.state_dict(),\n",
        "        'train_acc': train_acc,\n",
        "        'test_acc': test_acc,\n",
        "        'train_acc_list': train_acc_list,\n",
        "        'test_acc_list': test_acc_list\n",
        "    }\n",
        "    torch.save(checkpoint, save_path)\n",
        "    print(f\"Checkpoint saved: {save_path}\")"
      ],
      "metadata": {
        "id": "xxytobzCoNdk"
      },
      "execution_count": 63,
      "outputs": []
    },
    {
      "cell_type": "markdown",
      "source": [
        "## [MY CODE] 학습 진행"
      ],
      "metadata": {
        "id": "QXRkQWz4jq8I"
      }
    },
    {
      "cell_type": "code",
      "source": [
        "n_epochs = 50\n",
        "best_acc = 0.0\n",
        "train_acc_list = []\n",
        "test_acc_list = []\n",
        "\n",
        "\n",
        "\n",
        "for epoch in range(n_epochs):\n",
        "  total_loss = 0.\n",
        "  model.train()\n",
        "\n",
        "  for data in train_loader:\n",
        "    model.zero_grad()\n",
        "    inputs, labels = data\n",
        "    inputs, labels = inputs.to('cuda'), labels.to('cuda')\n",
        "\n",
        "    preds = model(inputs)\n",
        "    loss = loss_fn(preds, labels)\n",
        "    loss.backward()\n",
        "    optimizer.step()\n",
        "\n",
        "    total_loss += loss.item()\n",
        "\n",
        "  print(f\"Epoch {epoch:3d} | Train Loss: {total_loss}\")\n",
        "\n",
        "  with torch.no_grad():\n",
        "    model.eval()\n",
        "    train_acc = accuracy(model, train_loader)\n",
        "    test_acc = accuracy(model, test_loader)\n",
        "\n",
        "    train_acc_list.append(train_acc)\n",
        "    test_acc_list.append(test_acc)\n",
        "\n",
        "    print(f\"=========> Train acc: {train_acc:.3f} | Test acc: {test_acc:.3f}\")\n",
        "\n",
        "    save_checkpoint(model, optimizer, epoch, train_acc, test_acc,\n",
        "                       f'checkpoint_epoch_{epoch}.pth')\n",
        "\n",
        "\n",
        "    if test_acc > best_acc:\n",
        "        best_acc = test_acc\n",
        "        save_checkpoint(model, optimizer, epoch, train_acc, test_acc,\n",
        "                        'best_model.pth')\n",
        "        print(f\"New best model saved with test accuracy: {test_acc:.3f}\")"
      ],
      "metadata": {
        "colab": {
          "base_uri": "https://localhost:8080/"
        },
        "id": "VFxyVwvCx3Jn",
        "outputId": "3d86b0b7-aa6e-4f31-91d2-28e9e30ba191"
      },
      "execution_count": 64,
      "outputs": [
        {
          "output_type": "stream",
          "name": "stdout",
          "text": [
            "Epoch   0 | Train Loss: 1502.4189670085907\n",
            "=========> Train acc: 0.558 | Test acc: 0.564\n",
            "Checkpoint saved: /mnt/d/colab/2week/basic/checkpoint_epoch_0.pth\n",
            "Checkpoint saved: /mnt/d/colab/2week/basic/best_model.pth\n",
            "New best model saved with test accuracy: 0.564\n",
            "Epoch   1 | Train Loss: 1179.0684309005737\n",
            "=========> Train acc: 0.558 | Test acc: 0.564\n",
            "Checkpoint saved: /mnt/d/colab/2week/basic/checkpoint_epoch_1.pth\n",
            "Epoch   2 | Train Loss: 1141.4919648170471\n",
            "=========> Train acc: 0.558 | Test acc: 0.564\n",
            "Checkpoint saved: /mnt/d/colab/2week/basic/checkpoint_epoch_2.pth\n",
            "Epoch   3 | Train Loss: 1125.4107120037079\n",
            "=========> Train acc: 0.558 | Test acc: 0.564\n",
            "Checkpoint saved: /mnt/d/colab/2week/basic/checkpoint_epoch_3.pth\n",
            "Epoch   4 | Train Loss: 1095.5243744850159\n",
            "=========> Train acc: 0.558 | Test acc: 0.564\n",
            "Checkpoint saved: /mnt/d/colab/2week/basic/checkpoint_epoch_4.pth\n",
            "Epoch   5 | Train Loss: 1074.597777247429\n",
            "=========> Train acc: 0.558 | Test acc: 0.564\n",
            "Checkpoint saved: /mnt/d/colab/2week/basic/checkpoint_epoch_5.pth\n",
            "Epoch   6 | Train Loss: 1064.6322031021118\n",
            "=========> Train acc: 0.558 | Test acc: 0.564\n",
            "Checkpoint saved: /mnt/d/colab/2week/basic/checkpoint_epoch_6.pth\n",
            "Epoch   7 | Train Loss: 1063.7619615793228\n",
            "=========> Train acc: 0.558 | Test acc: 0.564\n",
            "Checkpoint saved: /mnt/d/colab/2week/basic/checkpoint_epoch_7.pth\n",
            "Epoch   8 | Train Loss: 1057.9308831691742\n",
            "=========> Train acc: 0.558 | Test acc: 0.564\n",
            "Checkpoint saved: /mnt/d/colab/2week/basic/checkpoint_epoch_8.pth\n",
            "Epoch   9 | Train Loss: 1055.5472059249878\n",
            "=========> Train acc: 0.558 | Test acc: 0.564\n",
            "Checkpoint saved: /mnt/d/colab/2week/basic/checkpoint_epoch_9.pth\n",
            "Epoch  10 | Train Loss: 1052.3687434196472\n",
            "=========> Train acc: 0.558 | Test acc: 0.564\n",
            "Checkpoint saved: /mnt/d/colab/2week/basic/checkpoint_epoch_10.pth\n",
            "Epoch  11 | Train Loss: 1049.8968064785004\n",
            "=========> Train acc: 0.558 | Test acc: 0.564\n",
            "Checkpoint saved: /mnt/d/colab/2week/basic/checkpoint_epoch_11.pth\n",
            "Epoch  12 | Train Loss: 1045.684551000595\n",
            "=========> Train acc: 0.558 | Test acc: 0.564\n",
            "Checkpoint saved: /mnt/d/colab/2week/basic/checkpoint_epoch_12.pth\n",
            "Epoch  13 | Train Loss: 1043.8510112762451\n",
            "=========> Train acc: 0.557 | Test acc: 0.563\n",
            "Checkpoint saved: /mnt/d/colab/2week/basic/checkpoint_epoch_13.pth\n",
            "Epoch  14 | Train Loss: 1041.7618877887726\n",
            "=========> Train acc: 0.558 | Test acc: 0.564\n",
            "Checkpoint saved: /mnt/d/colab/2week/basic/checkpoint_epoch_14.pth\n",
            "Epoch  15 | Train Loss: 1039.4133160114288\n",
            "=========> Train acc: 0.558 | Test acc: 0.564\n",
            "Checkpoint saved: /mnt/d/colab/2week/basic/checkpoint_epoch_15.pth\n",
            "Epoch  16 | Train Loss: 1035.525282740593\n",
            "=========> Train acc: 0.558 | Test acc: 0.564\n",
            "Checkpoint saved: /mnt/d/colab/2week/basic/checkpoint_epoch_16.pth\n",
            "Epoch  17 | Train Loss: 1031.6506853103638\n",
            "=========> Train acc: 0.558 | Test acc: 0.564\n",
            "Checkpoint saved: /mnt/d/colab/2week/basic/checkpoint_epoch_17.pth\n",
            "Epoch  18 | Train Loss: 1028.18701004982\n",
            "=========> Train acc: 0.558 | Test acc: 0.563\n",
            "Checkpoint saved: /mnt/d/colab/2week/basic/checkpoint_epoch_18.pth\n",
            "Epoch  19 | Train Loss: 1024.8019007444382\n",
            "=========> Train acc: 0.558 | Test acc: 0.564\n",
            "Checkpoint saved: /mnt/d/colab/2week/basic/checkpoint_epoch_19.pth\n",
            "Epoch  20 | Train Loss: 1021.8640424013138\n",
            "=========> Train acc: 0.558 | Test acc: 0.563\n",
            "Checkpoint saved: /mnt/d/colab/2week/basic/checkpoint_epoch_20.pth\n",
            "Epoch  21 | Train Loss: 1017.4469841718674\n",
            "=========> Train acc: 0.558 | Test acc: 0.563\n",
            "Checkpoint saved: /mnt/d/colab/2week/basic/checkpoint_epoch_21.pth\n",
            "Epoch  22 | Train Loss: 1014.5034745931625\n",
            "=========> Train acc: 0.558 | Test acc: 0.563\n",
            "Checkpoint saved: /mnt/d/colab/2week/basic/checkpoint_epoch_22.pth\n",
            "Epoch  23 | Train Loss: 1015.1596612930298\n",
            "=========> Train acc: 0.558 | Test acc: 0.563\n",
            "Checkpoint saved: /mnt/d/colab/2week/basic/checkpoint_epoch_23.pth\n",
            "Epoch  24 | Train Loss: 1011.9349459409714\n",
            "=========> Train acc: 0.558 | Test acc: 0.564\n",
            "Checkpoint saved: /mnt/d/colab/2week/basic/checkpoint_epoch_24.pth\n",
            "Epoch  25 | Train Loss: 1008.3591598272324\n",
            "=========> Train acc: 0.558 | Test acc: 0.563\n",
            "Checkpoint saved: /mnt/d/colab/2week/basic/checkpoint_epoch_25.pth\n",
            "Epoch  26 | Train Loss: 1005.6266024112701\n",
            "=========> Train acc: 0.558 | Test acc: 0.564\n",
            "Checkpoint saved: /mnt/d/colab/2week/basic/checkpoint_epoch_26.pth\n",
            "Epoch  27 | Train Loss: 1001.6045963764191\n",
            "=========> Train acc: 0.557 | Test acc: 0.561\n",
            "Checkpoint saved: /mnt/d/colab/2week/basic/checkpoint_epoch_27.pth\n",
            "Epoch  28 | Train Loss: 998.5700306892395\n",
            "=========> Train acc: 0.558 | Test acc: 0.563\n",
            "Checkpoint saved: /mnt/d/colab/2week/basic/checkpoint_epoch_28.pth\n",
            "Epoch  29 | Train Loss: 995.5205811262131\n",
            "=========> Train acc: 0.558 | Test acc: 0.562\n",
            "Checkpoint saved: /mnt/d/colab/2week/basic/checkpoint_epoch_29.pth\n",
            "Epoch  30 | Train Loss: 991.6421346664429\n",
            "=========> Train acc: 0.558 | Test acc: 0.563\n",
            "Checkpoint saved: /mnt/d/colab/2week/basic/checkpoint_epoch_30.pth\n",
            "Epoch  31 | Train Loss: 988.2771661281586\n",
            "=========> Train acc: 0.556 | Test acc: 0.560\n",
            "Checkpoint saved: /mnt/d/colab/2week/basic/checkpoint_epoch_31.pth\n",
            "Epoch  32 | Train Loss: 985.2255464792252\n",
            "=========> Train acc: 0.558 | Test acc: 0.563\n",
            "Checkpoint saved: /mnt/d/colab/2week/basic/checkpoint_epoch_32.pth\n",
            "Epoch  33 | Train Loss: 982.3738465309143\n",
            "=========> Train acc: 0.558 | Test acc: 0.562\n",
            "Checkpoint saved: /mnt/d/colab/2week/basic/checkpoint_epoch_33.pth\n",
            "Epoch  34 | Train Loss: 979.8327099084854\n",
            "=========> Train acc: 0.557 | Test acc: 0.562\n",
            "Checkpoint saved: /mnt/d/colab/2week/basic/checkpoint_epoch_34.pth\n",
            "Epoch  35 | Train Loss: 976.3963084220886\n",
            "=========> Train acc: 0.558 | Test acc: 0.563\n",
            "Checkpoint saved: /mnt/d/colab/2week/basic/checkpoint_epoch_35.pth\n",
            "Epoch  36 | Train Loss: 971.5399857759476\n",
            "=========> Train acc: 0.558 | Test acc: 0.563\n",
            "Checkpoint saved: /mnt/d/colab/2week/basic/checkpoint_epoch_36.pth\n",
            "Epoch  37 | Train Loss: 966.7107689380646\n",
            "=========> Train acc: 0.557 | Test acc: 0.563\n",
            "Checkpoint saved: /mnt/d/colab/2week/basic/checkpoint_epoch_37.pth\n",
            "Epoch  38 | Train Loss: 961.4426132440567\n",
            "=========> Train acc: 0.558 | Test acc: 0.563\n",
            "Checkpoint saved: /mnt/d/colab/2week/basic/checkpoint_epoch_38.pth\n",
            "Epoch  39 | Train Loss: 956.6828210353851\n",
            "=========> Train acc: 0.558 | Test acc: 0.562\n",
            "Checkpoint saved: /mnt/d/colab/2week/basic/checkpoint_epoch_39.pth\n",
            "Epoch  40 | Train Loss: 952.8793294429779\n",
            "=========> Train acc: 0.559 | Test acc: 0.563\n",
            "Checkpoint saved: /mnt/d/colab/2week/basic/checkpoint_epoch_40.pth\n",
            "Epoch  41 | Train Loss: 948.313605427742\n",
            "=========> Train acc: 0.559 | Test acc: 0.564\n",
            "Checkpoint saved: /mnt/d/colab/2week/basic/checkpoint_epoch_41.pth\n",
            "Checkpoint saved: /mnt/d/colab/2week/basic/best_model.pth\n",
            "New best model saved with test accuracy: 0.564\n",
            "Epoch  42 | Train Loss: 943.8352035284042\n",
            "=========> Train acc: 0.559 | Test acc: 0.562\n",
            "Checkpoint saved: /mnt/d/colab/2week/basic/checkpoint_epoch_42.pth\n",
            "Epoch  43 | Train Loss: 938.9431667327881\n",
            "=========> Train acc: 0.558 | Test acc: 0.563\n",
            "Checkpoint saved: /mnt/d/colab/2week/basic/checkpoint_epoch_43.pth\n",
            "Epoch  44 | Train Loss: 937.3375331163406\n",
            "=========> Train acc: 0.559 | Test acc: 0.563\n",
            "Checkpoint saved: /mnt/d/colab/2week/basic/checkpoint_epoch_44.pth\n",
            "Epoch  45 | Train Loss: 932.130872130394\n",
            "=========> Train acc: 0.558 | Test acc: 0.562\n",
            "Checkpoint saved: /mnt/d/colab/2week/basic/checkpoint_epoch_45.pth\n",
            "Epoch  46 | Train Loss: 924.9492701292038\n",
            "=========> Train acc: 0.559 | Test acc: 0.562\n",
            "Checkpoint saved: /mnt/d/colab/2week/basic/checkpoint_epoch_46.pth\n",
            "Epoch  47 | Train Loss: 918.1401381492615\n",
            "=========> Train acc: 0.559 | Test acc: 0.562\n",
            "Checkpoint saved: /mnt/d/colab/2week/basic/checkpoint_epoch_47.pth\n",
            "Epoch  48 | Train Loss: 915.0951229333878\n",
            "=========> Train acc: 0.559 | Test acc: 0.561\n",
            "Checkpoint saved: /mnt/d/colab/2week/basic/checkpoint_epoch_48.pth\n",
            "Epoch  49 | Train Loss: 913.0453014373779\n",
            "=========> Train acc: 0.560 | Test acc: 0.563\n",
            "Checkpoint saved: /mnt/d/colab/2week/basic/checkpoint_epoch_49.pth\n"
          ]
        }
      ]
    },
    {
      "cell_type": "markdown",
      "source": [
        "[LOG] scheduler StepLR 사용하니 더 떨어진다\n"
      ],
      "metadata": {
        "id": "sfv28qqhAAU6"
      }
    },
    {
      "cell_type": "markdown",
      "source": [
        "## [MY CODE] Plot 함수"
      ],
      "metadata": {
        "id": "nm8eYlGHjwL-"
      }
    },
    {
      "cell_type": "code",
      "source": [
        "def plot_accuracy(train_acc_list, test_acc_list):\n",
        "    plt.figure(figsize=(10, 6))\n",
        "\n",
        "    epochs = range(len(train_acc_list))\n",
        "    plt.plot(epochs, train_acc_list, label='Train Accuracy', linestyle='-', marker='o')\n",
        "    plt.plot(epochs, test_acc_list, label='Test Accuracy', linestyle='--', marker='x')\n",
        "\n",
        "    plt.xlabel('Epochs')\n",
        "    plt.ylabel('Accuracy')\n",
        "    plt.title('Training and Test Accuracy over Epochs')\n",
        "    plt.legend()\n",
        "    plt.grid(True)\n",
        "    plt.show()"
      ],
      "metadata": {
        "id": "L2zymd8DXOwp"
      },
      "execution_count": 65,
      "outputs": []
    },
    {
      "cell_type": "markdown",
      "source": [
        "## [MY CODE] Plot 출력"
      ],
      "metadata": {
        "id": "PPRye-05kB-0"
      }
    },
    {
      "cell_type": "code",
      "source": [
        "plot_accuracy(train_acc_list, test_acc_list)"
      ],
      "metadata": {
        "colab": {
          "base_uri": "https://localhost:8080/",
          "height": 564
        },
        "id": "uCgswrPpkANg",
        "outputId": "161748a8-7248-4ba6-cbab-df2def392a59"
      },
      "execution_count": 66,
      "outputs": [
        {
          "output_type": "display_data",
          "data": {
            "text/plain": [
              "<Figure size 1000x600 with 1 Axes>"
            ],
            "image/png": "[encoded data removed]"
          },
          "metadata": {}
        }
      ]
    },
    {
      "cell_type": "markdown",
      "source": [
        "[FEEDBACK] test accuracy 결과가 학습이 제대로 안된것 같습니다 이게 정상적으로 진행이 된게 맞을까요??"
      ],
      "metadata": {
        "id": "fheafno8S7-s"
      }
    },
    {
      "cell_type": "code",
      "source": [],
      "metadata": {
        "id": "vaD6e8LGkR3Q"
      },
      "execution_count": 67,
      "outputs": []
    }
  ]
}