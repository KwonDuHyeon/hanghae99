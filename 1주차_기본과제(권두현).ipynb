{
  "nbformat": 4,
  "nbformat_minor": 0,
  "metadata": {
    "colab": {
      "provenance": [],
      "gpuType": "T4",
      "authorship_tag": "ABX9TyPHPfz13HJWrzUgSdeTiwKw",
      "include_colab_link": true
    },
    "kernelspec": {
      "name": "python3",
      "display_name": "Python 3"
    },
    "language_info": {
      "name": "python"
    },
    "accelerator": "GPU"
  },
  "cells": [
    {
      "cell_type": "markdown",
      "metadata": {
        "id": "view-in-github",
        "colab_type": "text"
      },
      "source": [
        "<a href=\"https://colab.research.google.com/github/KwonDuHyeon/hanghae99/blob/main/1%EC%A3%BC%EC%B0%A8_%EA%B8%B0%EB%B3%B8%EA%B3%BC%EC%A0%9C(%EA%B6%8C%EB%91%90%ED%98%84).ipynb\" target=\"_parent\"><img src=\"https://colab.research.google.com/assets/colab-badge.svg\" alt=\"Open In Colab\"/></a>"
      ]
    },
    {
      "cell_type": "markdown",
      "source": [
        "# MNIST 1주차 기본과제 권두현\n"
      ],
      "metadata": {
        "id": "OPJenlrhihrh"
      }
    },
    {
      "cell_type": "markdown",
      "source": [
        "## 1. import 부분"
      ],
      "metadata": {
        "id": "zPQ2iiwbn-2w"
      }
    },
    {
      "cell_type": "code",
      "execution_count": 1,
      "metadata": {
        "id": "6lXVfXoDtoQh"
      },
      "outputs": [],
      "source": [
        "import torch\n",
        "import torchvision\n",
        "import torchvision.transforms as transforms\n"
      ]
    },
    {
      "cell_type": "markdown",
      "source": [
        "## 2.1 Train Data set 설정 부분"
      ],
      "metadata": {
        "id": "pF-1zQvmiult"
      }
    },
    {
      "cell_type": "code",
      "source": [
        "transform = transforms.Compose([\n",
        "    transforms.ToTensor(),\n",
        "    transforms.Normalize((0.5,), (0.5,))\n",
        "])\n",
        "\n",
        "trainset = torchvision.datasets.MNIST(\n",
        "    root='./data',\n",
        "    train=True,\n",
        "    download=True,\n",
        "    transform=transform\n",
        ")"
      ],
      "metadata": {
        "id": "KAYlqPaRt6ti",
        "collapsed": true
      },
      "execution_count": 2,
      "outputs": []
    },
    {
      "cell_type": "markdown",
      "source": [
        "## 2.2 Test Data Set 설정 부분(과제)"
      ],
      "metadata": {
        "id": "p-GqH7_ZjVMs"
      }
    },
    {
      "cell_type": "code",
      "source": [
        "testset = torchvision.datasets.MNIST(\n",
        "    root='./data',\n",
        "    train = False,\n",
        "    transform=transform\n",
        ")"
      ],
      "metadata": {
        "id": "Y1k4XWb4oVo-"
      },
      "execution_count": 3,
      "outputs": []
    },
    {
      "cell_type": "markdown",
      "source": [
        "## 3.1 Train Data Set 데이터 확인"
      ],
      "metadata": {
        "id": "vOwgj_L8sfqG"
      }
    },
    {
      "cell_type": "code",
      "source": [
        "from matplotlib import pyplot as plt\n",
        "\n",
        "\n",
        "print(len(trainset))\n",
        "print(trainset[0][0].shape, trainset[0][1])\n",
        "plt.imshow(trainset[0][0][0], cmap='gray')"
      ],
      "metadata": {
        "id": "Zsp3sHmojyhT",
        "colab": {
          "base_uri": "https://localhost:8080/",
          "height": 485
        },
        "outputId": "bc4087c9-3093-4aab-f726-46155a72539a"
      },
      "execution_count": 4,
      "outputs": [
        {
          "output_type": "stream",
          "name": "stdout",
          "text": [
            "60000\n",
            "torch.Size([1, 28, 28]) 5\n"
          ]
        },
        {
          "output_type": "execute_result",
          "data": {
            "text/plain": [
              "<matplotlib.image.AxesImage at 0x7f3325de9a50>"
            ]
          },
          "metadata": {},
          "execution_count": 4
        },
        {
          "output_type": "display_data",
          "data": {
            "text/plain": [
              "<Figure size 640x480 with 1 Axes>"
            ],
            "image/png": "[encoded data removed]"
          },
          "metadata": {}
        }
      ]
    },
    {
      "cell_type": "markdown",
      "source": [
        "## 3.2 Test Data Set 데이터 확인(과제)"
      ],
      "metadata": {
        "id": "XfXrdVhTspy5"
      }
    },
    {
      "cell_type": "code",
      "source": [
        "print(len(testset))\n",
        "print(testset[0][0].shape, testset[0][1])\n",
        "plt.imshow(testset[0][0][0], cmap='gray')"
      ],
      "metadata": {
        "id": "oK_MNJAHspdy",
        "colab": {
          "base_uri": "https://localhost:8080/",
          "height": 485
        },
        "outputId": "c36958ae-8799-44fd-fa21-d51d62e52916"
      },
      "execution_count": 5,
      "outputs": [
        {
          "output_type": "stream",
          "name": "stdout",
          "text": [
            "10000\n",
            "torch.Size([1, 28, 28]) 7\n"
          ]
        },
        {
          "output_type": "execute_result",
          "data": {
            "text/plain": [
              "<matplotlib.image.AxesImage at 0x7f33254d33a0>"
            ]
          },
          "metadata": {},
          "execution_count": 5
        },
        {
          "output_type": "display_data",
          "data": {
            "text/plain": [
              "<Figure size 640x480 with 1 Axes>"
            ],
            "image/png": "[encoded data removed]"
          },
          "metadata": {}
        }
      ]
    },
    {
      "cell_type": "markdown",
      "source": [
        "## 4.1 Train data set loader"
      ],
      "metadata": {
        "id": "udm8wDBsi301"
      }
    },
    {
      "cell_type": "code",
      "source": [
        "batch_size = 256\n",
        "\n",
        "trainloader = torch.utils.data.DataLoader(\n",
        "    trainset,\n",
        "    batch_size=batch_size,\n",
        "    shuffle=True\n",
        ")"
      ],
      "metadata": {
        "id": "UxKu3kA2i5WH"
      },
      "execution_count": 6,
      "outputs": []
    },
    {
      "cell_type": "markdown",
      "source": [
        "## 4.2 Test data set loader(과제)"
      ],
      "metadata": {
        "id": "ZJWNNAzotXG_"
      }
    },
    {
      "cell_type": "code",
      "source": [
        "testloader = torch.utils.data.DataLoader(\n",
        "    testset,\n",
        "    batch_size=batch_size,\n",
        "    shuffle=False\n",
        ")"
      ],
      "metadata": {
        "id": "jj_NkW_rtWas"
      },
      "execution_count": 7,
      "outputs": []
    },
    {
      "cell_type": "markdown",
      "source": [
        "## 5. 첫번째 batch 출력\n"
      ],
      "metadata": {
        "id": "z4Qyrm4WlzWt"
      }
    },
    {
      "cell_type": "code",
      "source": [
        "dataiter = iter(trainloader)\n",
        "images, labels = next(dataiter)\n",
        "print(images.shape, labels.shape)"
      ],
      "metadata": {
        "id": "_Hd7XxyAvVNz",
        "colab": {
          "base_uri": "https://localhost:8080/"
        },
        "outputId": "ab4b25d7-e89a-45e9-e738-2e50d6210320"
      },
      "execution_count": 8,
      "outputs": [
        {
          "output_type": "stream",
          "name": "stdout",
          "text": [
            "torch.Size([256, 1, 28, 28]) torch.Size([256])\n"
          ]
        }
      ]
    },
    {
      "cell_type": "markdown",
      "source": [
        "## 6. Model 부분(과제)"
      ],
      "metadata": {
        "id": "h0ZY5mDimRUK"
      }
    },
    {
      "cell_type": "code",
      "source": [
        "from torch import nn\n",
        "\n",
        "\n",
        "class Model(nn.Module):\n",
        "  def __init__(self, input_dim, n_dim, num_classes = 10):\n",
        "    super().__init__()\n",
        "\n",
        "    self.layer1 = nn.Linear(input_dim, n_dim)\n",
        "    self.layer2 = nn.Linear(n_dim, n_dim)\n",
        "    self.layer3 = nn.Linear(n_dim, num_classes)\n",
        "\n",
        "    self.act = nn.ReLU()\n",
        "\n",
        "  def forward(self, x):\n",
        "    x = torch.flatten(x, start_dim=1)\n",
        "    x = self.act(self.layer1(x))\n",
        "    x = self.act(self.layer2(x))\n",
        "    x = self.layer3(x)\n",
        "\n",
        "    return x\n",
        "\n",
        "\n",
        "model = Model(28 * 28 * 1, 1024)"
      ],
      "metadata": {
        "id": "OLOA-ZGTuVVG"
      },
      "execution_count": 9,
      "outputs": []
    },
    {
      "cell_type": "markdown",
      "source": [
        "##7. lr, optimizer 설정"
      ],
      "metadata": {
        "id": "tag1rNcwmnAr"
      }
    },
    {
      "cell_type": "code",
      "source": [
        "from torch.optim import SGD\n",
        "\n",
        "lr = 0.001\n",
        "model = model.to('cuda')\n",
        "\n",
        "optimizer = SGD(model.parameters(), lr=lr)"
      ],
      "metadata": {
        "id": "ypS0TcOlvBhZ"
      },
      "execution_count": 10,
      "outputs": []
    },
    {
      "cell_type": "markdown",
      "source": [
        "## 8.accuracy 함수 추가"
      ],
      "metadata": {
        "id": "h5c0Cv5LBYs5"
      }
    },
    {
      "cell_type": "code",
      "source": [
        "def accuracy(model, dataloader):\n",
        "  cnt = 0\n",
        "  acc = 0\n",
        "\n",
        "  for data in dataloader:\n",
        "    inputs, labels = data\n",
        "    inputs, labels = inputs.to('cuda'), labels.to('cuda')\n",
        "\n",
        "    preds = model(inputs)\n",
        "    preds = torch.argmax(preds, dim=-1)\n",
        "\n",
        "    cnt += labels.shape[0]\n",
        "    acc += (labels == preds).sum().item()\n",
        "\n",
        "  return acc / cnt"
      ],
      "metadata": {
        "id": "4sKkvsN7BYIb"
      },
      "execution_count": 11,
      "outputs": []
    },
    {
      "cell_type": "markdown",
      "source": [
        "##9.Plot 함수추가"
      ],
      "metadata": {
        "id": "1jwoNrVFBiRw"
      }
    },
    {
      "cell_type": "code",
      "source": [
        "import numpy as np\n",
        "\n",
        "def plot_acc(train_accs, test_accs, label1='train', label2='test'):\n",
        "  x = np.arange(len(train_accs))\n",
        "\n",
        "  plt.plot(x, train_accs, label=label1)\n",
        "  plt.plot(x, test_accs, label=label2)\n",
        "  plt.legend()\n",
        "  plt.show()"
      ],
      "metadata": {
        "id": "N4lERT0kBhub"
      },
      "execution_count": 12,
      "outputs": []
    },
    {
      "cell_type": "markdown",
      "source": [
        "## 8.epochs 및 crossentropyloss 적용(과제)"
      ],
      "metadata": {
        "id": "5PooeOKMnRfZ"
      }
    },
    {
      "cell_type": "code",
      "source": [
        "from logging import critical\n",
        "\n",
        "train_accs = []\n",
        "test_accs = []\n",
        "\n",
        "n_epochs = 100\n",
        "criterion = nn.CrossEntropyLoss()\n",
        "\n",
        "for epoch in range(n_epochs):\n",
        "  total_loss = 0.\n",
        "  for data in trainloader:\n",
        "    model.zero_grad()\n",
        "    inputs, labels = data\n",
        "    inputs, labels = inputs.to('cuda'), labels.to('cuda')\n",
        "\n",
        "    preds = model(inputs)\n",
        "    loss = criterion(preds, labels)\n",
        "    loss.backward()\n",
        "    optimizer.step()\n",
        "\n",
        "    total_loss += loss.item()\n",
        "\n",
        "  # train accuracy 부분\n",
        "  train_accuracy = accuracy(model, trainloader)\n",
        "  train_accs.append(train_accuracy)\n",
        "  # test accuracy 부분\n",
        "  test_accuracy = accuracy(model, testloader)\n",
        "  test_accs.append(test_accuracy)\n",
        "\n",
        "  print(f\"Epoch {epoch:3d} | Loss: {total_loss} | train_accuracy : {train_accuracy} | test_accuracy : {test_accuracy}\")"
      ],
      "metadata": {
        "id": "TryX1hewvNiB",
        "colab": {
          "base_uri": "https://localhost:8080/"
        },
        "outputId": "5112b5f5-ec0f-421e-9546-0f450c0c8d0f"
      },
      "execution_count": 13,
      "outputs": [
        {
          "output_type": "stream",
          "name": "stdout",
          "text": [
            "Epoch   0 | Loss: 529.6987340450287 | train_accuracy : 0.29861666666666664 | test_accuracy : 0.3182\n",
            "Epoch   1 | Loss: 507.67620968818665 | train_accuracy : 0.51035 | test_accuracy : 0.5228\n",
            "Epoch   2 | Loss: 483.19321405887604 | train_accuracy : 0.6066666666666667 | test_accuracy : 0.6183\n",
            "Epoch   3 | Loss: 453.8629091978073 | train_accuracy : 0.6574833333333333 | test_accuracy : 0.6658\n",
            "Epoch   4 | Loss: 418.97676956653595 | train_accuracy : 0.6953333333333334 | test_accuracy : 0.7019\n",
            "Epoch   5 | Loss: 379.7193293571472 | train_accuracy : 0.7190666666666666 | test_accuracy : 0.7275\n",
            "Epoch   6 | Loss: 339.3422518968582 | train_accuracy : 0.7453166666666666 | test_accuracy : 0.752\n",
            "Epoch   7 | Loss: 301.30683147907257 | train_accuracy : 0.76805 | test_accuracy : 0.7783\n",
            "Epoch   8 | Loss: 267.7779324054718 | train_accuracy : 0.7898833333333334 | test_accuracy : 0.7964\n",
            "Epoch   9 | Loss: 239.73502308130264 | train_accuracy : 0.8037833333333333 | test_accuracy : 0.8089\n",
            "Epoch  10 | Loss: 216.72109580039978 | train_accuracy : 0.81585 | test_accuracy : 0.8235\n",
            "Epoch  11 | Loss: 198.01419287919998 | train_accuracy : 0.8257166666666667 | test_accuracy : 0.8335\n",
            "Epoch  12 | Loss: 182.91358494758606 | train_accuracy : 0.83035 | test_accuracy : 0.8382\n",
            "Epoch  13 | Loss: 170.4014812707901 | train_accuracy : 0.8388 | test_accuracy : 0.847\n",
            "Epoch  14 | Loss: 160.18983179330826 | train_accuracy : 0.8442833333333334 | test_accuracy : 0.8524\n",
            "Epoch  15 | Loss: 151.459270298481 | train_accuracy : 0.8493666666666667 | test_accuracy : 0.8563\n",
            "Epoch  16 | Loss: 144.1642171740532 | train_accuracy : 0.853 | test_accuracy : 0.8593\n",
            "Epoch  17 | Loss: 137.95120936632156 | train_accuracy : 0.8571666666666666 | test_accuracy : 0.8645\n",
            "Epoch  18 | Loss: 132.58746975660324 | train_accuracy : 0.8603166666666666 | test_accuracy : 0.8658\n",
            "Epoch  19 | Loss: 127.77505764365196 | train_accuracy : 0.8641333333333333 | test_accuracy : 0.8689\n",
            "Epoch  20 | Loss: 123.71759968996048 | train_accuracy : 0.8675833333333334 | test_accuracy : 0.8722\n",
            "Epoch  21 | Loss: 119.97188091278076 | train_accuracy : 0.8699666666666667 | test_accuracy : 0.8741\n",
            "Epoch  22 | Loss: 116.74097433686256 | train_accuracy : 0.8721 | test_accuracy : 0.8762\n",
            "Epoch  23 | Loss: 113.835150629282 | train_accuracy : 0.8751333333333333 | test_accuracy : 0.879\n",
            "Epoch  24 | Loss: 111.2092613875866 | train_accuracy : 0.8765 | test_accuracy : 0.8811\n",
            "Epoch  25 | Loss: 108.74996650218964 | train_accuracy : 0.8780666666666667 | test_accuracy : 0.8823\n",
            "Epoch  26 | Loss: 106.54325288534164 | train_accuracy : 0.8800666666666667 | test_accuracy : 0.885\n",
            "Epoch  27 | Loss: 104.66515478491783 | train_accuracy : 0.8809 | test_accuracy : 0.8845\n",
            "Epoch  28 | Loss: 102.74936679005623 | train_accuracy : 0.8824 | test_accuracy : 0.887\n",
            "Epoch  29 | Loss: 100.98280838131905 | train_accuracy : 0.8847166666666667 | test_accuracy : 0.8899\n",
            "Epoch  30 | Loss: 99.4962329864502 | train_accuracy : 0.8852666666666666 | test_accuracy : 0.8902\n",
            "Epoch  31 | Loss: 98.1023753285408 | train_accuracy : 0.8851833333333333 | test_accuracy : 0.8915\n",
            "Epoch  32 | Loss: 96.67656481266022 | train_accuracy : 0.8863666666666666 | test_accuracy : 0.8913\n",
            "Epoch  33 | Loss: 95.45518296957016 | train_accuracy : 0.88785 | test_accuracy : 0.893\n",
            "Epoch  34 | Loss: 94.31109976768494 | train_accuracy : 0.8897 | test_accuracy : 0.8944\n",
            "Epoch  35 | Loss: 93.09701415896416 | train_accuracy : 0.8899833333333333 | test_accuracy : 0.8953\n",
            "Epoch  36 | Loss: 92.15170899033546 | train_accuracy : 0.8907833333333334 | test_accuracy : 0.8967\n",
            "Epoch  37 | Loss: 91.12822672724724 | train_accuracy : 0.8917833333333334 | test_accuracy : 0.8976\n",
            "Epoch  38 | Loss: 90.15750625729561 | train_accuracy : 0.8921833333333333 | test_accuracy : 0.898\n",
            "Epoch  39 | Loss: 89.40508264303207 | train_accuracy : 0.8936833333333334 | test_accuracy : 0.8995\n",
            "Epoch  40 | Loss: 88.64650240540504 | train_accuracy : 0.8942333333333333 | test_accuracy : 0.8995\n",
            "Epoch  41 | Loss: 87.81917455792427 | train_accuracy : 0.8948833333333334 | test_accuracy : 0.9006\n",
            "Epoch  42 | Loss: 86.94130918383598 | train_accuracy : 0.8953166666666666 | test_accuracy : 0.901\n",
            "Epoch  43 | Loss: 86.30881820619106 | train_accuracy : 0.8963 | test_accuracy : 0.9018\n",
            "Epoch  44 | Loss: 85.68278726935387 | train_accuracy : 0.8969 | test_accuracy : 0.9019\n",
            "Epoch  45 | Loss: 84.94350510835648 | train_accuracy : 0.8974666666666666 | test_accuracy : 0.9045\n",
            "Epoch  46 | Loss: 84.36493843793869 | train_accuracy : 0.8979 | test_accuracy : 0.9038\n",
            "Epoch  47 | Loss: 83.69466771185398 | train_accuracy : 0.8988833333333334 | test_accuracy : 0.9055\n",
            "Epoch  48 | Loss: 83.15791606903076 | train_accuracy : 0.8994166666666666 | test_accuracy : 0.9053\n",
            "Epoch  49 | Loss: 82.67179530858994 | train_accuracy : 0.90035 | test_accuracy : 0.9069\n",
            "Epoch  50 | Loss: 82.14561794698238 | train_accuracy : 0.9003 | test_accuracy : 0.9058\n",
            "Epoch  51 | Loss: 81.62196999788284 | train_accuracy : 0.9005833333333333 | test_accuracy : 0.9061\n",
            "Epoch  52 | Loss: 81.17680002748966 | train_accuracy : 0.90135 | test_accuracy : 0.9069\n",
            "Epoch  53 | Loss: 80.59685872495174 | train_accuracy : 0.9020666666666667 | test_accuracy : 0.908\n",
            "Epoch  54 | Loss: 80.12881772220135 | train_accuracy : 0.9026833333333333 | test_accuracy : 0.9074\n",
            "Epoch  55 | Loss: 79.69744016230106 | train_accuracy : 0.9028833333333334 | test_accuracy : 0.9077\n",
            "Epoch  56 | Loss: 79.32332344353199 | train_accuracy : 0.9031166666666667 | test_accuracy : 0.9083\n",
            "Epoch  57 | Loss: 78.81684784591198 | train_accuracy : 0.90385 | test_accuracy : 0.9094\n",
            "Epoch  58 | Loss: 78.52716359496117 | train_accuracy : 0.9041666666666667 | test_accuracy : 0.9094\n",
            "Epoch  59 | Loss: 78.13441723585129 | train_accuracy : 0.9047 | test_accuracy : 0.9096\n",
            "Epoch  60 | Loss: 77.70421281456947 | train_accuracy : 0.9054333333333333 | test_accuracy : 0.9101\n",
            "Epoch  61 | Loss: 77.29855960607529 | train_accuracy : 0.9053666666666667 | test_accuracy : 0.9106\n",
            "Epoch  62 | Loss: 76.9916882365942 | train_accuracy : 0.9058 | test_accuracy : 0.9108\n",
            "Epoch  63 | Loss: 76.57310485839844 | train_accuracy : 0.9067 | test_accuracy : 0.9115\n",
            "Epoch  64 | Loss: 76.2400325089693 | train_accuracy : 0.90705 | test_accuracy : 0.9119\n",
            "Epoch  65 | Loss: 75.97488035261631 | train_accuracy : 0.9072166666666667 | test_accuracy : 0.9111\n",
            "Epoch  66 | Loss: 75.64664594829082 | train_accuracy : 0.9077166666666666 | test_accuracy : 0.9118\n",
            "Epoch  67 | Loss: 75.28493495285511 | train_accuracy : 0.9083333333333333 | test_accuracy : 0.9131\n",
            "Epoch  68 | Loss: 74.8538863658905 | train_accuracy : 0.9085166666666666 | test_accuracy : 0.9116\n",
            "Epoch  69 | Loss: 74.68221892416477 | train_accuracy : 0.9090333333333334 | test_accuracy : 0.9131\n",
            "Epoch  70 | Loss: 74.32753583788872 | train_accuracy : 0.9089 | test_accuracy : 0.9138\n",
            "Epoch  71 | Loss: 73.99265266954899 | train_accuracy : 0.9096 | test_accuracy : 0.9137\n",
            "Epoch  72 | Loss: 73.7370074391365 | train_accuracy : 0.9103166666666667 | test_accuracy : 0.9148\n",
            "Epoch  73 | Loss: 73.3796306103468 | train_accuracy : 0.9106666666666666 | test_accuracy : 0.9147\n",
            "Epoch  74 | Loss: 73.35231694579124 | train_accuracy : 0.91065 | test_accuracy : 0.9149\n",
            "Epoch  75 | Loss: 72.87489667534828 | train_accuracy : 0.9116166666666666 | test_accuracy : 0.9149\n",
            "Epoch  76 | Loss: 72.60919013619423 | train_accuracy : 0.9114666666666666 | test_accuracy : 0.9158\n",
            "Epoch  77 | Loss: 72.33567948639393 | train_accuracy : 0.91185 | test_accuracy : 0.9162\n",
            "Epoch  78 | Loss: 72.02671501040459 | train_accuracy : 0.9122666666666667 | test_accuracy : 0.9154\n",
            "Epoch  79 | Loss: 71.79918812215328 | train_accuracy : 0.9124666666666666 | test_accuracy : 0.9171\n",
            "Epoch  80 | Loss: 71.56277175247669 | train_accuracy : 0.9128 | test_accuracy : 0.9165\n",
            "Epoch  81 | Loss: 71.40336264669895 | train_accuracy : 0.91265 | test_accuracy : 0.9166\n",
            "Epoch  82 | Loss: 71.11240267753601 | train_accuracy : 0.9133333333333333 | test_accuracy : 0.9168\n",
            "Epoch  83 | Loss: 70.85033498704433 | train_accuracy : 0.9135166666666666 | test_accuracy : 0.9162\n",
            "Epoch  84 | Loss: 70.5971544533968 | train_accuracy : 0.9137166666666666 | test_accuracy : 0.917\n",
            "Epoch  85 | Loss: 70.33631117641926 | train_accuracy : 0.9141833333333333 | test_accuracy : 0.9181\n",
            "Epoch  86 | Loss: 70.13903260231018 | train_accuracy : 0.9144 | test_accuracy : 0.9175\n",
            "Epoch  87 | Loss: 69.85315574705601 | train_accuracy : 0.9152333333333333 | test_accuracy : 0.9181\n",
            "Epoch  88 | Loss: 69.61372002959251 | train_accuracy : 0.9151 | test_accuracy : 0.9188\n",
            "Epoch  89 | Loss: 69.49855272471905 | train_accuracy : 0.9153666666666667 | test_accuracy : 0.9181\n",
            "Epoch  90 | Loss: 69.16992864012718 | train_accuracy : 0.9158833333333334 | test_accuracy : 0.9191\n",
            "Epoch  91 | Loss: 69.01065269112587 | train_accuracy : 0.9160166666666667 | test_accuracy : 0.9188\n",
            "Epoch  92 | Loss: 68.77458779513836 | train_accuracy : 0.91655 | test_accuracy : 0.9198\n",
            "Epoch  93 | Loss: 68.61659726500511 | train_accuracy : 0.9166333333333333 | test_accuracy : 0.9202\n",
            "Epoch  94 | Loss: 68.42623564600945 | train_accuracy : 0.9171 | test_accuracy : 0.9198\n",
            "Epoch  95 | Loss: 68.25344222784042 | train_accuracy : 0.9171666666666667 | test_accuracy : 0.9198\n",
            "Epoch  96 | Loss: 67.95155495405197 | train_accuracy : 0.9173833333333333 | test_accuracy : 0.921\n",
            "Epoch  97 | Loss: 67.78052400052547 | train_accuracy : 0.9170333333333334 | test_accuracy : 0.9195\n",
            "Epoch  98 | Loss: 67.58182153105736 | train_accuracy : 0.9179833333333334 | test_accuracy : 0.9208\n",
            "Epoch  99 | Loss: 67.32016453146935 | train_accuracy : 0.9181666666666667 | test_accuracy : 0.9204\n"
          ]
        }
      ]
    },
    {
      "cell_type": "markdown",
      "source": [
        "## 9. 결과 plot 확인\n",
        "\n"
      ],
      "metadata": {
        "id": "XG0K-Qxv61sz"
      }
    },
    {
      "cell_type": "code",
      "source": [
        "plot_acc(train_accs,test_accs)"
      ],
      "metadata": {
        "id": "2mPFoP6U607V",
        "colab": {
          "base_uri": "https://localhost:8080/",
          "height": 430
        },
        "outputId": "76a99c60-2fb2-43d0-b3b1-07d3e53c1395"
      },
      "execution_count": 14,
      "outputs": [
        {
          "output_type": "display_data",
          "data": {
            "text/plain": [
              "<Figure size 640x480 with 1 Axes>"
            ],
            "image/png": "[encoded data removed]"
          },
          "metadata": {}
        }
      ]
    }
  ]
}