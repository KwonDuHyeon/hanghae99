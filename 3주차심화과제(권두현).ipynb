{
  "cells": [
    {
      "cell_type": "markdown",
      "metadata": {
        "id": "view-in-github",
        "colab_type": "text"
      },
      "source": [
        "<a href=\"https://colab.research.google.com/github/KwonDuHyeon/hanghae99/blob/main/3%EC%A3%BC%EC%B0%A8%EC%8B%AC%ED%99%94%EA%B3%BC%EC%A0%9C(%EA%B6%8C%EB%91%90%ED%98%84).ipynb\" target=\"_parent\"><img src=\"https://colab.research.google.com/assets/colab-badge.svg\" alt=\"Open In Colab\"/></a>"
      ]
    },
    {
      "cell_type": "markdown",
      "source": [
        "##[MY CODE] 라이브러리 import"
      ],
      "metadata": {
        "id": "sbgz49PvHhLt"
      }
    },
    {
      "cell_type": "code",
      "execution_count": 15,
      "metadata": {
        "id": "1LqgujQUbv6X",
        "collapsed": true
      },
      "outputs": [],
      "source": [
        "# !pip install tqdm boto3 requests regex sentencepiece sacremoses datasets #로컬로 사용"
      ]
    },
    {
      "cell_type": "code",
      "execution_count": 16,
      "metadata": {
        "id": "6lGiZUoPby6e"
      },
      "outputs": [],
      "source": [
        "from datasets import load_dataset\n",
        "from torch.utils.data import DataLoader\n",
        "import torch\n",
        "import pandas as pd\n",
        "import os"
      ]
    },
    {
      "cell_type": "markdown",
      "source": [
        "## [MY CODE] MNLI Task Dataset Load"
      ],
      "metadata": {
        "id": "LFK0xDvwtFKb"
      }
    },
    {
      "cell_type": "code",
      "source": [
        "train_data_path = \"/mnt/d/hanghae99/3rd/datasets/train.csv\"\n",
        "val_data_path = \"/mnt/d/hanghae99/3rd/datasets/val.csv\"\n",
        "\n",
        "train_df = pd.read_csv(train_data_path)[:10000]\n",
        "val_df = pd.read_csv(val_data_path)"
      ],
      "metadata": {
        "id": "Z49D6akpsCcu"
      },
      "execution_count": 17,
      "outputs": []
    },
    {
      "cell_type": "markdown",
      "source": [
        "## [MY CODE] Datasets 확인"
      ],
      "metadata": {
        "id": "x-ebrbNpu1Ro"
      }
    },
    {
      "cell_type": "code",
      "source": [
        "print(f\"Train 데이터 갯수: {len(train_df)}\")\n",
        "print(f\"Validation 데이터 갯수: {len(val_df)}\")"
      ],
      "metadata": {
        "colab": {
          "base_uri": "https://localhost:8080/"
        },
        "id": "lKnuJgpdtQyY",
        "outputId": "5543ff6c-53fa-4157-e13b-dc61f7716198"
      },
      "execution_count": 18,
      "outputs": [
        {
          "output_type": "stream",
          "name": "stdout",
          "text": [
            "Train 데이터 갯수: 10000\n",
            "Validation 데이터 갯수: 9832\n"
          ]
        }
      ]
    },
    {
      "cell_type": "code",
      "source": [
        "train_df.head()"
      ],
      "metadata": {
        "colab": {
          "base_uri": "https://localhost:8080/",
          "height": 293
        },
        "id": "AyuMamHhsUyL",
        "outputId": "bae315a4-4893-49f3-ad29-ff1a3de66b77"
      },
      "execution_count": 19,
      "outputs": [
        {
          "output_type": "execute_result",
          "data": {
            "text/plain": [
              "   promptID   pairID                                            premise  \\\n",
              "0     31193   31193n  Conceptually cream skimming has two basic dime...   \n",
              "1    101457  101457e  you know during the season and i guess at at y...   \n",
              "2    134793  134793e  One of our number will carry out your instruct...   \n",
              "3     37397   37397e  How do you know? All this is their information...   \n",
              "4     50563   50563n  yeah i tell you what though if you go price so...   \n",
              "\n",
              "                                premise_binary_parse  \\\n",
              "0  ( ( Conceptually ( cream skimming ) ) ( ( has ...   \n",
              "1  ( you ( ( know ( during ( ( ( the season ) and...   \n",
              "2  ( ( One ( of ( our number ) ) ) ( ( will ( ( (...   \n",
              "3  ( ( How ( ( ( do you ) know ) ? ) ) ( ( All th...   \n",
              "4  ( yeah ( i ( ( tell you ) ( what ( ( though ( ...   \n",
              "\n",
              "                                       premise_parse  \\\n",
              "0  (ROOT (S (NP (JJ Conceptually) (NN cream) (NN ...   \n",
              "1  (ROOT (S (NP (PRP you)) (VP (VBP know) (PP (IN...   \n",
              "2  (ROOT (S (NP (NP (CD One)) (PP (IN of) (NP (PR...   \n",
              "3  (ROOT (S (SBARQ (WHADVP (WRB How)) (SQ (VBP do...   \n",
              "4  (ROOT (S (VP (VB yeah) (S (NP (FW i)) (VP (VB ...   \n",
              "\n",
              "                                          hypothesis  \\\n",
              "0  Product and geography are what make cream skim...   \n",
              "1  You lose the things to the following level if ...   \n",
              "2  A member of my team will execute your orders w...   \n",
              "3                  This information belongs to them.   \n",
              "4           The tennis shoes have a range of prices.   \n",
              "\n",
              "                             hypothesis_binary_parse  \\\n",
              "0  ( ( ( Product and ) geography ) ( ( are ( what...   \n",
              "1  ( You ( ( ( ( lose ( the things ) ) ( to ( the...   \n",
              "2  ( ( ( A member ) ( of ( my team ) ) ) ( ( will...   \n",
              "3  ( ( This information ) ( ( belongs ( to them )...   \n",
              "4  ( ( The ( tennis shoes ) ) ( ( have ( ( a rang...   \n",
              "\n",
              "                                    hypothesis_parse       genre  label  \n",
              "0  (ROOT (S (NP (NN Product) (CC and) (NN geograp...  government      1  \n",
              "1  (ROOT (S (NP (PRP You)) (VP (VBP lose) (NP (DT...   telephone      0  \n",
              "2  (ROOT (S (NP (NP (DT A) (NN member)) (PP (IN o...     fiction      0  \n",
              "3  (ROOT (S (NP (DT This) (NN information)) (VP (...     fiction      0  \n",
              "4  (ROOT (S (NP (DT The) (NN tennis) (NNS shoes))...   telephone      1  "
            ],
            "text/html": [
              "<div>\n",
              "<style scoped>\n",
              "    .dataframe tbody tr th:only-of-type {\n",
              "        vertical-align: middle;\n",
              "    }\n",
              "\n",
              "    .dataframe tbody tr th {\n",
              "        vertical-align: top;\n",
              "    }\n",
              "\n",
              "    .dataframe thead th {\n",
              "        text-align: right;\n",
              "    }\n",
              "</style>\n",
              "<table border=\"1\" class=\"dataframe\">\n",
              "  <thead>\n",
              "    <tr style=\"text-align: right;\">\n",
              "      <th></th>\n",
              "      <th>promptID</th>\n",
              "      <th>pairID</th>\n",
              "      <th>premise</th>\n",
              "      <th>premise_binary_parse</th>\n",
              "      <th>premise_parse</th>\n",
              "      <th>hypothesis</th>\n",
              "      <th>hypothesis_binary_parse</th>\n",
              "      <th>hypothesis_parse</th>\n",
              "      <th>genre</th>\n",
              "      <th>label</th>\n",
              "    </tr>\n",
              "  </thead>\n",
              "  <tbody>\n",
              "    <tr>\n",
              "      <th>0</th>\n",
              "      <td>31193</td>\n",
              "      <td>31193n</td>\n",
              "      <td>Conceptually cream skimming has two basic dime...</td>\n",
              "      <td>( ( Conceptually ( cream skimming ) ) ( ( has ...</td>\n",
              "      <td>(ROOT (S (NP (JJ Conceptually) (NN cream) (NN ...</td>\n",
              "      <td>Product and geography are what make cream skim...</td>\n",
              "      <td>( ( ( Product and ) geography ) ( ( are ( what...</td>\n",
              "      <td>(ROOT (S (NP (NN Product) (CC and) (NN geograp...</td>\n",
              "      <td>government</td>\n",
              "      <td>1</td>\n",
              "    </tr>\n",
              "    <tr>\n",
              "      <th>1</th>\n",
              "      <td>101457</td>\n",
              "      <td>101457e</td>\n",
              "      <td>you know during the season and i guess at at y...</td>\n",
              "      <td>( you ( ( know ( during ( ( ( the season ) and...</td>\n",
              "      <td>(ROOT (S (NP (PRP you)) (VP (VBP know) (PP (IN...</td>\n",
              "      <td>You lose the things to the following level if ...</td>\n",
              "      <td>( You ( ( ( ( lose ( the things ) ) ( to ( the...</td>\n",
              "      <td>(ROOT (S (NP (PRP You)) (VP (VBP lose) (NP (DT...</td>\n",
              "      <td>telephone</td>\n",
              "      <td>0</td>\n",
              "    </tr>\n",
              "    <tr>\n",
              "      <th>2</th>\n",
              "      <td>134793</td>\n",
              "      <td>134793e</td>\n",
              "      <td>One of our number will carry out your instruct...</td>\n",
              "      <td>( ( One ( of ( our number ) ) ) ( ( will ( ( (...</td>\n",
              "      <td>(ROOT (S (NP (NP (CD One)) (PP (IN of) (NP (PR...</td>\n",
              "      <td>A member of my team will execute your orders w...</td>\n",
              "      <td>( ( ( A member ) ( of ( my team ) ) ) ( ( will...</td>\n",
              "      <td>(ROOT (S (NP (NP (DT A) (NN member)) (PP (IN o...</td>\n",
              "      <td>fiction</td>\n",
              "      <td>0</td>\n",
              "    </tr>\n",
              "    <tr>\n",
              "      <th>3</th>\n",
              "      <td>37397</td>\n",
              "      <td>37397e</td>\n",
              "      <td>How do you know? All this is their information...</td>\n",
              "      <td>( ( How ( ( ( do you ) know ) ? ) ) ( ( All th...</td>\n",
              "      <td>(ROOT (S (SBARQ (WHADVP (WRB How)) (SQ (VBP do...</td>\n",
              "      <td>This information belongs to them.</td>\n",
              "      <td>( ( This information ) ( ( belongs ( to them )...</td>\n",
              "      <td>(ROOT (S (NP (DT This) (NN information)) (VP (...</td>\n",
              "      <td>fiction</td>\n",
              "      <td>0</td>\n",
              "    </tr>\n",
              "    <tr>\n",
              "      <th>4</th>\n",
              "      <td>50563</td>\n",
              "      <td>50563n</td>\n",
              "      <td>yeah i tell you what though if you go price so...</td>\n",
              "      <td>( yeah ( i ( ( tell you ) ( what ( ( though ( ...</td>\n",
              "      <td>(ROOT (S (VP (VB yeah) (S (NP (FW i)) (VP (VB ...</td>\n",
              "      <td>The tennis shoes have a range of prices.</td>\n",
              "      <td>( ( The ( tennis shoes ) ) ( ( have ( ( a rang...</td>\n",
              "      <td>(ROOT (S (NP (DT The) (NN tennis) (NNS shoes))...</td>\n",
              "      <td>telephone</td>\n",
              "      <td>1</td>\n",
              "    </tr>\n",
              "  </tbody>\n",
              "</table>\n",
              "</div>"
            ]
          },
          "metadata": {},
          "execution_count": 19
        }
      ]
    },
    {
      "cell_type": "code",
      "source": [
        "val_df.head()"
      ],
      "metadata": {
        "colab": {
          "base_uri": "https://localhost:8080/",
          "height": 293
        },
        "id": "wEVJ9sewtUKp",
        "outputId": "00a6dff3-1092-4c56-a0f5-dbac49b37b75"
      },
      "execution_count": 20,
      "outputs": [
        {
          "output_type": "execute_result",
          "data": {
            "text/plain": [
              "   promptID   pairID                                            premise  \\\n",
              "0     75290   75290c  Your contribution helped make it possible for ...   \n",
              "1    133794  133794c  The answer has nothing to do with their cause,...   \n",
              "2      3628    3628c   We serve a classic Tuscan meal that includes ...   \n",
              "3     89411   89411c  A few months ago, Carl Newton and I wrote a le...   \n",
              "4    136158  136158e  I was on this earth you know, I've lived on th...   \n",
              "\n",
              "                                premise_binary_parse  \\\n",
              "0  ( ( Your contribution ) ( ( helped ( make ( it...   \n",
              "1  ( ( ( ( ( ( The answer ) ( ( ( ( has nothing )...   \n",
              "2  ( We ( ( serve ( ( a ( classic ( Tuscan meal )...   \n",
              "3  ( ( ( A ( few months ) ) ago ) ( , ( ( ( ( Car...   \n",
              "4  ( I ( ( was ( on ( ( this earth ) ( you ( know...   \n",
              "\n",
              "                                       premise_parse  \\\n",
              "0  (ROOT (S (NP (PRP$ Your) (NN contribution)) (V...   \n",
              "1  (ROOT (S (S (NP (DT The) (NN answer)) (VP (VBZ...   \n",
              "2  (ROOT (S (NP (PRP We)) (VP (VBP serve) (NP (NP...   \n",
              "3  (ROOT (S (ADVP (NP (DT A) (JJ few) (NNS months...   \n",
              "4  (ROOT (S (NP (PRP I)) (VP (VBD was) (PP (IN on...   \n",
              "\n",
              "                                          hypothesis  \\\n",
              "0  Your contributions were of no help with our st...   \n",
              "1  Dictionaries are indeed exercises in bi-unique...   \n",
              "2             We serve a meal of Florentine terrine.   \n",
              "3  Carl Newton and I have never had any other pre...   \n",
              "4  I don't yet know the reason why I have lived o...   \n",
              "\n",
              "                             hypothesis_binary_parse  \\\n",
              "0  ( ( Your contributions ) ( ( were ( of ( ( no ...   \n",
              "1  ( Dictionaries ( ( ( are indeed ) ( exercises ...   \n",
              "2  ( We ( ( serve ( ( a meal ) ( of ( Florentine ...   \n",
              "3  ( ( ( ( Carl Newton ) and ) I ) ( ( ( have nev...   \n",
              "4  ( I ( ( ( ( do n't ) yet ) ( ( know ( the reas...   \n",
              "\n",
              "                                    hypothesis_parse       genre  label  \n",
              "0  (ROOT (S (NP (PRP$ Your) (NNS contributions)) ...     letters      2  \n",
              "1  (ROOT (S (NP (NNS Dictionaries)) (VP (VBP are)...    verbatim      2  \n",
              "2  (ROOT (S (NP (PRP We)) (VP (VBP serve) (NP (NP...    verbatim      0  \n",
              "3  (ROOT (S (NP (NP (NNP Carl) (NNP Newton)) (CC ...     letters      2  \n",
              "4  (ROOT (S (NP (PRP I)) (VP (VBP do) (RB n't) (A...  facetoface      0  "
            ],
            "text/html": [
              "<div>\n",
              "<style scoped>\n",
              "    .dataframe tbody tr th:only-of-type {\n",
              "        vertical-align: middle;\n",
              "    }\n",
              "\n",
              "    .dataframe tbody tr th {\n",
              "        vertical-align: top;\n",
              "    }\n",
              "\n",
              "    .dataframe thead th {\n",
              "        text-align: right;\n",
              "    }\n",
              "</style>\n",
              "<table border=\"1\" class=\"dataframe\">\n",
              "  <thead>\n",
              "    <tr style=\"text-align: right;\">\n",
              "      <th></th>\n",
              "      <th>promptID</th>\n",
              "      <th>pairID</th>\n",
              "      <th>premise</th>\n",
              "      <th>premise_binary_parse</th>\n",
              "      <th>premise_parse</th>\n",
              "      <th>hypothesis</th>\n",
              "      <th>hypothesis_binary_parse</th>\n",
              "      <th>hypothesis_parse</th>\n",
              "      <th>genre</th>\n",
              "      <th>label</th>\n",
              "    </tr>\n",
              "  </thead>\n",
              "  <tbody>\n",
              "    <tr>\n",
              "      <th>0</th>\n",
              "      <td>75290</td>\n",
              "      <td>75290c</td>\n",
              "      <td>Your contribution helped make it possible for ...</td>\n",
              "      <td>( ( Your contribution ) ( ( helped ( make ( it...</td>\n",
              "      <td>(ROOT (S (NP (PRP$ Your) (NN contribution)) (V...</td>\n",
              "      <td>Your contributions were of no help with our st...</td>\n",
              "      <td>( ( Your contributions ) ( ( were ( of ( ( no ...</td>\n",
              "      <td>(ROOT (S (NP (PRP$ Your) (NNS contributions)) ...</td>\n",
              "      <td>letters</td>\n",
              "      <td>2</td>\n",
              "    </tr>\n",
              "    <tr>\n",
              "      <th>1</th>\n",
              "      <td>133794</td>\n",
              "      <td>133794c</td>\n",
              "      <td>The answer has nothing to do with their cause,...</td>\n",
              "      <td>( ( ( ( ( ( The answer ) ( ( ( ( has nothing )...</td>\n",
              "      <td>(ROOT (S (S (NP (DT The) (NN answer)) (VP (VBZ...</td>\n",
              "      <td>Dictionaries are indeed exercises in bi-unique...</td>\n",
              "      <td>( Dictionaries ( ( ( are indeed ) ( exercises ...</td>\n",
              "      <td>(ROOT (S (NP (NNS Dictionaries)) (VP (VBP are)...</td>\n",
              "      <td>verbatim</td>\n",
              "      <td>2</td>\n",
              "    </tr>\n",
              "    <tr>\n",
              "      <th>2</th>\n",
              "      <td>3628</td>\n",
              "      <td>3628c</td>\n",
              "      <td>We serve a classic Tuscan meal that includes ...</td>\n",
              "      <td>( We ( ( serve ( ( a ( classic ( Tuscan meal )...</td>\n",
              "      <td>(ROOT (S (NP (PRP We)) (VP (VBP serve) (NP (NP...</td>\n",
              "      <td>We serve a meal of Florentine terrine.</td>\n",
              "      <td>( We ( ( serve ( ( a meal ) ( of ( Florentine ...</td>\n",
              "      <td>(ROOT (S (NP (PRP We)) (VP (VBP serve) (NP (NP...</td>\n",
              "      <td>verbatim</td>\n",
              "      <td>0</td>\n",
              "    </tr>\n",
              "    <tr>\n",
              "      <th>3</th>\n",
              "      <td>89411</td>\n",
              "      <td>89411c</td>\n",
              "      <td>A few months ago, Carl Newton and I wrote a le...</td>\n",
              "      <td>( ( ( A ( few months ) ) ago ) ( , ( ( ( ( Car...</td>\n",
              "      <td>(ROOT (S (ADVP (NP (DT A) (JJ few) (NNS months...</td>\n",
              "      <td>Carl Newton and I have never had any other pre...</td>\n",
              "      <td>( ( ( ( Carl Newton ) and ) I ) ( ( ( have nev...</td>\n",
              "      <td>(ROOT (S (NP (NP (NNP Carl) (NNP Newton)) (CC ...</td>\n",
              "      <td>letters</td>\n",
              "      <td>2</td>\n",
              "    </tr>\n",
              "    <tr>\n",
              "      <th>4</th>\n",
              "      <td>136158</td>\n",
              "      <td>136158e</td>\n",
              "      <td>I was on this earth you know, I've lived on th...</td>\n",
              "      <td>( I ( ( was ( on ( ( this earth ) ( you ( know...</td>\n",
              "      <td>(ROOT (S (NP (PRP I)) (VP (VBD was) (PP (IN on...</td>\n",
              "      <td>I don't yet know the reason why I have lived o...</td>\n",
              "      <td>( I ( ( ( ( do n't ) yet ) ( ( know ( the reas...</td>\n",
              "      <td>(ROOT (S (NP (PRP I)) (VP (VBP do) (RB n't) (A...</td>\n",
              "      <td>facetoface</td>\n",
              "      <td>0</td>\n",
              "    </tr>\n",
              "  </tbody>\n",
              "</table>\n",
              "</div>"
            ]
          },
          "metadata": {},
          "execution_count": 20
        }
      ]
    },
    {
      "cell_type": "code",
      "source": [
        "# Label 종류 확인 (train 데이터)\n",
        "train_labels = train_df['genre'].unique()\n",
        "print(f\"Train genre: {train_labels}\")\n",
        "\n",
        "# Label 종류 확인 (validation 데이터)\n",
        "val_labels = val_df['genre'].unique()\n",
        "print(f\"Validation genre: {val_labels}\")"
      ],
      "metadata": {
        "colab": {
          "base_uri": "https://localhost:8080/"
        },
        "id": "VSJTDjadt-Jk",
        "outputId": "f02d6fcb-8c46-4996-ccab-1907eb70e1a7"
      },
      "execution_count": 21,
      "outputs": [
        {
          "output_type": "stream",
          "name": "stdout",
          "text": [
            "Train genre: ['government' 'telephone' 'fiction' 'travel' 'slate']\n",
            "Validation genre: ['letters' 'verbatim' 'facetoface' 'oup' 'nineeleven']\n"
          ]
        }
      ]
    },
    {
      "cell_type": "markdown",
      "source": [
        "## [MY CODE] BERT 모델로 변경"
      ],
      "metadata": {
        "id": "MMR6CCsFwXHt"
      }
    },
    {
      "cell_type": "code",
      "source": [
        "\n",
        "\n",
        "tokenizer = torch.hub.load('huggingface/pytorch-transformers', 'tokenizer', 'bert-base-uncased')\n",
        "\n",
        "def collate_fn(batch):\n",
        "  max_len = 400\n",
        "  premises, hypotheses, labels = [], [], []\n",
        "  for row in batch:\n",
        "    premise = str(row['premise'])\n",
        "    hypothesis = str(row['hypothesis'])\n",
        "\n",
        "    premises.append(premise)\n",
        "    hypotheses.append(hypothesis)\n",
        "    labels.append(row['label'])\n",
        "\n",
        "  encoding = tokenizer(premises, hypotheses, padding = True, truncation = True, max_length = max_len,  return_tensors='pt')  # tensor 형테로 반환\n",
        "  labels = torch.tensor(labels, dtype=torch.long)\n",
        "\n",
        "  return encoding['input_ids'], encoding['attention_mask'], labels\n",
        "\n",
        "\n",
        "train_loader = DataLoader(\n",
        "    train_df.to_dict('records'), batch_size=64, shuffle=True, collate_fn=collate_fn\n",
        ")\n",
        "test_loader = DataLoader(\n",
        "    val_df.to_dict('records'), batch_size=64, shuffle=False, collate_fn=collate_fn\n",
        ")"
      ],
      "metadata": {
        "id": "rE-y8sY9HuwP",
        "colab": {
          "base_uri": "https://localhost:8080/"
        },
        "outputId": "9e53de1b-aa49-477a-e12d-f92a4ea06ba0"
      },
      "execution_count": 22,
      "outputs": [
        {
          "output_type": "stream",
          "name": "stderr",
          "text": [
            "Using cache found in /home/harry/.cache/torch/hub/huggingface_pytorch-transformers_main\n"
          ]
        }
      ]
    },
    {
      "cell_type": "markdown",
      "source": [
        "## [MY CODE] BERT 모델 Load"
      ],
      "metadata": {
        "id": "bF34XkoYIeEm"
      }
    },
    {
      "cell_type": "code",
      "execution_count": 23,
      "metadata": {
        "colab": {
          "base_uri": "https://localhost:8080/"
        },
        "id": "HJaUp2Vob0U-",
        "outputId": "055d97d1-6b34-47d9-d984-088eac1bef25"
      },
      "outputs": [
        {
          "output_type": "stream",
          "name": "stderr",
          "text": [
            "Using cache found in /home/harry/.cache/torch/hub/huggingface_pytorch-transformers_main\n"
          ]
        },
        {
          "output_type": "execute_result",
          "data": {
            "text/plain": [
              "BertModel(\n",
              "  (embeddings): BertEmbeddings(\n",
              "    (word_embeddings): Embedding(30522, 768, padding_idx=0)\n",
              "    (position_embeddings): Embedding(512, 768)\n",
              "    (token_type_embeddings): Embedding(2, 768)\n",
              "    (LayerNorm): LayerNorm((768,), eps=1e-12, elementwise_affine=True)\n",
              "    (dropout): Dropout(p=0.1, inplace=False)\n",
              "  )\n",
              "  (encoder): BertEncoder(\n",
              "    (layer): ModuleList(\n",
              "      (0): BertLayer(\n",
              "        (attention): BertAttention(\n",
              "          (self): BertSelfAttention(\n",
              "            (query): Linear(in_features=768, out_features=768, bias=True)\n",
              "            (key): Linear(in_features=768, out_features=768, bias=True)\n",
              "            (value): Linear(in_features=768, out_features=768, bias=True)\n",
              "            (dropout): Dropout(p=0.1, inplace=False)\n",
              "          )\n",
              "          (output): BertSelfOutput(\n",
              "            (dense): Linear(in_features=768, out_features=768, bias=True)\n",
              "            (LayerNorm): LayerNorm((768,), eps=1e-12, elementwise_affine=True)\n",
              "            (dropout): Dropout(p=0.1, inplace=False)\n",
              "          )\n",
              "        )\n",
              "        (intermediate): BertIntermediate(\n",
              "          (dense): Linear(in_features=768, out_features=3072, bias=True)\n",
              "          (intermediate_act_fn): GELUActivation()\n",
              "        )\n",
              "        (output): BertOutput(\n",
              "          (dense): Linear(in_features=3072, out_features=768, bias=True)\n",
              "          (LayerNorm): LayerNorm((768,), eps=1e-12, elementwise_affine=True)\n",
              "          (dropout): Dropout(p=0.1, inplace=False)\n",
              "        )\n",
              "      )\n",
              "      (1): BertLayer(\n",
              "        (attention): BertAttention(\n",
              "          (self): BertSelfAttention(\n",
              "            (query): Linear(in_features=768, out_features=768, bias=True)\n",
              "            (key): Linear(in_features=768, out_features=768, bias=True)\n",
              "            (value): Linear(in_features=768, out_features=768, bias=True)\n",
              "            (dropout): Dropout(p=0.1, inplace=False)\n",
              "          )\n",
              "          (output): BertSelfOutput(\n",
              "            (dense): Linear(in_features=768, out_features=768, bias=True)\n",
              "            (LayerNorm): LayerNorm((768,), eps=1e-12, elementwise_affine=True)\n",
              "            (dropout): Dropout(p=0.1, inplace=False)\n",
              "          )\n",
              "        )\n",
              "        (intermediate): BertIntermediate(\n",
              "          (dense): Linear(in_features=768, out_features=3072, bias=True)\n",
              "          (intermediate_act_fn): GELUActivation()\n",
              "        )\n",
              "        (output): BertOutput(\n",
              "          (dense): Linear(in_features=3072, out_features=768, bias=True)\n",
              "          (LayerNorm): LayerNorm((768,), eps=1e-12, elementwise_affine=True)\n",
              "          (dropout): Dropout(p=0.1, inplace=False)\n",
              "        )\n",
              "      )\n",
              "      (2): BertLayer(\n",
              "        (attention): BertAttention(\n",
              "          (self): BertSelfAttention(\n",
              "            (query): Linear(in_features=768, out_features=768, bias=True)\n",
              "            (key): Linear(in_features=768, out_features=768, bias=True)\n",
              "            (value): Linear(in_features=768, out_features=768, bias=True)\n",
              "            (dropout): Dropout(p=0.1, inplace=False)\n",
              "          )\n",
              "          (output): BertSelfOutput(\n",
              "            (dense): Linear(in_features=768, out_features=768, bias=True)\n",
              "            (LayerNorm): LayerNorm((768,), eps=1e-12, elementwise_affine=True)\n",
              "            (dropout): Dropout(p=0.1, inplace=False)\n",
              "          )\n",
              "        )\n",
              "        (intermediate): BertIntermediate(\n",
              "          (dense): Linear(in_features=768, out_features=3072, bias=True)\n",
              "          (intermediate_act_fn): GELUActivation()\n",
              "        )\n",
              "        (output): BertOutput(\n",
              "          (dense): Linear(in_features=3072, out_features=768, bias=True)\n",
              "          (LayerNorm): LayerNorm((768,), eps=1e-12, elementwise_affine=True)\n",
              "          (dropout): Dropout(p=0.1, inplace=False)\n",
              "        )\n",
              "      )\n",
              "      (3): BertLayer(\n",
              "        (attention): BertAttention(\n",
              "          (self): BertSelfAttention(\n",
              "            (query): Linear(in_features=768, out_features=768, bias=True)\n",
              "            (key): Linear(in_features=768, out_features=768, bias=True)\n",
              "            (value): Linear(in_features=768, out_features=768, bias=True)\n",
              "            (dropout): Dropout(p=0.1, inplace=False)\n",
              "          )\n",
              "          (output): BertSelfOutput(\n",
              "            (dense): Linear(in_features=768, out_features=768, bias=True)\n",
              "            (LayerNorm): LayerNorm((768,), eps=1e-12, elementwise_affine=True)\n",
              "            (dropout): Dropout(p=0.1, inplace=False)\n",
              "          )\n",
              "        )\n",
              "        (intermediate): BertIntermediate(\n",
              "          (dense): Linear(in_features=768, out_features=3072, bias=True)\n",
              "          (intermediate_act_fn): GELUActivation()\n",
              "        )\n",
              "        (output): BertOutput(\n",
              "          (dense): Linear(in_features=3072, out_features=768, bias=True)\n",
              "          (LayerNorm): LayerNorm((768,), eps=1e-12, elementwise_affine=True)\n",
              "          (dropout): Dropout(p=0.1, inplace=False)\n",
              "        )\n",
              "      )\n",
              "      (4): BertLayer(\n",
              "        (attention): BertAttention(\n",
              "          (self): BertSelfAttention(\n",
              "            (query): Linear(in_features=768, out_features=768, bias=True)\n",
              "            (key): Linear(in_features=768, out_features=768, bias=True)\n",
              "            (value): Linear(in_features=768, out_features=768, bias=True)\n",
              "            (dropout): Dropout(p=0.1, inplace=False)\n",
              "          )\n",
              "          (output): BertSelfOutput(\n",
              "            (dense): Linear(in_features=768, out_features=768, bias=True)\n",
              "            (LayerNorm): LayerNorm((768,), eps=1e-12, elementwise_affine=True)\n",
              "            (dropout): Dropout(p=0.1, inplace=False)\n",
              "          )\n",
              "        )\n",
              "        (intermediate): BertIntermediate(\n",
              "          (dense): Linear(in_features=768, out_features=3072, bias=True)\n",
              "          (intermediate_act_fn): GELUActivation()\n",
              "        )\n",
              "        (output): BertOutput(\n",
              "          (dense): Linear(in_features=3072, out_features=768, bias=True)\n",
              "          (LayerNorm): LayerNorm((768,), eps=1e-12, elementwise_affine=True)\n",
              "          (dropout): Dropout(p=0.1, inplace=False)\n",
              "        )\n",
              "      )\n",
              "      (5): BertLayer(\n",
              "        (attention): BertAttention(\n",
              "          (self): BertSelfAttention(\n",
              "            (query): Linear(in_features=768, out_features=768, bias=True)\n",
              "            (key): Linear(in_features=768, out_features=768, bias=True)\n",
              "            (value): Linear(in_features=768, out_features=768, bias=True)\n",
              "            (dropout): Dropout(p=0.1, inplace=False)\n",
              "          )\n",
              "          (output): BertSelfOutput(\n",
              "            (dense): Linear(in_features=768, out_features=768, bias=True)\n",
              "            (LayerNorm): LayerNorm((768,), eps=1e-12, elementwise_affine=True)\n",
              "            (dropout): Dropout(p=0.1, inplace=False)\n",
              "          )\n",
              "        )\n",
              "        (intermediate): BertIntermediate(\n",
              "          (dense): Linear(in_features=768, out_features=3072, bias=True)\n",
              "          (intermediate_act_fn): GELUActivation()\n",
              "        )\n",
              "        (output): BertOutput(\n",
              "          (dense): Linear(in_features=3072, out_features=768, bias=True)\n",
              "          (LayerNorm): LayerNorm((768,), eps=1e-12, elementwise_affine=True)\n",
              "          (dropout): Dropout(p=0.1, inplace=False)\n",
              "        )\n",
              "      )\n",
              "      (6): BertLayer(\n",
              "        (attention): BertAttention(\n",
              "          (self): BertSelfAttention(\n",
              "            (query): Linear(in_features=768, out_features=768, bias=True)\n",
              "            (key): Linear(in_features=768, out_features=768, bias=True)\n",
              "            (value): Linear(in_features=768, out_features=768, bias=True)\n",
              "            (dropout): Dropout(p=0.1, inplace=False)\n",
              "          )\n",
              "          (output): BertSelfOutput(\n",
              "            (dense): Linear(in_features=768, out_features=768, bias=True)\n",
              "            (LayerNorm): LayerNorm((768,), eps=1e-12, elementwise_affine=True)\n",
              "            (dropout): Dropout(p=0.1, inplace=False)\n",
              "          )\n",
              "        )\n",
              "        (intermediate): BertIntermediate(\n",
              "          (dense): Linear(in_features=768, out_features=3072, bias=True)\n",
              "          (intermediate_act_fn): GELUActivation()\n",
              "        )\n",
              "        (output): BertOutput(\n",
              "          (dense): Linear(in_features=3072, out_features=768, bias=True)\n",
              "          (LayerNorm): LayerNorm((768,), eps=1e-12, elementwise_affine=True)\n",
              "          (dropout): Dropout(p=0.1, inplace=False)\n",
              "        )\n",
              "      )\n",
              "      (7): BertLayer(\n",
              "        (attention): BertAttention(\n",
              "          (self): BertSelfAttention(\n",
              "            (query): Linear(in_features=768, out_features=768, bias=True)\n",
              "            (key): Linear(in_features=768, out_features=768, bias=True)\n",
              "            (value): Linear(in_features=768, out_features=768, bias=True)\n",
              "            (dropout): Dropout(p=0.1, inplace=False)\n",
              "          )\n",
              "          (output): BertSelfOutput(\n",
              "            (dense): Linear(in_features=768, out_features=768, bias=True)\n",
              "            (LayerNorm): LayerNorm((768,), eps=1e-12, elementwise_affine=True)\n",
              "            (dropout): Dropout(p=0.1, inplace=False)\n",
              "          )\n",
              "        )\n",
              "        (intermediate): BertIntermediate(\n",
              "          (dense): Linear(in_features=768, out_features=3072, bias=True)\n",
              "          (intermediate_act_fn): GELUActivation()\n",
              "        )\n",
              "        (output): BertOutput(\n",
              "          (dense): Linear(in_features=3072, out_features=768, bias=True)\n",
              "          (LayerNorm): LayerNorm((768,), eps=1e-12, elementwise_affine=True)\n",
              "          (dropout): Dropout(p=0.1, inplace=False)\n",
              "        )\n",
              "      )\n",
              "      (8): BertLayer(\n",
              "        (attention): BertAttention(\n",
              "          (self): BertSelfAttention(\n",
              "            (query): Linear(in_features=768, out_features=768, bias=True)\n",
              "            (key): Linear(in_features=768, out_features=768, bias=True)\n",
              "            (value): Linear(in_features=768, out_features=768, bias=True)\n",
              "            (dropout): Dropout(p=0.1, inplace=False)\n",
              "          )\n",
              "          (output): BertSelfOutput(\n",
              "            (dense): Linear(in_features=768, out_features=768, bias=True)\n",
              "            (LayerNorm): LayerNorm((768,), eps=1e-12, elementwise_affine=True)\n",
              "            (dropout): Dropout(p=0.1, inplace=False)\n",
              "          )\n",
              "        )\n",
              "        (intermediate): BertIntermediate(\n",
              "          (dense): Linear(in_features=768, out_features=3072, bias=True)\n",
              "          (intermediate_act_fn): GELUActivation()\n",
              "        )\n",
              "        (output): BertOutput(\n",
              "          (dense): Linear(in_features=3072, out_features=768, bias=True)\n",
              "          (LayerNorm): LayerNorm((768,), eps=1e-12, elementwise_affine=True)\n",
              "          (dropout): Dropout(p=0.1, inplace=False)\n",
              "        )\n",
              "      )\n",
              "      (9): BertLayer(\n",
              "        (attention): BertAttention(\n",
              "          (self): BertSelfAttention(\n",
              "            (query): Linear(in_features=768, out_features=768, bias=True)\n",
              "            (key): Linear(in_features=768, out_features=768, bias=True)\n",
              "            (value): Linear(in_features=768, out_features=768, bias=True)\n",
              "            (dropout): Dropout(p=0.1, inplace=False)\n",
              "          )\n",
              "          (output): BertSelfOutput(\n",
              "            (dense): Linear(in_features=768, out_features=768, bias=True)\n",
              "            (LayerNorm): LayerNorm((768,), eps=1e-12, elementwise_affine=True)\n",
              "            (dropout): Dropout(p=0.1, inplace=False)\n",
              "          )\n",
              "        )\n",
              "        (intermediate): BertIntermediate(\n",
              "          (dense): Linear(in_features=768, out_features=3072, bias=True)\n",
              "          (intermediate_act_fn): GELUActivation()\n",
              "        )\n",
              "        (output): BertOutput(\n",
              "          (dense): Linear(in_features=3072, out_features=768, bias=True)\n",
              "          (LayerNorm): LayerNorm((768,), eps=1e-12, elementwise_affine=True)\n",
              "          (dropout): Dropout(p=0.1, inplace=False)\n",
              "        )\n",
              "      )\n",
              "      (10): BertLayer(\n",
              "        (attention): BertAttention(\n",
              "          (self): BertSelfAttention(\n",
              "            (query): Linear(in_features=768, out_features=768, bias=True)\n",
              "            (key): Linear(in_features=768, out_features=768, bias=True)\n",
              "            (value): Linear(in_features=768, out_features=768, bias=True)\n",
              "            (dropout): Dropout(p=0.1, inplace=False)\n",
              "          )\n",
              "          (output): BertSelfOutput(\n",
              "            (dense): Linear(in_features=768, out_features=768, bias=True)\n",
              "            (LayerNorm): LayerNorm((768,), eps=1e-12, elementwise_affine=True)\n",
              "            (dropout): Dropout(p=0.1, inplace=False)\n",
              "          )\n",
              "        )\n",
              "        (intermediate): BertIntermediate(\n",
              "          (dense): Linear(in_features=768, out_features=3072, bias=True)\n",
              "          (intermediate_act_fn): GELUActivation()\n",
              "        )\n",
              "        (output): BertOutput(\n",
              "          (dense): Linear(in_features=3072, out_features=768, bias=True)\n",
              "          (LayerNorm): LayerNorm((768,), eps=1e-12, elementwise_affine=True)\n",
              "          (dropout): Dropout(p=0.1, inplace=False)\n",
              "        )\n",
              "      )\n",
              "      (11): BertLayer(\n",
              "        (attention): BertAttention(\n",
              "          (self): BertSelfAttention(\n",
              "            (query): Linear(in_features=768, out_features=768, bias=True)\n",
              "            (key): Linear(in_features=768, out_features=768, bias=True)\n",
              "            (value): Linear(in_features=768, out_features=768, bias=True)\n",
              "            (dropout): Dropout(p=0.1, inplace=False)\n",
              "          )\n",
              "          (output): BertSelfOutput(\n",
              "            (dense): Linear(in_features=768, out_features=768, bias=True)\n",
              "            (LayerNorm): LayerNorm((768,), eps=1e-12, elementwise_affine=True)\n",
              "            (dropout): Dropout(p=0.1, inplace=False)\n",
              "          )\n",
              "        )\n",
              "        (intermediate): BertIntermediate(\n",
              "          (dense): Linear(in_features=768, out_features=3072, bias=True)\n",
              "          (intermediate_act_fn): GELUActivation()\n",
              "        )\n",
              "        (output): BertOutput(\n",
              "          (dense): Linear(in_features=3072, out_features=768, bias=True)\n",
              "          (LayerNorm): LayerNorm((768,), eps=1e-12, elementwise_affine=True)\n",
              "          (dropout): Dropout(p=0.1, inplace=False)\n",
              "        )\n",
              "      )\n",
              "    )\n",
              "  )\n",
              "  (pooler): BertPooler(\n",
              "    (dense): Linear(in_features=768, out_features=768, bias=True)\n",
              "    (activation): Tanh()\n",
              "  )\n",
              ")"
            ]
          },
          "metadata": {},
          "execution_count": 23
        }
      ],
      "source": [
        "model = torch.hub.load('huggingface/pytorch-transformers', 'model', 'bert-base-uncased')\n",
        "model"
      ]
    },
    {
      "cell_type": "code",
      "execution_count": 24,
      "metadata": {
        "colab": {
          "base_uri": "https://localhost:8080/"
        },
        "id": "xW7ETZQzzNp2",
        "outputId": "8eb89bf8-cadf-4d77-ee51-b214a7991dbd"
      },
      "outputs": [
        {
          "output_type": "stream",
          "name": "stderr",
          "text": [
            "Using cache found in /home/harry/.cache/torch/hub/huggingface_pytorch-transformers_main\n"
          ]
        }
      ],
      "source": [
        "from torch import nn\n",
        "\n",
        "\n",
        "class TextClassifier(nn.Module):\n",
        "  def __init__(self):\n",
        "    super().__init__()\n",
        "\n",
        "    self.encoder = torch.hub.load('huggingface/pytorch-transformers', 'model', 'bert-base-uncased')\n",
        "    self.classifier = nn.Linear(768, 3)\n",
        "\n",
        "  def forward(self,input_ids, attention_mask):\n",
        "    outputs = self.encoder(input_ids=input_ids, attention_mask=attention_mask)\n",
        "    cls_output = outputs.last_hidden_state[:, 0]\n",
        "    logits = self.classifier(cls_output)\n",
        "    return logits\n",
        "\n",
        "\n",
        "model = TextClassifier()"
      ]
    },
    {
      "cell_type": "code",
      "execution_count": 25,
      "metadata": {
        "id": "uyTciaPZ0KYo"
      },
      "outputs": [],
      "source": [
        "for param in model.encoder.parameters():\n",
        "  param.requires_grad = False"
      ]
    },
    {
      "cell_type": "code",
      "execution_count": 26,
      "metadata": {
        "id": "DjphVwXL00E2"
      },
      "outputs": [],
      "source": [
        "train_acc_list = []\n",
        "test_acc_list = []\n",
        "train_loss_list = []\n",
        "test_loss_list = []\n",
        "\n",
        "def accuracy(model, dataloader):\n",
        "  cnt = 0\n",
        "  acc = 0\n",
        "\n",
        "  for data in dataloader:\n",
        "    input_ids, attention_mask, labels = data  # input_ids와 attention_mask 추가\n",
        "    input_ids, attention_mask, labels = input_ids.to('cuda'), attention_mask.to('cuda'), labels.to('cuda').long()\n",
        "\n",
        "    preds = model(input_ids, attention_mask=attention_mask)  # attention_mask 전달\n",
        "    preds = torch.argmax(preds, dim=-1)  # 가장 높은 로짓 값을 가지는 클래스 선택\n",
        "\n",
        "    cnt += labels.shape[0]\n",
        "    acc += (labels == preds).sum().item()\n",
        "\n",
        "  return acc / cnt\n",
        "\n",
        "def compute_loss(model, dataloader, criterion):\n",
        "    total_loss = 0.0\n",
        "\n",
        "    for data in dataloader:\n",
        "        input_ids, attention_mask, labels = data\n",
        "        input_ids, attention_mask, labels = input_ids.to('cuda'), attention_mask.to('cuda'), labels.to('cuda').long()\n",
        "\n",
        "        preds = model(input_ids, attention_mask=attention_mask)\n",
        "        loss = criterion(preds, labels)\n",
        "        total_loss += loss.item()\n",
        "\n",
        "    return total_loss / len(dataloader)"
      ]
    },
    {
      "cell_type": "markdown",
      "source": [
        "## [MY CODE] CrossEntropyLoss, model 학습"
      ],
      "metadata": {
        "id": "HseFd5g2UdQ-"
      }
    },
    {
      "cell_type": "code",
      "execution_count": 27,
      "metadata": {
        "colab": {
          "base_uri": "https://localhost:8080/"
        },
        "id": "XvvaAEwCznt-",
        "outputId": "817bd33a-304c-45bc-ba49-49734221db36"
      },
      "outputs": [
        {
          "output_type": "stream",
          "name": "stdout",
          "text": [
            "Epoch   0 | Train Loss: 168.92337518930435 |  Train acc: 0.474 | Test Loss: 1.0482 | Test Acc: 0.447\n",
            "Epoch   1 | Train Loss: 162.1349281668663 |  Train acc: 0.517 | Test Loss: 1.0197 | Test Acc: 0.485\n",
            "Epoch   2 | Train Loss: 159.54458433389664 |  Train acc: 0.493 | Test Loss: 1.0241 | Test Acc: 0.478\n",
            "Epoch   3 | Train Loss: 158.10050332546234 |  Train acc: 0.536 | Test Loss: 1.0139 | Test Acc: 0.487\n",
            "Epoch   4 | Train Loss: 156.6526682972908 |  Train acc: 0.548 | Test Loss: 1.0005 | Test Acc: 0.499\n",
            "Epoch   5 | Train Loss: 156.94449925422668 |  Train acc: 0.525 | Test Loss: 1.0273 | Test Acc: 0.478\n",
            "Epoch   6 | Train Loss: 156.26620090007782 |  Train acc: 0.529 | Test Loss: 1.0233 | Test Acc: 0.488\n",
            "Epoch   7 | Train Loss: 154.9352923631668 |  Train acc: 0.541 | Test Loss: 1.0079 | Test Acc: 0.495\n",
            "Epoch   8 | Train Loss: 154.40411114692688 |  Train acc: 0.558 | Test Loss: 0.9974 | Test Acc: 0.507\n",
            "Epoch   9 | Train Loss: 154.2315393090248 |  Train acc: 0.555 | Test Loss: 0.9935 | Test Acc: 0.505\n"
          ]
        }
      ],
      "source": [
        "from torch.optim import Adam\n",
        "import numpy as np\n",
        "import matplotlib.pyplot as plt\n",
        "import os\n",
        "\n",
        "# 학습된 모델 저장 디렉토\n",
        "save_dir = \"/mnt/d/hanghae99/3rd/pth/\"\n",
        "os.makedirs(save_dir, exist_ok=True)\n",
        "\n",
        "lr = 0.001\n",
        "model = model.to('cuda')\n",
        "#  loss_fn = nn.BCEWithLogitsLoss()\n",
        "\n",
        "criterion = nn.CrossEntropyLoss() # CrossEntropyLoss 정의\n",
        "optimizer = Adam(model.parameters(), lr=lr)\n",
        "n_epochs = 10\n",
        "\n",
        "for epoch in range(n_epochs):\n",
        "  total_loss = 0.\n",
        "  model.train()\n",
        "\n",
        "  for data in train_loader:\n",
        "    model.zero_grad()\n",
        "    input_ids, attention_mask, labels = data\n",
        "    input_ids, attention_mask, labels = input_ids.to('cuda'), attention_mask.to('cuda'), labels.to('cuda').long() # 정수형 레이블\n",
        "\n",
        "    preds = model(input_ids, attention_mask=attention_mask) # Logits 형태로 출력\n",
        "    loss = criterion(preds, labels)\n",
        "    loss.backward()\n",
        "    optimizer.step()\n",
        "\n",
        "    total_loss += loss.item()\n",
        "\n",
        "  save_path = os.path.join(save_dir, f\"epoch_{epoch + 1}.pth\") # 학습 모델 저장\n",
        "  torch.save(model.state_dict(), save_path)\n",
        "\n",
        "  with torch.no_grad():\n",
        "    model.eval()\n",
        "    train_acc = accuracy(model, train_loader)\n",
        "    test_acc = accuracy(model, test_loader)\n",
        "    train_acc_list.append(train_acc)\n",
        "    test_acc_list.append(test_acc)\n",
        "\n",
        "    test_loss = compute_loss(model, test_loader, criterion)\n",
        "    test_loss_list.append(test_loss)\n",
        "\n",
        "  print(f\"Epoch {epoch:3d} | Train Loss: {total_loss} |  Train acc: {train_acc:.3f} | Test Loss: {test_loss:.4f} | Test Acc: {test_acc:.3f}\")"
      ]
    },
    {
      "cell_type": "code",
      "source": [
        "\n",
        "def plot_training_curves(train_loss_list, test_loss_list, train_acc_list, test_acc_list):\n",
        "\n",
        "    plt.figure(figsize=(15, 5))\n",
        "\n",
        "    # 손실 곡선\n",
        "    plt.subplot(1, 2, 1)\n",
        "    plt.plot(train_loss_list, label=\"Train Loss\", marker='o')\n",
        "    plt.plot(test_loss_list, label=\"Validation Loss\", marker='o')\n",
        "    plt.xlabel(\"Epoch\")\n",
        "    plt.ylabel(\"Loss\")\n",
        "    plt.title(\"Loss Curve\")\n",
        "    plt.legend()\n",
        "    plt.grid(True)\n",
        "\n",
        "    # 정확도 곡선\n",
        "    plt.subplot(1, 2, 2)\n",
        "    plt.plot(train_acc_list, label=\"Train Accuracy\", marker='o')\n",
        "    plt.plot(test_acc_list, label=\"Validation Accuracy\", marker='o')\n",
        "    plt.xlabel(\"Epoch\")\n",
        "    plt.ylabel(\"Accuracy\")\n",
        "    plt.title(\"Accuracy Curve\")\n",
        "    plt.legend()\n",
        "    plt.grid(True)\n",
        "\n",
        "    plt.tight_layout()\n",
        "    plt.show()\n",
        "\n",
        "plot_training_curves(train_loss_list, test_loss_list, train_acc_list, test_acc_list)"
      ],
      "metadata": {
        "colab": {
          "base_uri": "https://localhost:8080/",
          "height": 507
        },
        "id": "KTczq29PSy3q",
        "outputId": "2de13572-f669-4e15-ddff-cbda9cc24e57"
      },
      "execution_count": 28,
      "outputs": [
        {
          "output_type": "display_data",
          "data": {
            "text/plain": [
              "<Figure size 1500x500 with 2 Axes>"
            ],
            "image/png": "[encoded data removed]"
          },
          "metadata": {}
        }
      ]
    },
    {
      "cell_type": "markdown",
      "source": [
        "## [MY CODE] CrossEntropyLoss 맞게 accuracy 수정"
      ],
      "metadata": {
        "id": "w7m_HQSUXMWj"
      }
    },
    {
      "cell_type": "markdown",
      "source": [
        "## [MY CODE] 학습 결과 테스트"
      ],
      "metadata": {
        "id": "IU0WuKNZo-1I"
      }
    },
    {
      "cell_type": "code",
      "source": [
        "def load_model(filepath, model_class):\n",
        "    model = model_class()\n",
        "    model.load_state_dict(torch.load(filepath))\n",
        "    model = model.to('cuda')\n",
        "    model.eval()\n",
        "    return model\n",
        "\n",
        "def predict_from_variables(model, tokenizer, premise, hypothesis, label_map):\n",
        "    # 입력 텍스트를 토큰화\n",
        "    inputs = tokenizer(\n",
        "        premise,\n",
        "        text_pair=hypothesis,\n",
        "        padding=True,\n",
        "        truncation=True,\n",
        "        max_length=400,\n",
        "        return_tensors=\"pt\"\n",
        "    )\n",
        "    input_ids = inputs[\"input_ids\"].to(\"cuda\")\n",
        "    attention_mask = inputs[\"attention_mask\"].to(\"cuda\")\n",
        "\n",
        "    # 모델 예측\n",
        "    with torch.no_grad():\n",
        "        outputs = model(input_ids=input_ids, attention_mask=attention_mask)\n",
        "        predicted_class = torch.argmax(outputs, dim=-1).item()\n",
        "\n",
        "    return label_map[predicted_class]\n",
        "\n",
        "model_path = '/mnt/d/hanghae99/3rd/pth/epoch_10.pth'\n",
        "load_model(model_path, TextClassifier)\n",
        "tokenizer = torch.hub.load('huggingface/pytorch-transformers', 'tokenizer', 'bert-base-uncased')\n",
        "label_map = {0: \"Entailment\", 1: \"Neutral\", 2: \"Contradiction\"}\n",
        "\n",
        "premise = \"A man is playing a guitar on the stage.\"\n",
        "hypothesis = \"The man is performing music.\"\n",
        "\n",
        "predicted_label = predict_from_variables(model, tokenizer, premise, hypothesis, label_map)\n",
        "\n",
        "# 결과 출력\n",
        "print(f\"Premise: {premise}\")\n",
        "print(f\"Hypothesis: {hypothesis}\")\n",
        "print(f\"Predicted Label: {predicted_label}\")"
      ],
      "metadata": {
        "id": "Foks5u95ZQ1_",
        "colab": {
          "base_uri": "https://localhost:8080/"
        },
        "outputId": "e457e217-f75a-4b96-875d-5af262cc2e65"
      },
      "execution_count": 29,
      "outputs": [
        {
          "output_type": "stream",
          "name": "stderr",
          "text": [
            "Using cache found in /home/harry/.cache/torch/hub/huggingface_pytorch-transformers_main\n",
            "Using cache found in /home/harry/.cache/torch/hub/huggingface_pytorch-transformers_main\n"
          ]
        },
        {
          "output_type": "stream",
          "name": "stdout",
          "text": [
            "Premise: A man is playing a guitar on the stage.\n",
            "Hypothesis: The man is performing music.\n",
            "Predicted Label: Entailment\n"
          ]
        }
      ]
    },
    {
      "cell_type": "markdown",
      "source": [
        "## [MY CODE] Find-Tuning 진행"
      ],
      "metadata": {
        "id": "Tf0rVLRki7Q1"
      }
    },
    {
      "cell_type": "markdown",
      "source": [
        "----------------------------------"
      ],
      "metadata": {
        "id": "SkqNdA5MhYCI"
      }
    },
    {
      "cell_type": "markdown",
      "source": [
        "## [MY CODE] Train, val 데이터셋 비율 조절(train:10000, val : 2000)"
      ],
      "metadata": {
        "id": "BY0If5z2hQOo"
      }
    },
    {
      "cell_type": "code",
      "source": [
        "train_fine_df = pd.read_csv(train_data_path)[:10000]\n",
        "val_fine_df = pd.read_csv(val_data_path)[:2000]"
      ],
      "metadata": {
        "id": "A_P1jhmqzlfP"
      },
      "execution_count": 30,
      "outputs": []
    },
    {
      "cell_type": "code",
      "source": [
        "print(f\"Train 데이터 갯수: {len(train_fine_df)}\")\n",
        "print(f\"Validation 데이터 갯수: {len(val_fine_df)}\")"
      ],
      "metadata": {
        "colab": {
          "base_uri": "https://localhost:8080/"
        },
        "id": "0cddpGfozErl",
        "outputId": "592b4b80-7f50-47cc-b762-42bc0fd6508e"
      },
      "execution_count": 31,
      "outputs": [
        {
          "output_type": "stream",
          "name": "stdout",
          "text": [
            "Train 데이터 갯수: 10000\n",
            "Validation 데이터 갯수: 2000\n"
          ]
        }
      ]
    },
    {
      "cell_type": "markdown",
      "source": [
        "## [MY CODE] MAX_LEN 크기를 128로 변경"
      ],
      "metadata": {
        "id": "b6rEZXRRhLXj"
      }
    },
    {
      "cell_type": "code",
      "source": [
        "tokenizer = torch.hub.load('huggingface/pytorch-transformers', 'tokenizer', 'bert-base-uncased')\n",
        "\n",
        "def collate_fn(batch):\n",
        "  max_len = 128  # max_len 128로 수정\n",
        "  premises, hypotheses, labels = [], [], []\n",
        "  for row in batch:\n",
        "    premise = str(row['premise'])\n",
        "    hypothesis = str(row['hypothesis'])\n",
        "\n",
        "    premises.append(premise)\n",
        "    hypotheses.append(hypothesis)\n",
        "    labels.append(row['label'])\n",
        "\n",
        "  encoding = tokenizer(premises, hypotheses, padding = True, truncation = True, max_length = max_len,  return_tensors='pt')  # tensor 형테로 반환\n",
        "  labels = torch.tensor(labels, dtype=torch.long)\n",
        "\n",
        "  return encoding['input_ids'], encoding['attention_mask'], labels\n",
        "\n",
        "\n",
        "train_loader = DataLoader(\n",
        "    train_fine_df.to_dict('records'), batch_size=64, shuffle=True, collate_fn=collate_fn\n",
        ")\n",
        "test_loader = DataLoader(\n",
        "    val_fine_df.to_dict('records'), batch_size=64, shuffle=False, collate_fn=collate_fn\n",
        ")"
      ],
      "metadata": {
        "colab": {
          "base_uri": "https://localhost:8080/"
        },
        "id": "VLBl7EdplVRV",
        "outputId": "1ecd6640-e047-4bd3-c9f9-f85012802847"
      },
      "execution_count": 32,
      "outputs": [
        {
          "output_type": "stream",
          "name": "stderr",
          "text": [
            "Using cache found in /home/harry/.cache/torch/hub/huggingface_pytorch-transformers_main\n"
          ]
        }
      ]
    },
    {
      "cell_type": "markdown",
      "source": [
        "## [MY CODE] layer를 전체 다 보는것이 아닌  마지막 4개의 레이어를 제외한 레이어들의 파라미터를 대상으로 작업을 수행"
      ],
      "metadata": {
        "id": "UwP13Nvng8Dn"
      }
    },
    {
      "cell_type": "code",
      "source": [
        "for param in model.encoder.encoder.layer[:-4].parameters():\n",
        "    param.requires_grad = False"
      ],
      "metadata": {
        "id": "J5HNIttQpH-c"
      },
      "execution_count": 33,
      "outputs": []
    },
    {
      "cell_type": "markdown",
      "source": [
        "## [MY CODE] Lr 0.00005로 변경, AdamW로 변경"
      ],
      "metadata": {
        "id": "bwZ9Xe5tg0li"
      }
    },
    {
      "cell_type": "code",
      "source": [
        "from torch.optim import Adam\n",
        "from torch.optim import AdamW\n",
        "import numpy as np\n",
        "import matplotlib.pyplot as plt\n",
        "import os\n",
        "\n",
        "\n",
        "\n",
        "train_fine_acc_list = []\n",
        "test_fine_acc_list = []\n",
        "train_fine_loss_list = []\n",
        "test_fine_loss_list = []\n",
        "\n",
        "\n",
        "# 학습된 모델 저장 디렉토\n",
        "save_dir = \"/mnt/d/hanghae99/3rd/fine-tuning_pth/\"\n",
        "os.makedirs(save_dir, exist_ok=True)\n",
        "\n",
        "lr = 0.00005   # learning rate 변경\n",
        "model = TextClassifier()\n",
        "model = model.to('cuda')\n",
        "#  loss_fn = nn.BCEWithLogitsLoss()\n",
        "\n",
        "criterion = nn.CrossEntropyLoss() # CrossEntropyLoss 정의\n",
        "optimizer = AdamW(model.parameters(), lr=lr,  weight_decay=0.01)  # AdamW 변\n",
        "n_epochs = 10\n",
        "\n",
        "for epoch in range(n_epochs):\n",
        "  total_fine_loss = 0.\n",
        "  model.train()\n",
        "\n",
        "  for batch_idx, data in enumerate(train_loader):\n",
        "    model.zero_grad()\n",
        "    input_ids, attention_mask, labels = data\n",
        "    input_ids, attention_mask, labels = input_ids.to('cuda'), attention_mask.to('cuda'), labels.to('cuda').long() # 정수형 레이블\n",
        "    preds = model(input_ids, attention_mask=attention_mask) # Logits 형태로 출력\n",
        "    loss = criterion(preds, labels)\n",
        "    loss.backward()\n",
        "    optimizer.step()\n",
        "\n",
        "    # print(f\"Epoch {epoch + 1}, Batch {batch_idx + 1}/{len(train_loader)}\")\n",
        "\n",
        "    total_fine_loss += loss.item()\n",
        "\n",
        "  save_path = os.path.join(save_dir, f\"epoch_{epoch + 1}.pth\") # 학습 모델 저장\n",
        "  torch.save(model.state_dict(), save_path)\n",
        "  with torch.no_grad():\n",
        "    model.eval()\n",
        "    train_fine_acc = accuracy(model, train_loader)\n",
        "    test_fine_acc = accuracy(model, test_loader)\n",
        "    train_fine_acc_list.append(train_fine_acc)\n",
        "    test_fine_acc_list.append(test_fine_acc)\n",
        "\n",
        "    test_fine_loss = compute_loss(model, test_loader, criterion)\n",
        "    test_fine_loss_list.append(test_fine_loss)\n",
        "    train_fine_loss_list.append(total_fine_loss)\n",
        "\n",
        "  print(f\"Epoch {epoch:3d} | Train Loss: {total_fine_loss} |  Train acc: {train_fine_acc:.3f} | Test Loss: {test_fine_loss:.4f} | Test Acc: {test_fine_acc:.3f}\")"
      ],
      "metadata": {
        "colab": {
          "base_uri": "https://localhost:8080/"
        },
        "id": "S4dAmwA3j9J1",
        "outputId": "3a0a2496-929a-4f47-f887-50de478e2922"
      },
      "execution_count": 34,
      "outputs": [
        {
          "output_type": "stream",
          "name": "stderr",
          "text": [
            "Using cache found in /home/harry/.cache/torch/hub/huggingface_pytorch-transformers_main\n"
          ]
        },
        {
          "output_type": "stream",
          "name": "stdout",
          "text": [
            "Epoch   0 | Train Loss: 132.2645412683487 |  Train acc: 0.806 | Test Loss: 0.6774 | Test Acc: 0.720\n",
            "Epoch   1 | Train Loss: 78.89077657461166 |  Train acc: 0.955 | Test Loss: 0.7172 | Test Acc: 0.736\n",
            "Epoch   2 | Train Loss: 34.25407540053129 |  Train acc: 0.984 | Test Loss: 0.9612 | Test Acc: 0.735\n",
            "Epoch   3 | Train Loss: 14.999165959656239 |  Train acc: 0.995 | Test Loss: 1.0613 | Test Acc: 0.735\n",
            "Epoch   4 | Train Loss: 11.76001217868179 |  Train acc: 0.995 | Test Loss: 1.0974 | Test Acc: 0.718\n",
            "Epoch   5 | Train Loss: 6.724647466093302 |  Train acc: 0.996 | Test Loss: 1.4352 | Test Acc: 0.712\n",
            "Epoch   6 | Train Loss: 5.8206289518857375 |  Train acc: 0.998 | Test Loss: 1.3234 | Test Acc: 0.728\n",
            "Epoch   7 | Train Loss: 6.0273442058824 |  Train acc: 0.999 | Test Loss: 1.2604 | Test Acc: 0.740\n",
            "Epoch   8 | Train Loss: 4.343261705478653 |  Train acc: 0.997 | Test Loss: 1.3674 | Test Acc: 0.717\n",
            "Epoch   9 | Train Loss: 3.6968567364965566 |  Train acc: 0.999 | Test Loss: 1.4539 | Test Acc: 0.732\n"
          ]
        }
      ]
    },
    {
      "cell_type": "markdown",
      "source": [
        "## [MY CODE] 결과 그래프 출력"
      ],
      "metadata": {
        "id": "U_UxmBY7gxCQ"
      }
    },
    {
      "cell_type": "code",
      "source": [
        "plot_training_curves(train_fine_loss_list, test_fine_loss_list, train_fine_acc_list, test_fine_acc_list)"
      ],
      "metadata": {
        "colab": {
          "base_uri": "https://localhost:8080/",
          "height": 507
        },
        "id": "SJ6359hllOXV",
        "outputId": "f640114e-271a-4154-871a-16d6bc07365d"
      },
      "execution_count": 36,
      "outputs": [
        {
          "output_type": "display_data",
          "data": {
            "text/plain": [
              "<Figure size 1500x500 with 2 Axes>"
            ],
            "image/png": "[encoded data removed]"
          },
          "metadata": {}
        }
      ]
    },
    {
      "cell_type": "code",
      "source": [],
      "metadata": {
        "id": "Za14BN4tdgjI"
      },
      "execution_count": null,
      "outputs": []
    }
  ],
  "metadata": {
    "accelerator": "GPU",
    "colab": {
      "gpuType": "T4",
      "provenance": [],
      "include_colab_link": true
    },
    "kernelspec": {
      "display_name": "Python 3",
      "name": "python3"
    },
    "language_info": {
      "name": "python"
    }
  },
  "nbformat": 4,
  "nbformat_minor": 0
}