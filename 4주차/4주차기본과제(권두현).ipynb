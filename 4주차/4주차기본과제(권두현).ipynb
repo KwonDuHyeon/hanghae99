{
  "nbformat": 4,
  "nbformat_minor": 0,
  "metadata": {
    "colab": {
      "provenance": [],
      "gpuType": "T4",
      "include_colab_link": true
    },
    "kernelspec": {
      "name": "python3",
      "display_name": "Python 3"
    },
    "language_info": {
      "name": "python"
    },
    "accelerator": "GPU"
  },
  "cells": [
    {
      "cell_type": "markdown",
      "metadata": {
        "id": "view-in-github",
        "colab_type": "text"
      },
      "source": [
        "<a href=\"https://colab.research.google.com/github/KwonDuHyeon/hanghae99/blob/main/4%EC%A3%BC%EC%B0%A8%EA%B8%B0%EB%B3%B8%EA%B3%BC%EC%A0%9C(%EA%B6%8C%EB%91%90%ED%98%84).ipynb\" target=\"_parent\"><img src=\"https://colab.research.google.com/assets/colab-badge.svg\" alt=\"Open In Colab\"/></a>"
      ]
    },
    {
      "cell_type": "markdown",
      "source": [
        "# 4주차 기본과제(권두현) HuggingFace로 두 문장의 논리적 모순 분류하기"
      ],
      "metadata": {
        "id": "owTOpkIFX3wb"
      }
    },
    {
      "cell_type": "code",
      "execution_count": null,
      "metadata": {
        "id": "UeHRwq3aR-bc",
        "collapsed": true
      },
      "outputs": [],
      "source": [
        "#!pip install transformers datasets evaluate accelerate scikit-learn"
      ]
    },
    {
      "cell_type": "markdown",
      "source": [
        "## Import 부분"
      ],
      "metadata": {
        "id": "xtIeaAQ4_VsU"
      }
    },
    {
      "cell_type": "code",
      "source": [
        "import random\n",
        "import evaluate\n",
        "import numpy as np\n",
        "\n",
        "from datasets import load_dataset\n",
        "from transformers import AutoTokenizer, AutoModelForSequenceClassification"
      ],
      "metadata": {
        "id": "QObF2OAzYwLi",
        "colab": {
          "base_uri": "https://localhost:8080/"
        },
        "outputId": "9c3ad625-fead-471a-8609-f60ea45b7dcc"
      },
      "execution_count": null,
      "outputs": [
        {
          "output_type": "stream",
          "name": "stderr",
          "text": [
            "/home/wiselake/anaconda3/envs/harry/lib/python3.9/site-packages/tqdm/auto.py:21: TqdmWarning: IProgress not found. Please update jupyter and ipywidgets. See https://ipywidgets.readthedocs.io/en/stable/user_install.html\n",
            "  from .autonotebook import tqdm as notebook_tqdm\n"
          ]
        }
      ]
    },
    {
      "cell_type": "markdown",
      "source": [
        "## [MY CODE] MNLI Dataset Load"
      ],
      "metadata": {
        "id": "FxyXrGlq_t0b"
      }
    },
    {
      "cell_type": "code",
      "source": [
        "mnli = load_dataset(\"nyu-mll/glue\", \"mnli\")\n",
        "mnli"
      ],
      "metadata": {
        "colab": {
          "base_uri": "https://localhost:8080/"
        },
        "id": "HzxfcmYPZA7x",
        "outputId": "4d65c95c-4138-4c7d-961d-63eec2744ac1",
        "collapsed": true
      },
      "execution_count": null,
      "outputs": [
        {
          "output_type": "execute_result",
          "data": {
            "text/plain": [
              "DatasetDict({\n",
              "    train: Dataset({\n",
              "        features: ['premise', 'hypothesis', 'label', 'idx'],\n",
              "        num_rows: 392702\n",
              "    })\n",
              "    validation_matched: Dataset({\n",
              "        features: ['premise', 'hypothesis', 'label', 'idx'],\n",
              "        num_rows: 9815\n",
              "    })\n",
              "    validation_mismatched: Dataset({\n",
              "        features: ['premise', 'hypothesis', 'label', 'idx'],\n",
              "        num_rows: 9832\n",
              "    })\n",
              "    test_matched: Dataset({\n",
              "        features: ['premise', 'hypothesis', 'label', 'idx'],\n",
              "        num_rows: 9796\n",
              "    })\n",
              "    test_mismatched: Dataset({\n",
              "        features: ['premise', 'hypothesis', 'label', 'idx'],\n",
              "        num_rows: 9847\n",
              "    })\n",
              "})"
            ]
          },
          "metadata": {},
          "execution_count": 3
        }
      ]
    },
    {
      "cell_type": "markdown",
      "source": [
        "## [MY CODE] 데이터셋 확인"
      ],
      "metadata": {
        "id": "aivlGBJs_0hH"
      }
    },
    {
      "cell_type": "code",
      "source": [
        "mnli['train'][0]"
      ],
      "metadata": {
        "colab": {
          "base_uri": "https://localhost:8080/"
        },
        "id": "9nVFOdAIi4Hj",
        "outputId": "4c4b16c9-3e79-478e-8840-45842187fbc9"
      },
      "execution_count": null,
      "outputs": [
        {
          "output_type": "execute_result",
          "data": {
            "text/plain": [
              "{'premise': 'Conceptually cream skimming has two basic dimensions - product and geography.',\n",
              " 'hypothesis': 'Product and geography are what make cream skimming work. ',\n",
              " 'label': 1,\n",
              " 'idx': 0}"
            ]
          },
          "metadata": {},
          "execution_count": 4
        }
      ]
    },
    {
      "cell_type": "code",
      "source": [
        "len(mnli['train'])"
      ],
      "metadata": {
        "colab": {
          "base_uri": "https://localhost:8080/"
        },
        "id": "hnIWMjbEAmKH",
        "outputId": "b35420cc-962c-40ff-a123-c016ae2bd9e0"
      },
      "execution_count": null,
      "outputs": [
        {
          "output_type": "execute_result",
          "data": {
            "text/plain": [
              "392702"
            ]
          },
          "metadata": {},
          "execution_count": 5
        }
      ]
    },
    {
      "cell_type": "code",
      "source": [
        "print(mnli[\"train\"].features[\"label\"]) # label 3개"
      ],
      "metadata": {
        "colab": {
          "base_uri": "https://localhost:8080/"
        },
        "id": "Fy5rkTH1emCe",
        "outputId": "d7fbf3f3-e3f7-4d79-a894-eb235d786d47"
      },
      "execution_count": null,
      "outputs": [
        {
          "output_type": "stream",
          "name": "stdout",
          "text": [
            "ClassLabel(names=['entailment', 'neutral', 'contradiction'], id=None)\n"
          ]
        }
      ]
    },
    {
      "cell_type": "markdown",
      "source": [],
      "metadata": {
        "id": "lvpiFN9cBPQZ"
      }
    },
    {
      "cell_type": "markdown",
      "source": [
        "## [MY CODE] Tokenizer 호출 수정"
      ],
      "metadata": {
        "id": "RJMCvtGPNPZH"
      }
    },
    {
      "cell_type": "code",
      "source": [
        "tokenizer = AutoTokenizer.from_pretrained(\"bert-base-cased\")\n",
        "\n",
        "def preprocess_function(data):\n",
        "    return tokenizer(data[\"premise\"], data[\"hypothesis\"], truncation=True)\n",
        "\n",
        "mnli_tokenized = mnli.map(preprocess_function, batched=True)"
      ],
      "metadata": {
        "id": "BhC_ETFZZRJ2"
      },
      "execution_count": null,
      "outputs": []
    },
    {
      "cell_type": "markdown",
      "source": [
        "## [MY CODE] KEY값 확인"
      ],
      "metadata": {
        "id": "5GN3O5BkNqL7"
      }
    },
    {
      "cell_type": "code",
      "source": [
        "mnli_tokenized['train'][0].keys()"
      ],
      "metadata": {
        "colab": {
          "base_uri": "https://localhost:8080/"
        },
        "id": "i1aK6gpPqSSU",
        "outputId": "61a22238-0e28-4f14-f21d-ffc107c41d85"
      },
      "execution_count": null,
      "outputs": [
        {
          "output_type": "execute_result",
          "data": {
            "text/plain": [
              "dict_keys(['premise', 'hypothesis', 'label', 'idx', 'input_ids', 'token_type_ids', 'attention_mask'])"
            ]
          },
          "metadata": {},
          "execution_count": 8
        }
      ]
    },
    {
      "cell_type": "markdown",
      "source": [
        "## [MY CODE] Train, val, test split 진행 및 길이 확인"
      ],
      "metadata": {
        "id": "dS8sbTe3N4jf"
      }
    },
    {
      "cell_type": "code",
      "source": [
        "mnli_split = mnli_tokenized['train'].train_test_split(test_size=0.2) # 데이터 10%만사용\n",
        "mnli_train, mnli_val = mnli_split['train'], mnli_split['test']\n"
      ],
      "metadata": {
        "id": "RIXTFBTobI8N"
      },
      "execution_count": null,
      "outputs": []
    },
    {
      "cell_type": "code",
      "source": [
        "len(mnli_train), len(mnli_val)"
      ],
      "metadata": {
        "colab": {
          "base_uri": "https://localhost:8080/"
        },
        "id": "5SGfOwadaYlk",
        "outputId": "f2b7fbf6-a5fb-43e4-fc79-f92a6376bf55"
      },
      "execution_count": null,
      "outputs": [
        {
          "output_type": "execute_result",
          "data": {
            "text/plain": [
              "(314161, 78541)"
            ]
          },
          "metadata": {},
          "execution_count": 10
        }
      ]
    },
    {
      "cell_type": "markdown",
      "source": [
        "## [MY CODE] MODEL 부분"
      ],
      "metadata": {
        "id": "rkeaTc-NOwA_"
      }
    },
    {
      "cell_type": "code",
      "source": [
        "from transformers import BertConfig\n",
        "\n",
        "config = BertConfig()\n",
        "\n",
        "config.hidden_size = 64  # BERT layer의 기본 hidden dimension\n",
        "config.intermediate_size = 64  # FFN layer의 중간 hidden dimension\n",
        "config.num_hidden_layers = 2  # BERT layer의 개수\n",
        "config.num_attention_heads = 4  # Multi-head attention에서 사용하는 head 개수\n",
        "config.num_labels = 3  # 마지막에 예측해야 하는 분류 문제의 class 개수\n",
        "\n",
        "model = AutoModelForSequenceClassification.from_config(config)"
      ],
      "metadata": {
        "id": "xw-ZdYVCZfxU"
      },
      "execution_count": null,
      "outputs": []
    },
    {
      "cell_type": "markdown",
      "source": [
        "## [MY CODE] 학습인자 정리"
      ],
      "metadata": {
        "id": "-OrSK9mIO2RX"
      }
    },
    {
      "cell_type": "code",
      "source": [
        "from transformers import TrainingArguments, Trainer\n",
        "\n",
        "training_args = TrainingArguments(\n",
        "    output_dir='hf_transformer',\n",
        "    num_train_epochs=10,\n",
        "    per_device_train_batch_size= 128,  # GPU memory 오류 batchsize 변경\n",
        "    per_device_eval_batch_size= 128, # GPU memory 오류 batchsize 변경\n",
        "    logging_strategy=\"epoch\",\n",
        "    do_train=True,\n",
        "    do_eval=True,\n",
        "    warmup_steps=195,\n",
        "    eval_strategy=\"epoch\",\n",
        "    save_strategy=\"epoch\",\n",
        "    learning_rate=1e-3,\n",
        "    load_best_model_at_end=True\n",
        ")"
      ],
      "metadata": {
        "id": "YtqLwO7sZhXT"
      },
      "execution_count": null,
      "outputs": []
    },
    {
      "cell_type": "markdown",
      "source": [
        "## [MY CODE] accuracy 선언"
      ],
      "metadata": {
        "id": "ZlE0jPn2PEav"
      }
    },
    {
      "cell_type": "code",
      "source": [
        "import evaluate\n",
        "\n",
        "accuracy = evaluate.load(\"accuracy\")\n",
        "\n",
        "\n",
        "def compute_metrics(pred):\n",
        "    predictions, labels = pred\n",
        "    predictions = np.argmax(predictions, axis=1)\n",
        "    return accuracy.compute(predictions=predictions, references=labels)"
      ],
      "metadata": {
        "id": "Wa2zYLTUZ8rD"
      },
      "execution_count": null,
      "outputs": []
    },
    {
      "cell_type": "markdown",
      "source": [
        "## [MY CODE] train 정의"
      ],
      "metadata": {
        "id": "oeu5229TPOPH"
      }
    },
    {
      "cell_type": "code",
      "source": [
        "from transformers import EarlyStoppingCallback\n",
        "\n",
        "\n",
        "trainer = Trainer(\n",
        "    model=model,\n",
        "    args=training_args,\n",
        "    train_dataset=mnli_train,\n",
        "    eval_dataset=mnli_val,\n",
        "    compute_metrics=compute_metrics,\n",
        "    tokenizer=tokenizer,\n",
        "    # callbacks = [EarlyStoppingCallback(early_stopping_patience=1)]\n",
        ")"
      ],
      "metadata": {
        "id": "Ci4lNfK6Z_z4",
        "colab": {
          "base_uri": "https://localhost:8080/"
        },
        "outputId": "ae73fdbf-d659-45f5-cd44-603cbd7d89c0"
      },
      "execution_count": null,
      "outputs": [
        {
          "output_type": "stream",
          "name": "stderr",
          "text": [
            "/tmp/ipykernel_1228/2920167281.py:4: FutureWarning: `tokenizer` is deprecated and will be removed in version 5.0.0 for `Trainer.__init__`. Use `processing_class` instead.\n",
            "  trainer = Trainer(\n"
          ]
        }
      ]
    },
    {
      "cell_type": "markdown",
      "source": [
        "## [MY CODE] 학습진행"
      ],
      "metadata": {
        "id": "zd-l7sMQPW47"
      }
    },
    {
      "cell_type": "code",
      "source": [
        "trainer.train()"
      ],
      "metadata": {
        "id": "qmNkWuVVaBEc",
        "colab": {
          "base_uri": "https://localhost:8080/",
          "height": 551
        },
        "outputId": "f2da3412-ad65-415f-80ba-33c552406c33"
      },
      "execution_count": null,
      "outputs": [
        {
          "output_type": "stream",
          "name": "stderr",
          "text": [
            "\u001b[34m\u001b[1mwandb\u001b[0m: \u001b[33mWARNING\u001b[0m The `run_name` is currently set to the same value as `TrainingArguments.output_dir`. If this was not intended, please specify a different run name by setting the `TrainingArguments.run_name` parameter.\n",
            "\u001b[34m\u001b[1mwandb\u001b[0m: Currently logged in as: \u001b[33mduhyeon\u001b[0m. Use \u001b[1m`wandb login --relogin`\u001b[0m to force relogin\n",
            "\u001b[34m\u001b[1mwandb\u001b[0m: Using wandb-core as the SDK backend.  Please refer to https://wandb.me/wandb-core for more information.\n"
          ]
        },
        {
          "output_type": "display_data",
          "data": {
            "text/plain": [
              "<IPython.core.display.HTML object>"
            ],
            "text/html": [
              "Tracking run with wandb version 0.19.2"
            ]
          },
          "metadata": {}
        },
        {
          "output_type": "display_data",
          "data": {
            "text/plain": [
              "<IPython.core.display.HTML object>"
            ],
            "text/html": [
              "Run data is saved locally in <code>/home/wiselake/wandb/run-20250110_000550-al2sil3m</code>"
            ]
          },
          "metadata": {}
        },
        {
          "output_type": "display_data",
          "data": {
            "text/plain": [
              "<IPython.core.display.HTML object>"
            ],
            "text/html": [
              "Syncing run <strong><a href='https://wandb.ai/duhyeon/huggingface/runs/al2sil3m' target=\"_blank\">hf_transformer</a></strong> to <a href='https://wandb.ai/duhyeon/huggingface' target=\"_blank\">Weights & Biases</a> (<a href='https://wandb.me/developer-guide' target=\"_blank\">docs</a>)<br>"
            ]
          },
          "metadata": {}
        },
        {
          "output_type": "display_data",
          "data": {
            "text/plain": [
              "<IPython.core.display.HTML object>"
            ],
            "text/html": [
              " View project at <a href='https://wandb.ai/duhyeon/huggingface' target=\"_blank\">https://wandb.ai/duhyeon/huggingface</a>"
            ]
          },
          "metadata": {}
        },
        {
          "output_type": "display_data",
          "data": {
            "text/plain": [
              "<IPython.core.display.HTML object>"
            ],
            "text/html": [
              " View run at <a href='https://wandb.ai/duhyeon/huggingface/runs/al2sil3m' target=\"_blank\">https://wandb.ai/duhyeon/huggingface/runs/al2sil3m</a>"
            ]
          },
          "metadata": {}
        },
        {
          "output_type": "display_data",
          "data": {
            "text/plain": [
              "<IPython.core.display.HTML object>"
            ],
            "text/html": [
              "\n",
              "    <div>\n",
              "      \n",
              "      <progress value='24550' max='24550' style='width:300px; height:20px; vertical-align: middle;'></progress>\n",
              "      [24550/24550 07:59, Epoch 10/10]\n",
              "    </div>\n",
              "    <table border=\"1\" class=\"dataframe\">\n",
              "  <thead>\n",
              " <tr style=\"text-align: left;\">\n",
              "      <th>Epoch</th>\n",
              "      <th>Training Loss</th>\n",
              "      <th>Validation Loss</th>\n",
              "      <th>Accuracy</th>\n",
              "    </tr>\n",
              "  </thead>\n",
              "  <tbody>\n",
              "    <tr>\n",
              "      <td>1</td>\n",
              "      <td>0.970400</td>\n",
              "      <td>0.886441</td>\n",
              "      <td>0.590010</td>\n",
              "    </tr>\n",
              "    <tr>\n",
              "      <td>2</td>\n",
              "      <td>0.863800</td>\n",
              "      <td>0.854075</td>\n",
              "      <td>0.615984</td>\n",
              "    </tr>\n",
              "    <tr>\n",
              "      <td>3</td>\n",
              "      <td>0.804100</td>\n",
              "      <td>0.852634</td>\n",
              "      <td>0.622146</td>\n",
              "    </tr>\n",
              "    <tr>\n",
              "      <td>4</td>\n",
              "      <td>0.754700</td>\n",
              "      <td>0.861531</td>\n",
              "      <td>0.620619</td>\n",
              "    </tr>\n",
              "    <tr>\n",
              "      <td>5</td>\n",
              "      <td>0.712100</td>\n",
              "      <td>0.862503</td>\n",
              "      <td>0.624578</td>\n",
              "    </tr>\n",
              "    <tr>\n",
              "      <td>6</td>\n",
              "      <td>0.672600</td>\n",
              "      <td>0.884875</td>\n",
              "      <td>0.623534</td>\n",
              "    </tr>\n",
              "    <tr>\n",
              "      <td>7</td>\n",
              "      <td>0.636100</td>\n",
              "      <td>0.945652</td>\n",
              "      <td>0.616582</td>\n",
              "    </tr>\n",
              "    <tr>\n",
              "      <td>8</td>\n",
              "      <td>0.603800</td>\n",
              "      <td>0.971114</td>\n",
              "      <td>0.615347</td>\n",
              "    </tr>\n",
              "    <tr>\n",
              "      <td>9</td>\n",
              "      <td>0.575600</td>\n",
              "      <td>1.001022</td>\n",
              "      <td>0.609032</td>\n",
              "    </tr>\n",
              "    <tr>\n",
              "      <td>10</td>\n",
              "      <td>0.552400</td>\n",
              "      <td>1.050365</td>\n",
              "      <td>0.608345</td>\n",
              "    </tr>\n",
              "  </tbody>\n",
              "</table><p>"
            ]
          },
          "metadata": {}
        },
        {
          "output_type": "execute_result",
          "data": {
            "text/plain": [
              "TrainOutput(global_step=24550, training_loss=0.7145562856017693, metrics={'train_runtime': 481.5063, 'train_samples_per_second': 6524.545, 'train_steps_per_second': 50.986, 'total_flos': 131446769265630.0, 'train_loss': 0.7145562856017693, 'epoch': 10.0})"
            ]
          },
          "metadata": {},
          "execution_count": 15
        }
      ]
    },
    {
      "cell_type": "markdown",
      "source": [
        "## [MY CODE] 학습 결과"
      ],
      "metadata": {
        "id": "x7bZWhZkesIG"
      }
    },
    {
      "cell_type": "code",
      "source": [
        "trainer.evaluate(mnli_val)"
      ],
      "metadata": {
        "id": "16mRdiEgeVPQ",
        "colab": {
          "base_uri": "https://localhost:8080/",
          "height": 148
        },
        "outputId": "03213c13-85ec-4ee5-fd27-475a60b511f0"
      },
      "execution_count": null,
      "outputs": [
        {
          "output_type": "display_data",
          "data": {
            "text/plain": [
              "<IPython.core.display.HTML object>"
            ],
            "text/html": [
              "\n",
              "    <div>\n",
              "      \n",
              "      <progress value='614' max='614' style='width:300px; height:20px; vertical-align: middle;'></progress>\n",
              "      [614/614 00:08]\n",
              "    </div>\n",
              "    "
            ]
          },
          "metadata": {}
        },
        {
          "output_type": "execute_result",
          "data": {
            "text/plain": [
              "{'eval_loss': 0.8526343107223511,\n",
              " 'eval_accuracy': 0.6221463948765613,\n",
              " 'eval_runtime': 8.1798,\n",
              " 'eval_samples_per_second': 9601.838,\n",
              " 'eval_steps_per_second': 75.063,\n",
              " 'epoch': 10.0}"
            ]
          },
          "metadata": {},
          "execution_count": 16
        }
      ]
    },
    {
      "cell_type": "code",
      "source": [
        "trainer.save_model()"
      ],
      "metadata": {
        "id": "kRVBuZ4bl4N1"
      },
      "execution_count": null,
      "outputs": []
    },
    {
      "cell_type": "code",
      "source": [
        "results = trainer.evaluate(mnli_val)\n",
        "validation_accuracy = results['eval_accuracy']\n",
        "print(f\"Validation Matched 정확도 : {validation_accuracy:.3f}\")"
      ],
      "metadata": {
        "colab": {
          "base_uri": "https://localhost:8080/",
          "height": 56
        },
        "id": "OVhP9bbcoTfa",
        "outputId": "2e14bea0-4e86-4b12-e663-7e269f90b579"
      },
      "execution_count": null,
      "outputs": [
        {
          "output_type": "display_data",
          "data": {
            "text/plain": [
              "<IPython.core.display.HTML object>"
            ],
            "text/html": [
              "\n",
              "    <div>\n",
              "      \n",
              "      <progress value='1842' max='614' style='width:300px; height:20px; vertical-align: middle;'></progress>\n",
              "      [614/614 01:49]\n",
              "    </div>\n",
              "    "
            ]
          },
          "metadata": {}
        },
        {
          "output_type": "stream",
          "name": "stdout",
          "text": [
            "Validation Matched 정확도 : 0.622\n"
          ]
        }
      ]
    },
    {
      "cell_type": "markdown",
      "source": [
        "## [LOG] 최종 accuracy 0.622\n"
      ],
      "metadata": {
        "id": "_S7VnUWBh4Nk"
      }
    },
    {
      "cell_type": "markdown",
      "source": [
        "# Train loss는 감소하는데 accuracy는 왜 증가를 하지않는지 궁금합니다"
      ],
      "metadata": {
        "id": "lq7ltl9rFgKn"
      }
    },
    {
      "cell_type": "code",
      "source": [],
      "metadata": {
        "id": "Tp7Uru08paY3"
      },
      "execution_count": null,
      "outputs": []
    }
  ]
}
